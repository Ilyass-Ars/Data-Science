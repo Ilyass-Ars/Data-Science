{
 "cells": [
  {
   "cell_type": "code",
   "execution_count": 2,
   "metadata": {},
   "outputs": [],
   "source": [
    "import numpy as np\n",
    "import pandas as pd\n",
    "import matplotlib.pyplot as plt\n",
    "import seaborn as sns"
   ]
  },
  {
   "cell_type": "code",
   "execution_count": 3,
   "metadata": {},
   "outputs": [
    {
     "data": {
      "text/html": [
       "<div>\n",
       "<style scoped>\n",
       "    .dataframe tbody tr th:only-of-type {\n",
       "        vertical-align: middle;\n",
       "    }\n",
       "\n",
       "    .dataframe tbody tr th {\n",
       "        vertical-align: top;\n",
       "    }\n",
       "\n",
       "    .dataframe thead th {\n",
       "        text-align: right;\n",
       "    }\n",
       "</style>\n",
       "<table border=\"1\" class=\"dataframe\">\n",
       "  <thead>\n",
       "    <tr style=\"text-align: right;\">\n",
       "      <th></th>\n",
       "      <th>city</th>\n",
       "      <th>year</th>\n",
       "      <th>weekofyear</th>\n",
       "      <th>week_start_date</th>\n",
       "      <th>ndvi_ne</th>\n",
       "      <th>ndvi_nw</th>\n",
       "      <th>ndvi_se</th>\n",
       "      <th>ndvi_sw</th>\n",
       "      <th>precipitation_amt_mm</th>\n",
       "      <th>reanalysis_air_temp_k</th>\n",
       "      <th>...</th>\n",
       "      <th>reanalysis_precip_amt_kg_per_m2</th>\n",
       "      <th>reanalysis_relative_humidity_percent</th>\n",
       "      <th>reanalysis_sat_precip_amt_mm</th>\n",
       "      <th>reanalysis_specific_humidity_g_per_kg</th>\n",
       "      <th>reanalysis_tdtr_k</th>\n",
       "      <th>station_avg_temp_c</th>\n",
       "      <th>station_diur_temp_rng_c</th>\n",
       "      <th>station_max_temp_c</th>\n",
       "      <th>station_min_temp_c</th>\n",
       "      <th>station_precip_mm</th>\n",
       "    </tr>\n",
       "  </thead>\n",
       "  <tbody>\n",
       "    <tr>\n",
       "      <th>0</th>\n",
       "      <td>sj</td>\n",
       "      <td>1990</td>\n",
       "      <td>18</td>\n",
       "      <td>1990-04-30</td>\n",
       "      <td>0.122600</td>\n",
       "      <td>0.103725</td>\n",
       "      <td>0.198483</td>\n",
       "      <td>0.177617</td>\n",
       "      <td>12.42</td>\n",
       "      <td>297.572857</td>\n",
       "      <td>...</td>\n",
       "      <td>32.00</td>\n",
       "      <td>73.365714</td>\n",
       "      <td>12.42</td>\n",
       "      <td>14.012857</td>\n",
       "      <td>2.628571</td>\n",
       "      <td>25.442857</td>\n",
       "      <td>6.900000</td>\n",
       "      <td>29.4</td>\n",
       "      <td>20.0</td>\n",
       "      <td>16.0</td>\n",
       "    </tr>\n",
       "    <tr>\n",
       "      <th>1</th>\n",
       "      <td>sj</td>\n",
       "      <td>1990</td>\n",
       "      <td>19</td>\n",
       "      <td>1990-05-07</td>\n",
       "      <td>0.169900</td>\n",
       "      <td>0.142175</td>\n",
       "      <td>0.162357</td>\n",
       "      <td>0.155486</td>\n",
       "      <td>22.82</td>\n",
       "      <td>298.211429</td>\n",
       "      <td>...</td>\n",
       "      <td>17.94</td>\n",
       "      <td>77.368571</td>\n",
       "      <td>22.82</td>\n",
       "      <td>15.372857</td>\n",
       "      <td>2.371429</td>\n",
       "      <td>26.714286</td>\n",
       "      <td>6.371429</td>\n",
       "      <td>31.7</td>\n",
       "      <td>22.2</td>\n",
       "      <td>8.6</td>\n",
       "    </tr>\n",
       "    <tr>\n",
       "      <th>2</th>\n",
       "      <td>sj</td>\n",
       "      <td>1990</td>\n",
       "      <td>20</td>\n",
       "      <td>1990-05-14</td>\n",
       "      <td>0.032250</td>\n",
       "      <td>0.172967</td>\n",
       "      <td>0.157200</td>\n",
       "      <td>0.170843</td>\n",
       "      <td>34.54</td>\n",
       "      <td>298.781429</td>\n",
       "      <td>...</td>\n",
       "      <td>26.10</td>\n",
       "      <td>82.052857</td>\n",
       "      <td>34.54</td>\n",
       "      <td>16.848571</td>\n",
       "      <td>2.300000</td>\n",
       "      <td>26.714286</td>\n",
       "      <td>6.485714</td>\n",
       "      <td>32.2</td>\n",
       "      <td>22.8</td>\n",
       "      <td>41.4</td>\n",
       "    </tr>\n",
       "    <tr>\n",
       "      <th>3</th>\n",
       "      <td>sj</td>\n",
       "      <td>1990</td>\n",
       "      <td>21</td>\n",
       "      <td>1990-05-21</td>\n",
       "      <td>0.128633</td>\n",
       "      <td>0.245067</td>\n",
       "      <td>0.227557</td>\n",
       "      <td>0.235886</td>\n",
       "      <td>15.36</td>\n",
       "      <td>298.987143</td>\n",
       "      <td>...</td>\n",
       "      <td>13.90</td>\n",
       "      <td>80.337143</td>\n",
       "      <td>15.36</td>\n",
       "      <td>16.672857</td>\n",
       "      <td>2.428571</td>\n",
       "      <td>27.471429</td>\n",
       "      <td>6.771429</td>\n",
       "      <td>33.3</td>\n",
       "      <td>23.3</td>\n",
       "      <td>4.0</td>\n",
       "    </tr>\n",
       "    <tr>\n",
       "      <th>4</th>\n",
       "      <td>sj</td>\n",
       "      <td>1990</td>\n",
       "      <td>22</td>\n",
       "      <td>1990-05-28</td>\n",
       "      <td>0.196200</td>\n",
       "      <td>0.262200</td>\n",
       "      <td>0.251200</td>\n",
       "      <td>0.247340</td>\n",
       "      <td>7.52</td>\n",
       "      <td>299.518571</td>\n",
       "      <td>...</td>\n",
       "      <td>12.20</td>\n",
       "      <td>80.460000</td>\n",
       "      <td>7.52</td>\n",
       "      <td>17.210000</td>\n",
       "      <td>3.014286</td>\n",
       "      <td>28.942857</td>\n",
       "      <td>9.371429</td>\n",
       "      <td>35.0</td>\n",
       "      <td>23.9</td>\n",
       "      <td>5.8</td>\n",
       "    </tr>\n",
       "  </tbody>\n",
       "</table>\n",
       "<p>5 rows × 24 columns</p>\n",
       "</div>"
      ],
      "text/plain": [
       "  city  year  weekofyear week_start_date   ndvi_ne   ndvi_nw   ndvi_se  \\\n",
       "0   sj  1990          18      1990-04-30  0.122600  0.103725  0.198483   \n",
       "1   sj  1990          19      1990-05-07  0.169900  0.142175  0.162357   \n",
       "2   sj  1990          20      1990-05-14  0.032250  0.172967  0.157200   \n",
       "3   sj  1990          21      1990-05-21  0.128633  0.245067  0.227557   \n",
       "4   sj  1990          22      1990-05-28  0.196200  0.262200  0.251200   \n",
       "\n",
       "    ndvi_sw  precipitation_amt_mm  reanalysis_air_temp_k  ...  \\\n",
       "0  0.177617                 12.42             297.572857  ...   \n",
       "1  0.155486                 22.82             298.211429  ...   \n",
       "2  0.170843                 34.54             298.781429  ...   \n",
       "3  0.235886                 15.36             298.987143  ...   \n",
       "4  0.247340                  7.52             299.518571  ...   \n",
       "\n",
       "   reanalysis_precip_amt_kg_per_m2  reanalysis_relative_humidity_percent  \\\n",
       "0                            32.00                             73.365714   \n",
       "1                            17.94                             77.368571   \n",
       "2                            26.10                             82.052857   \n",
       "3                            13.90                             80.337143   \n",
       "4                            12.20                             80.460000   \n",
       "\n",
       "   reanalysis_sat_precip_amt_mm  reanalysis_specific_humidity_g_per_kg  \\\n",
       "0                         12.42                              14.012857   \n",
       "1                         22.82                              15.372857   \n",
       "2                         34.54                              16.848571   \n",
       "3                         15.36                              16.672857   \n",
       "4                          7.52                              17.210000   \n",
       "\n",
       "   reanalysis_tdtr_k  station_avg_temp_c  station_diur_temp_rng_c  \\\n",
       "0           2.628571           25.442857                 6.900000   \n",
       "1           2.371429           26.714286                 6.371429   \n",
       "2           2.300000           26.714286                 6.485714   \n",
       "3           2.428571           27.471429                 6.771429   \n",
       "4           3.014286           28.942857                 9.371429   \n",
       "\n",
       "   station_max_temp_c  station_min_temp_c  station_precip_mm  \n",
       "0                29.4                20.0               16.0  \n",
       "1                31.7                22.2                8.6  \n",
       "2                32.2                22.8               41.4  \n",
       "3                33.3                23.3                4.0  \n",
       "4                35.0                23.9                5.8  \n",
       "\n",
       "[5 rows x 24 columns]"
      ]
     },
     "execution_count": 3,
     "metadata": {},
     "output_type": "execute_result"
    }
   ],
   "source": [
    "features = pd.read_csv('data/dengue_features_train.csv')\n",
    "labels = pd.read_csv('data/dengue_labels_train.csv')\n",
    "features.head()"
   ]
  },
  {
   "cell_type": "code",
   "execution_count": 4,
   "metadata": {},
   "outputs": [],
   "source": [
    "X = features.copy()\n",
    "y = labels.copy()\n",
    "X['week_start_date']= pd.to_datetime(X['week_start_date'], format='%Y-%m-%d')\n",
    "X['total_cases'] = y['total_cases']\n"
   ]
  },
  {
   "cell_type": "code",
   "execution_count": 8,
   "metadata": {},
   "outputs": [
    {
     "name": "stdout",
     "output_type": "stream",
     "text": [
      "1456\n"
     ]
    },
    {
     "data": {
      "image/png": "[encoded data removed]",
      "text/plain": [
       "<Figure size 432x288 with 1 Axes>"
      ]
     },
     "metadata": {
      "needs_background": "light"
     },
     "output_type": "display_data"
    }
   ],
   "source": [
    "# Traitement NaN\n",
    "X = X.dropna(axis=0)\n",
    "sns.heatmap(X.isna(),cbar=False)"
   ]
  },
  {
   "cell_type": "code",
   "execution_count": 5,
   "metadata": {},
   "outputs": [],
   "source": [
    "#Dataframe \"sj\" San Juan\n",
    "X_sj = X[X['city']=='sj']\n",
    "X_iq = X[X['city']=='iq']\n",
    "\n",
    "X_sj = X_sj.drop(['city'], axis=1)\n",
    "X_iq = X_iq.drop(['city'], axis=1)\n",
    "\n",
    "# WARNING : date vs normalisation ( peut etre renmplacer par le 'weekofyear')\n",
    "X_sj = X_sj.drop(['week_start_date'], axis=1)\n",
    "X_iq = X_iq.drop(['week_start_date'], axis=1)\n",
    "\n",
    "y_sj = X_sj['total_cases']\n",
    "y_iq = X_iq['total_cases']\n",
    "\n",
    "X_sj = X_sj.drop(['total_cases'], axis=1)"
   ]
  },
  {
   "cell_type": "code",
   "execution_count": 6,
   "metadata": {},
   "outputs": [
    {
     "data": {
      "text/html": [
       "<div>\n",
       "<style scoped>\n",
       "    .dataframe tbody tr th:only-of-type {\n",
       "        vertical-align: middle;\n",
       "    }\n",
       "\n",
       "    .dataframe tbody tr th {\n",
       "        vertical-align: top;\n",
       "    }\n",
       "\n",
       "    .dataframe thead th {\n",
       "        text-align: right;\n",
       "    }\n",
       "</style>\n",
       "<table border=\"1\" class=\"dataframe\">\n",
       "  <thead>\n",
       "    <tr style=\"text-align: right;\">\n",
       "      <th></th>\n",
       "      <th>year</th>\n",
       "      <th>weekofyear</th>\n",
       "      <th>ndvi_ne</th>\n",
       "      <th>ndvi_nw</th>\n",
       "      <th>ndvi_se</th>\n",
       "      <th>ndvi_sw</th>\n",
       "      <th>precipitation_amt_mm</th>\n",
       "      <th>reanalysis_air_temp_k</th>\n",
       "      <th>reanalysis_avg_temp_k</th>\n",
       "      <th>reanalysis_dew_point_temp_k</th>\n",
       "      <th>...</th>\n",
       "      <th>reanalysis_precip_amt_kg_per_m2</th>\n",
       "      <th>reanalysis_relative_humidity_percent</th>\n",
       "      <th>reanalysis_sat_precip_amt_mm</th>\n",
       "      <th>reanalysis_specific_humidity_g_per_kg</th>\n",
       "      <th>reanalysis_tdtr_k</th>\n",
       "      <th>station_avg_temp_c</th>\n",
       "      <th>station_diur_temp_rng_c</th>\n",
       "      <th>station_max_temp_c</th>\n",
       "      <th>station_min_temp_c</th>\n",
       "      <th>station_precip_mm</th>\n",
       "    </tr>\n",
       "  </thead>\n",
       "  <tbody>\n",
       "    <tr>\n",
       "      <th>0</th>\n",
       "      <td>1990</td>\n",
       "      <td>18</td>\n",
       "      <td>0.122600</td>\n",
       "      <td>0.103725</td>\n",
       "      <td>0.198483</td>\n",
       "      <td>0.177617</td>\n",
       "      <td>12.42</td>\n",
       "      <td>297.572857</td>\n",
       "      <td>297.742857</td>\n",
       "      <td>292.414286</td>\n",
       "      <td>...</td>\n",
       "      <td>32.00</td>\n",
       "      <td>73.365714</td>\n",
       "      <td>12.42</td>\n",
       "      <td>14.012857</td>\n",
       "      <td>2.628571</td>\n",
       "      <td>25.442857</td>\n",
       "      <td>6.900000</td>\n",
       "      <td>29.4</td>\n",
       "      <td>20.0</td>\n",
       "      <td>16.0</td>\n",
       "    </tr>\n",
       "    <tr>\n",
       "      <th>1</th>\n",
       "      <td>1990</td>\n",
       "      <td>19</td>\n",
       "      <td>0.169900</td>\n",
       "      <td>0.142175</td>\n",
       "      <td>0.162357</td>\n",
       "      <td>0.155486</td>\n",
       "      <td>22.82</td>\n",
       "      <td>298.211429</td>\n",
       "      <td>298.442857</td>\n",
       "      <td>293.951429</td>\n",
       "      <td>...</td>\n",
       "      <td>17.94</td>\n",
       "      <td>77.368571</td>\n",
       "      <td>22.82</td>\n",
       "      <td>15.372857</td>\n",
       "      <td>2.371429</td>\n",
       "      <td>26.714286</td>\n",
       "      <td>6.371429</td>\n",
       "      <td>31.7</td>\n",
       "      <td>22.2</td>\n",
       "      <td>8.6</td>\n",
       "    </tr>\n",
       "    <tr>\n",
       "      <th>2</th>\n",
       "      <td>1990</td>\n",
       "      <td>20</td>\n",
       "      <td>0.032250</td>\n",
       "      <td>0.172967</td>\n",
       "      <td>0.157200</td>\n",
       "      <td>0.170843</td>\n",
       "      <td>34.54</td>\n",
       "      <td>298.781429</td>\n",
       "      <td>298.878571</td>\n",
       "      <td>295.434286</td>\n",
       "      <td>...</td>\n",
       "      <td>26.10</td>\n",
       "      <td>82.052857</td>\n",
       "      <td>34.54</td>\n",
       "      <td>16.848571</td>\n",
       "      <td>2.300000</td>\n",
       "      <td>26.714286</td>\n",
       "      <td>6.485714</td>\n",
       "      <td>32.2</td>\n",
       "      <td>22.8</td>\n",
       "      <td>41.4</td>\n",
       "    </tr>\n",
       "    <tr>\n",
       "      <th>3</th>\n",
       "      <td>1990</td>\n",
       "      <td>21</td>\n",
       "      <td>0.128633</td>\n",
       "      <td>0.245067</td>\n",
       "      <td>0.227557</td>\n",
       "      <td>0.235886</td>\n",
       "      <td>15.36</td>\n",
       "      <td>298.987143</td>\n",
       "      <td>299.228571</td>\n",
       "      <td>295.310000</td>\n",
       "      <td>...</td>\n",
       "      <td>13.90</td>\n",
       "      <td>80.337143</td>\n",
       "      <td>15.36</td>\n",
       "      <td>16.672857</td>\n",
       "      <td>2.428571</td>\n",
       "      <td>27.471429</td>\n",
       "      <td>6.771429</td>\n",
       "      <td>33.3</td>\n",
       "      <td>23.3</td>\n",
       "      <td>4.0</td>\n",
       "    </tr>\n",
       "    <tr>\n",
       "      <th>4</th>\n",
       "      <td>1990</td>\n",
       "      <td>22</td>\n",
       "      <td>0.196200</td>\n",
       "      <td>0.262200</td>\n",
       "      <td>0.251200</td>\n",
       "      <td>0.247340</td>\n",
       "      <td>7.52</td>\n",
       "      <td>299.518571</td>\n",
       "      <td>299.664286</td>\n",
       "      <td>295.821429</td>\n",
       "      <td>...</td>\n",
       "      <td>12.20</td>\n",
       "      <td>80.460000</td>\n",
       "      <td>7.52</td>\n",
       "      <td>17.210000</td>\n",
       "      <td>3.014286</td>\n",
       "      <td>28.942857</td>\n",
       "      <td>9.371429</td>\n",
       "      <td>35.0</td>\n",
       "      <td>23.9</td>\n",
       "      <td>5.8</td>\n",
       "    </tr>\n",
       "  </tbody>\n",
       "</table>\n",
       "<p>5 rows × 22 columns</p>\n",
       "</div>"
      ],
      "text/plain": [
       "   year  weekofyear   ndvi_ne   ndvi_nw   ndvi_se   ndvi_sw  \\\n",
       "0  1990          18  0.122600  0.103725  0.198483  0.177617   \n",
       "1  1990          19  0.169900  0.142175  0.162357  0.155486   \n",
       "2  1990          20  0.032250  0.172967  0.157200  0.170843   \n",
       "3  1990          21  0.128633  0.245067  0.227557  0.235886   \n",
       "4  1990          22  0.196200  0.262200  0.251200  0.247340   \n",
       "\n",
       "   precipitation_amt_mm  reanalysis_air_temp_k  reanalysis_avg_temp_k  \\\n",
       "0                 12.42             297.572857             297.742857   \n",
       "1                 22.82             298.211429             298.442857   \n",
       "2                 34.54             298.781429             298.878571   \n",
       "3                 15.36             298.987143             299.228571   \n",
       "4                  7.52             299.518571             299.664286   \n",
       "\n",
       "   reanalysis_dew_point_temp_k  ...  reanalysis_precip_amt_kg_per_m2  \\\n",
       "0                   292.414286  ...                            32.00   \n",
       "1                   293.951429  ...                            17.94   \n",
       "2                   295.434286  ...                            26.10   \n",
       "3                   295.310000  ...                            13.90   \n",
       "4                   295.821429  ...                            12.20   \n",
       "\n",
       "   reanalysis_relative_humidity_percent  reanalysis_sat_precip_amt_mm  \\\n",
       "0                             73.365714                         12.42   \n",
       "1                             77.368571                         22.82   \n",
       "2                             82.052857                         34.54   \n",
       "3                             80.337143                         15.36   \n",
       "4                             80.460000                          7.52   \n",
       "\n",
       "   reanalysis_specific_humidity_g_per_kg  reanalysis_tdtr_k  \\\n",
       "0                              14.012857           2.628571   \n",
       "1                              15.372857           2.371429   \n",
       "2                              16.848571           2.300000   \n",
       "3                              16.672857           2.428571   \n",
       "4                              17.210000           3.014286   \n",
       "\n",
       "   station_avg_temp_c  station_diur_temp_rng_c  station_max_temp_c  \\\n",
       "0           25.442857                 6.900000                29.4   \n",
       "1           26.714286                 6.371429                31.7   \n",
       "2           26.714286                 6.485714                32.2   \n",
       "3           27.471429                 6.771429                33.3   \n",
       "4           28.942857                 9.371429                35.0   \n",
       "\n",
       "   station_min_temp_c  station_precip_mm  \n",
       "0                20.0               16.0  \n",
       "1                22.2                8.6  \n",
       "2                22.8               41.4  \n",
       "3                23.3                4.0  \n",
       "4                23.9                5.8  \n",
       "\n",
       "[5 rows x 22 columns]"
      ]
     },
     "execution_count": 6,
     "metadata": {},
     "output_type": "execute_result"
    }
   ],
   "source": [
    "X_sj.head()"
   ]
  },
  {
   "cell_type": "code",
   "execution_count": 7,
   "metadata": {},
   "outputs": [],
   "source": [
    "#Standardisation des features\n",
    "from sklearn import preprocessing\n",
    "std_scale = preprocessing.StandardScaler().fit(X_sj)\n",
    "X_sj_scale = std_scale.transform(X_sj) #contient nos données normalisés"
   ]
  },
  {
   "cell_type": "code",
   "execution_count": 8,
   "metadata": {},
   "outputs": [],
   "source": [
    "# Séparation train et test\n",
    "from sklearn.model_selection import train_test_split\n",
    "X_sj_train, X_sj_test, y_sj_train, y_sj_test = train_test_split(X_sj_scale, y_sj, test_size=0.25)"
   ]
  },
  {
   "cell_type": "code",
   "execution_count": 9,
   "metadata": {},
   "outputs": [
    {
     "name": "stdout",
     "output_type": "stream",
     "text": [
      "(727, 22)\n",
      "(545, 22)\n",
      "(182, 22)\n"
     ]
    }
   ],
   "source": [
    "print(X_sj_scale.shape)\n",
    "print(X_sj_train.shape)\n",
    "print(X_sj_test.shape) #25%"
   ]
  },
  {
   "cell_type": "markdown",
   "metadata": {},
   "source": [
    "## Regression linearaire classique\n",
    "Notre \"Base line\" pour la comparer au prochaine regression qui seront \"regularisé\""
   ]
  },
  {
   "cell_type": "code",
   "execution_count": 10,
   "metadata": {},
   "outputs": [],
   "source": [
    "from sklearn import linear_model\n",
    "from sklearn.metrics import mean_absolute_error, mean_squared_error\n",
    "\n",
    "lr = linear_model.LinearRegression()\n",
    "lr.fit(X_sj_train,y_sj_train)\n",
    "lr_pred = lr.predict(X_sj_test)"
   ]
  },
  {
   "cell_type": "code",
   "execution_count": 11,
   "metadata": {},
   "outputs": [
    {
     "name": "stdout",
     "output_type": "stream",
     "text": [
      "1087.8570783809512\n"
     ]
    }
   ],
   "source": [
    "baseline_mse = mean_squared_error(y_sj_test, lr_pred) #np.mean((lr_pred - y_sj_test) ** 2)\n",
    "print(baseline_mse)"
   ]
  },
  {
   "cell_type": "code",
   "execution_count": 12,
   "metadata": {},
   "outputs": [
    {
     "name": "stdout",
     "output_type": "stream",
     "text": [
      "18.460433715997308\n"
     ]
    }
   ],
   "source": [
    "baseline_mae = mean_absolute_error(y_sj_test, lr_pred)\n",
    "print(baseline_mae)"
   ]
  },
  {
   "cell_type": "markdown",
   "metadata": {},
   "source": [
    "## Regression Ridge"
   ]
  },
  {
   "cell_type": "code",
   "execution_count": 13,
   "metadata": {},
   "outputs": [
    {
     "data": {
      "text/plain": [
       "<AxesSubplot:>"
      ]
     },
     "execution_count": 13,
     "metadata": {},
     "output_type": "execute_result"
    },
    {
     "data": {
      "image/png": "[encoded data removed]",
      "text/plain": [
       "<Figure size 432x288 with 1 Axes>"
      ]
     },
     "metadata": {
      "needs_background": "light"
     },
     "output_type": "display_data"
    }
   ],
   "source": [
    "#hyperparametre de régularisation\n",
    "n_alphas = 50\n",
    "# alpha sur une echelle logarithmique entre 10^-5 et 10^5\n",
    "alphas = np.logspace(-5,5,50)\n",
    "sns.lineplot(x=range(50), y=alphas)"
   ]
  },
  {
   "cell_type": "code",
   "execution_count": 14,
   "metadata": {},
   "outputs": [],
   "source": [
    "ridge = linear_model.Ridge()\n",
    "coefs=[]\n",
    "errors_mse=[]\n",
    "errors_mae=[]\n",
    "\n",
    "for a in alphas:\n",
    "    ridge.set_params(alpha=a)\n",
    "    ridge.fit(X_sj_train,y_sj_train)#entrainement\n",
    "    ridge_pred = ridge.predict(X_sj_test)\n",
    "    coefs.append(ridge.coef_)#Tableau de coefficient associé a chaque variable de X\n",
    "    errors_mse.append(mean_squared_error(y_sj_test, ridge_pred))#Tableau d'erreur MSE\n",
    "    errors_mae.append(mean_absolute_error(y_sj_test, ridge_pred))#Tableau d'erreur MAE"
   ]
  },
  {
   "cell_type": "code",
   "execution_count": 15,
   "metadata": {},
   "outputs": [
    {
     "name": "stdout",
     "output_type": "stream",
     "text": [
      "[18.46044908517487, 18.4604583008087, 18.46047303875092, 18.460496602619596, 18.46053426374878, 18.46059441982431, 18.460690414957227, 18.460843366487293, 18.461086473377893, 18.461471375560034, 18.46207701999512, 18.463020721151572, 18.464468706237753, 18.466637734632272, 18.469768851199916, 18.474041900174697, 18.479401978298792, 18.485319776608723, 18.490611243078796, 18.495532914148974, 18.49883821361691, 18.499900256176822, 18.493769381865288, 18.48506037445629, 18.471414605381117, 18.484567301357036, 18.517103204065958, 18.580777427202296, 18.644301857447818, 18.72835320545231, 18.819725353305156, 18.936489826769574, 19.05645520938307, 19.163379667552103, 19.282922935610262, 19.427498197264658, 19.594202837641607, 19.74559345111592, 19.910154073409505, 20.090614621320764, 20.27058237059281, 20.48437953435002, 20.768946517628272, 21.120938280679756, 21.48870879688889, 21.82599967533821, 22.09830001878815, 22.29912123479335, 22.440001572285905, 22.53542699355975]\n"
     ]
    }
   ],
   "source": [
    "#print(coefs)\n",
    "#print(errors_mse)\n",
    "print(errors_mae)"
   ]
  },
  {
   "cell_type": "code",
   "execution_count": 16,
   "metadata": {},
   "outputs": [
    {
     "data": {
      "image/png": "[encoded data removed]",
      "text/plain": [
       "<Figure size 432x288 with 1 Axes>"
      ]
     },
     "metadata": {
      "needs_background": "light"
     },
     "output_type": "display_data"
    }
   ],
   "source": [
    "ax = plt.gca()\n",
    "ax.plot(alphas,errors_mse,  [10**-5, 10**5], [baseline_mse,baseline_mse])\n",
    "ax.set_xscale('log')\n",
    "plt.show()"
   ]
  },
  {
   "cell_type": "code",
   "execution_count": 17,
   "metadata": {},
   "outputs": [
    {
     "data": {
      "image/png": "[encoded data removed]",
      "text/plain": [
       "<Figure size 432x288 with 1 Axes>"
      ]
     },
     "metadata": {
      "needs_background": "light"
     },
     "output_type": "display_data"
    }
   ],
   "source": [
    "ax_mae = plt.gca()\n",
    "ax_mae.plot(alphas,errors_mae,  [10**-5, 10**5], [baseline_mae,baseline_mae])\n",
    "ax_mae.set_xscale('log')\n",
    "plt.show()"
   ]
  },
  {
   "cell_type": "code",
   "execution_count": 18,
   "metadata": {},
   "outputs": [
    {
     "name": "stdout",
     "output_type": "stream",
     "text": [
      "alpha:  0.30888435964774846 \n",
      "Ridge_mse: 1087.6263981394554 \n",
      "LR_mse: 1087.8570783809512\n"
     ]
    }
   ],
   "source": [
    "print('alpha: ',alphas[np.argmin(errors_mse)],'\\nRidge_mse:',np.min(errors_mse),'\\nLR_mse:', baseline_mse)"
   ]
  },
  {
   "cell_type": "code",
   "execution_count": 19,
   "metadata": {},
   "outputs": [
    {
     "name": "stdout",
     "output_type": "stream",
     "text": [
      "alpha:  1e-05 \n",
      "Ridge_mae: 18.46044908517487 \n",
      "LR_mae: 18.460433715997308\n"
     ]
    }
   ],
   "source": [
    "print('alpha: ',alphas[np.argmin(errors_mae)],'\\nRidge_mae:',np.min(errors_mae),'\\nLR_mae:', baseline_mae)"
   ]
  },
  {
   "cell_type": "code",
   "execution_count": 20,
   "metadata": {},
   "outputs": [
    {
     "data": {
      "image/png": "[encoded data removed]",
      "text/plain": [
       "<Figure size 432x288 with 1 Axes>"
      ]
     },
     "metadata": {
      "needs_background": "light"
     },
     "output_type": "display_data"
    }
   ],
   "source": [
    "#Chemin de régularisation\n",
    "ax_cr = plt.gca()\n",
    "ax_cr.plot(alphas,coefs)\n",
    "ax_cr.set_xscale('log')\n",
    "plt.show()\n",
    "#les parametres evoluent en fct du coefficient de regularisation\n",
    "#groupement de variable au centre qui doivent etre correlé, qui ont été regroupé par les coefficient\n"
   ]
  },
  {
   "cell_type": "markdown",
   "metadata": {},
   "source": [
    "## Regression Lasso"
   ]
  },
  {
   "cell_type": "code",
   "execution_count": 21,
   "metadata": {},
   "outputs": [],
   "source": [
    "#hyperparametre de régularisation ou régulation??\n",
    "n_alphas = 50\n",
    "# alpha sur une echelle logarithmique entre 10^-5 et 10^5\n",
    "alphas = np.logspace(-1,5,50)"
   ]
  },
  {
   "cell_type": "code",
   "execution_count": 22,
   "metadata": {},
   "outputs": [],
   "source": [
    "lasso = linear_model.Lasso()\n",
    "lasso_coefs=[]\n",
    "lasso_errors_mse=[]\n",
    "lasso_errors_mae=[]\n",
    "\n",
    "for a in alphas:\n",
    "    lasso.set_params(alpha=a)\n",
    "    lasso.fit(X_sj_train,y_sj_train)#entrainement\n",
    "    lasso_pred = lasso.predict(X_sj_test)\n",
    "    lasso_coefs.append(lasso.coef_)#Tableau de coefficient associé a chaque variable de X\n",
    "    lasso_errors_mse.append(mean_squared_error(y_sj_test, lasso_pred))#Tableau d'erreur MSE\n",
    "    lasso_errors_mae.append(mean_absolute_error(y_sj_test, lasso_pred))#Tableau d'erreur MAE"
   ]
  },
  {
   "cell_type": "code",
   "execution_count": 23,
   "metadata": {},
   "outputs": [
    {
     "data": {
      "image/png": "[encoded data removed]",
      "text/plain": [
       "<Figure size 432x288 with 1 Axes>"
      ]
     },
     "metadata": {
      "needs_background": "light"
     },
     "output_type": "display_data"
    }
   ],
   "source": [
    "ax = plt.gca()\n",
    "ax.plot(alphas,lasso_errors_mse,  [10**-1, 10**5], [baseline_mse,baseline_mse])\n",
    "ax.set_xscale('log')\n",
    "plt.show()"
   ]
  },
  {
   "cell_type": "code",
   "execution_count": 24,
   "metadata": {},
   "outputs": [
    {
     "data": {
      "image/png": "[encoded data removed]",
      "text/plain": [
       "<Figure size 432x288 with 1 Axes>"
      ]
     },
     "metadata": {
      "needs_background": "light"
     },
     "output_type": "display_data"
    }
   ],
   "source": [
    "ax_mae = plt.gca()\n",
    "ax_mae.plot(alphas,lasso_errors_mae,  [10**-1, 10**5], [baseline_mae,baseline_mae])\n",
    "ax_mae.set_xscale('log')\n",
    "plt.show()"
   ]
  },
  {
   "cell_type": "code",
   "execution_count": 25,
   "metadata": {},
   "outputs": [
    {
     "name": "stdout",
     "output_type": "stream",
     "text": [
      "alpha:  0.1 \n",
      "Lasso_mse: 1093.015972724826 \n",
      "LR_mse: 1087.8570783809512\n"
     ]
    }
   ],
   "source": [
    "print('alpha: ',alphas[np.argmin(lasso_errors_mse)],'\\nLasso_mse:',np.min(lasso_errors_mse),'\\nLR_mse:', baseline_mse)"
   ]
  },
  {
   "cell_type": "code",
   "execution_count": 26,
   "metadata": {},
   "outputs": [
    {
     "name": "stdout",
     "output_type": "stream",
     "text": [
      "alpha:  0.1 \n",
      "Lasso_mae: 18.470725854744664 \n",
      "LR_mae: 18.460433715997308\n"
     ]
    }
   ],
   "source": [
    "print('alpha: ',alphas[np.argmin(lasso_errors_mae)],'\\nLasso_mae:',np.min(lasso_errors_mae),'\\nLR_mae:', baseline_mae)"
   ]
  },
  {
   "cell_type": "code",
   "execution_count": 27,
   "metadata": {},
   "outputs": [
    {
     "data": {
      "image/png": "[encoded data removed]",
      "text/plain": [
       "<Figure size 432x288 with 1 Axes>"
      ]
     },
     "metadata": {
      "needs_background": "light"
     },
     "output_type": "display_data"
    }
   ],
   "source": [
    "#Chemin de régularisation\n",
    "ax_cr = plt.gca()\n",
    "ax_cr.plot(alphas,lasso_coefs)\n",
    "ax_cr.set_xscale('log')\n",
    "plt.show()\n",
    "#Lasso elimine les variable qui ne l'interesse pas...(qui sont corrélé entre elle)\n",
    "#effet de selection de variable du Lasso"
   ]
  },
  {
   "cell_type": "code",
   "execution_count": 28,
   "metadata": {},
   "outputs": [],
   "source": [
    "#faire une CrossValidation\n",
    "#utiliser RidgeCv et LassoCv pour selectionner les hyperparametre optimaux"
   ]
  },
  {
   "cell_type": "markdown",
   "metadata": {},
   "source": [
    "## Regression Elastic Net"
   ]
  },
  {
   "cell_type": "code",
   "execution_count": 29,
   "metadata": {},
   "outputs": [],
   "source": [
    "#hyperparametre de régularisation ou régulation??\n",
    "n_alphas = 50\n",
    "# alpha sur une echelle logarithmique entre 10^-5 et 10^5\n",
    "alphas = np.logspace(-1,5,50)"
   ]
  },
  {
   "cell_type": "code",
   "execution_count": 30,
   "metadata": {},
   "outputs": [],
   "source": [
    "en = linear_model.Lasso()\n",
    "en_coefs=[]\n",
    "en_errors_mse=[]\n",
    "en_errors_mae=[]\n",
    "\n",
    "for a in alphas:\n",
    "    en.set_params(alpha=a)\n",
    "    en.fit(X_sj_train,y_sj_train)#entrainement\n",
    "    en_pred = en.predict(X_sj_test)\n",
    "    en_coefs.append(en.coef_)#Tableau de coefficient associé a chaque variable de X\n",
    "    en_errors_mse.append(mean_squared_error(y_sj_test, en_pred))#Tableau d'erreur MSE\n",
    "    en_errors_mae.append(mean_absolute_error(y_sj_test, en_pred))#Tableau d'erreur MAE"
   ]
  },
  {
   "cell_type": "code",
   "execution_count": 31,
   "metadata": {},
   "outputs": [
    {
     "data": {
      "image/png": "[encoded data removed]",
      "text/plain": [
       "<Figure size 432x288 with 1 Axes>"
      ]
     },
     "metadata": {
      "needs_background": "light"
     },
     "output_type": "display_data"
    }
   ],
   "source": [
    "ax = plt.gca()\n",
    "ax.plot(alphas,en_errors_mse,  [10**-1, 10**5], [baseline_mse,baseline_mse])\n",
    "ax.set_xscale('log')\n",
    "plt.show()"
   ]
  },
  {
   "cell_type": "code",
   "execution_count": 32,
   "metadata": {},
   "outputs": [
    {
     "data": {
      "image/png": "[encoded data removed]",
      "text/plain": [
       "<Figure size 432x288 with 1 Axes>"
      ]
     },
     "metadata": {
      "needs_background": "light"
     },
     "output_type": "display_data"
    }
   ],
   "source": [
    "ax_mae = plt.gca()\n",
    "ax_mae.plot(alphas,en_errors_mae,  [10**-1, 10**5], [baseline_mae,baseline_mae])\n",
    "ax_mae.set_xscale('log')\n",
    "plt.show()"
   ]
  },
  {
   "cell_type": "code",
   "execution_count": 33,
   "metadata": {},
   "outputs": [
    {
     "name": "stdout",
     "output_type": "stream",
     "text": [
      "alpha:  0.1 \n",
      "en_mse: 1093.015972724826 \n",
      "LR_mse: 1087.8570783809512\n"
     ]
    }
   ],
   "source": [
    "print('alpha: ',alphas[np.argmin(en_errors_mse)],'\\nen_mse:',np.min(en_errors_mse),'\\nLR_mse:', baseline_mse)"
   ]
  },
  {
   "cell_type": "code",
   "execution_count": 34,
   "metadata": {
    "scrolled": true
   },
   "outputs": [
    {
     "name": "stdout",
     "output_type": "stream",
     "text": [
      "alpha:  0.1 \n",
      "en_mae: 18.470725854744664 \n",
      "LR_mae: 18.460433715997308\n"
     ]
    }
   ],
   "source": [
    "print('alpha: ',alphas[np.argmin(en_errors_mae)],'\\nen_mae:',np.min(en_errors_mae),'\\nLR_mae:', baseline_mae)"
   ]
  },
  {
   "cell_type": "code",
   "execution_count": 35,
   "metadata": {
    "scrolled": true
   },
   "outputs": [
    {
     "data": {
      "image/png": "[encoded data removed]",
      "text/plain": [
       "<Figure size 432x288 with 1 Axes>"
      ]
     },
     "metadata": {
      "needs_background": "light"
     },
     "output_type": "display_data"
    }
   ],
   "source": [
    "#Chemin de régularisation\n",
    "ax_cr = plt.gca()\n",
    "ax_cr.plot(alphas,en_coefs)\n",
    "ax_cr.set_xscale('log')\n",
    "plt.show()\n",
    "#Lasso elimine les variable qui ne l'interesse pas...(qui sont corrélé entre elle)\n",
    "#effet de selection de variable du Lasso"
   ]
  },
  {
   "cell_type": "code",
   "execution_count": 36,
   "metadata": {},
   "outputs": [],
   "source": [
    "#LinearSVR"
   ]
  },
  {
   "cell_type": "markdown",
   "metadata": {},
   "source": [
    "# Evaluation et amélioration des performance (modèle linéaire)\n",
    "- Eviter le sur-apprentissage (apprend bien mais n'arrive pas a generaliser... inefficace sur de nouvelle données)\n",
    "- Choisir une ou plusieurs mesures de la performance d'un algorithme d'apprentissage supervisé, adaptées à la question posée\n",
    "\n",
    "- Mettre en place une procédure de validation qui réduise le risque de sur-apprentissage (séparation du jeu d'apprentissage et de validation, validation croisée)\n",
    "\n",
    "- Mettre en place une procédure de grille de recherche (grid search) pour choisir les hyperparamètres d'un algorithme\n",
    "\n",
    "### Ce qui fait un bon modèle d’apprentissage\n",
    "- En apprentissage supervisé, le but est de produire des modèles qui généralisent, c’est-à-dire qui sont capables de faire de bonnes prédictions sur de nouvelles données\n",
    "\n",
    "- De bonnes performances sur le jeu d’entraînement ne garantissent pas que le modèle sera capable de généraliser !\n",
    "\n",
    "- On cherche à développer un modèle qui soit suffisamment complexe pour bien capturer la nature des données (et éviter ainsi le sous-apprentissage), mais suffisamment simple pour éviter le sur-apprentissage.\n",
    "\n",
    "- Attention aux contraintes de temps de calcul et aux ressources en mémoire !\n",
    "\n",
    "### Mettez en place un cadre de validation croisée\n",
    "- Il ne faut jamais évaluer un modèle sur des points qui ont été utilisés pour l’entraîner.\n",
    "\n",
    "- On sépare donc les données entre un jeu d’entraînement, sur lequel on apprend le modèle, et un jeu de test, sur lequel on l’évalue.\n",
    "\n",
    "- Pour utiliser l’intégralité de nos données pour entraîner et pour tester, et pour éviter un biais potentiel lié au fait de faire une évaluation unique, on préfère faire une validation croisée.\n",
    "\n",
    "- Dans le cas d’un problème de classification, on fait attention à stratifier la validation croisée pour éviter d’introduire des biais.\n",
    "\n",
    "### Évaluez un algorithme de régression\n",
    "Pour évaluer un modèle de régression, on peut calculer la distance entre valeurs prédites et vraies valeurs. Cela nous donne :\n",
    "\n",
    "- la somme des carrés des résidus (RSS) ;\n",
    "\n",
    "- la moyenne de cette somme (MSE) ;\n",
    "\n",
    "- la racine carrée de cette moyenne (RMSE).\n",
    "\n",
    "On peut préférer calculer la corrélation entre valeurs prédites et vraies valeurs :\n",
    "\n",
    "- l'erreur carrée relative (RSE) est la RSS normalisée par la somme des carrés des distances entre les étiquettes et leur moyenne ;\n",
    "\n",
    "- elle est le complément à 1 du coefficient de détermination (R2), qui est le carré de la corrélation de Pearson entre valeurs prédites et vraies valeurs."
   ]
  },
  {
   "cell_type": "code",
   "execution_count": 37,
   "metadata": {},
   "outputs": [
    {
     "data": {
      "text/plain": [
       "year                                       int64\n",
       "weekofyear                                 int64\n",
       "ndvi_ne                                  float64\n",
       "ndvi_nw                                  float64\n",
       "ndvi_se                                  float64\n",
       "ndvi_sw                                  float64\n",
       "precipitation_amt_mm                     float64\n",
       "reanalysis_air_temp_k                    float64\n",
       "reanalysis_avg_temp_k                    float64\n",
       "reanalysis_dew_point_temp_k              float64\n",
       "reanalysis_max_air_temp_k                float64\n",
       "reanalysis_min_air_temp_k                float64\n",
       "reanalysis_precip_amt_kg_per_m2          float64\n",
       "reanalysis_relative_humidity_percent     float64\n",
       "reanalysis_sat_precip_amt_mm             float64\n",
       "reanalysis_specific_humidity_g_per_kg    float64\n",
       "reanalysis_tdtr_k                        float64\n",
       "station_avg_temp_c                       float64\n",
       "station_diur_temp_rng_c                  float64\n",
       "station_max_temp_c                       float64\n",
       "station_min_temp_c                       float64\n",
       "station_precip_mm                        float64\n",
       "dtype: object"
      ]
     },
     "execution_count": 37,
     "metadata": {},
     "output_type": "execute_result"
    }
   ],
   "source": [
    "X_sj.dtypes"
   ]
  },
  {
   "cell_type": "code",
   "execution_count": 38,
   "metadata": {},
   "outputs": [
    {
     "data": {
      "text/plain": [
       "(727,)"
      ]
     },
     "execution_count": 38,
     "metadata": {},
     "output_type": "execute_result"
    }
   ],
   "source": [
    "y_sj.shape"
   ]
  },
  {
   "cell_type": "code",
   "execution_count": 39,
   "metadata": {},
   "outputs": [
    {
     "data": {
      "text/plain": [
       "(727, 22)"
      ]
     },
     "execution_count": 39,
     "metadata": {},
     "output_type": "execute_result"
    }
   ],
   "source": [
    "X_sj.shape"
   ]
  },
  {
   "cell_type": "code",
   "execution_count": 41,
   "metadata": {},
   "outputs": [
    {
     "data": {
      "image/png": "[encoded data removed]",
      "text/plain": [
       "<Figure size 1152x1728 with 22 Axes>"
      ]
     },
     "metadata": {
      "needs_background": "light"
     },
     "output_type": "display_data"
    }
   ],
   "source": [
    "fig= plt.figure(figsize=(16,24))\n",
    "for feat_idx in range(X_sj.shape[1]):\n",
    "    ax=fig.add_subplot(6,4,(feat_idx+1))\n",
    "    h = ax.hist(X_sj.iloc[:,feat_idx], bins=50, color='steelblue', edgecolor='none', density= True)\n",
    "    ax.set_title(X_sj.columns[feat_idx], fontsize=14)\n",
    "#histogramme normed? density? seaborn\n",
    "#certaine sont normalement distribué\n",
    "#x varie parfois [0: 0.5] ou [0:400] =>standardiser, sinon valeur trop grand prendront le pas sur les autre variable"
   ]
  },
  {
   "cell_type": "code",
   "execution_count": 42,
   "metadata": {},
   "outputs": [
    {
     "data": {
      "text/plain": [
       "<seaborn.axisgrid.FacetGrid at 0x2d167e199d0>"
      ]
     },
     "execution_count": 42,
     "metadata": {},
     "output_type": "execute_result"
    },
    {
     "data": {
      "image/png": "[encoded data removed]",
      "text/plain": [
       "<Figure size 360x360 with 1 Axes>"
      ]
     },
     "metadata": {
      "needs_background": "light"
     },
     "output_type": "display_data"
    }
   ],
   "source": [
    "sns.displot(data=y_sj)"
   ]
  },
  {
   "cell_type": "code",
   "execution_count": 43,
   "metadata": {},
   "outputs": [],
   "source": [
    "X1_sj_train, X1_sj_test, y1_sj_train, y1_sj_test = train_test_split(X_sj_scale, y_sj, test_size=0.3)"
   ]
  },
  {
   "cell_type": "code",
   "execution_count": 44,
   "metadata": {},
   "outputs": [],
   "source": [
    "#standardisation\n",
    "\n",
    "#Standardiseur\n",
    "std_scale = preprocessing.StandardScaler().fit(X1_sj_train)\n",
    "X1_sj_train_std = std_scale.transform(X1_sj_train)\n",
    "X1_sj_test_std = std_scale.transform(X1_sj_test)\n",
    "\n",
    "X1_sj_train_std= pd.DataFrame(data=X1_sj_train_std, columns=X_sj.columns)\n",
    "X1_sj_test_std= pd.DataFrame(data=X1_sj_test_std, columns=X_sj.columns)\n"
   ]
  },
  {
   "cell_type": "code",
   "execution_count": 46,
   "metadata": {},
   "outputs": [
    {
     "data": {
      "image/png": "[encoded data removed]",
      "text/plain": [
       "<Figure size 1152x1728 with 22 Axes>"
      ]
     },
     "metadata": {
      "needs_background": "light"
     },
     "output_type": "display_data"
    }
   ],
   "source": [
    "fig= plt.figure(figsize=(16,24))\n",
    "for feat_idx in range(X_sj.shape[1]):\n",
    "    ax=fig.add_subplot(6,4,(feat_idx+1))\n",
    "    h = ax.hist(X1_sj_train_std.iloc[:,feat_idx], bins=50, color='steelblue', edgecolor='none', density= True)\n",
    "    ax.set_title(X1_sj_train_std.columns[feat_idx], fontsize=14)"
   ]
  },
  {
   "cell_type": "code",
   "execution_count": 47,
   "metadata": {},
   "outputs": [],
   "source": [
    "from sklearn.model_selection import GridSearchCV\n",
    "from sklearn.model_selection import cross_validate"
   ]
  },
  {
   "cell_type": "code",
   "execution_count": 48,
   "metadata": {},
   "outputs": [],
   "source": [
    "reg_lr = cross_validate(linear_model.LinearRegression(), X1_sj_train_std, y1_sj_train, cv=5, scoring='neg_mean_absolute_error')"
   ]
  },
  {
   "cell_type": "code",
   "execution_count": 49,
   "metadata": {},
   "outputs": [
    {
     "data": {
      "text/plain": [
       "array([-20.8193343 , -20.44864541, -20.5526309 , -22.76448527,\n",
       "       -22.44698133])"
      ]
     },
     "execution_count": 49,
     "metadata": {},
     "output_type": "execute_result"
    }
   ],
   "source": [
    "reg_lr['test_score']"
   ]
  },
  {
   "cell_type": "code",
   "execution_count": 50,
   "metadata": {},
   "outputs": [],
   "source": [
    "reg = GridSearchCV(linear_model.Ridge(),\n",
    "                  {'alpha':np.linspace(0.0000001,1000000,1000)}, \n",
    "                   cv=5,\n",
    "                   scoring='neg_mean_absolute_error'\n",
    "                  )"
   ]
  },
  {
   "cell_type": "code",
   "execution_count": 51,
   "metadata": {},
   "outputs": [
    {
     "data": {
      "text/plain": [
       "GridSearchCV(cv=5, estimator=Ridge(),\n",
       "             param_grid={'alpha': array([1.00000000e-07, 1.00100100e+03, 2.00200200e+03, 3.00300300e+03,\n",
       "       4.00400400e+03, 5.00500501e+03, 6.00600601e+03, 7.00700701e+03,\n",
       "       8.00800801e+03, 9.00900901e+03, 1.00100100e+04, 1.10110110e+04,\n",
       "       1.20120120e+04, 1.30130130e+04, 1.40140140e+04, 1.50150150e+04,\n",
       "       1.60160160e+04, 1.70170170e+04, 1.80180180e+04, 1....\n",
       "       9.76976977e+05, 9.77977978e+05, 9.78978979e+05, 9.79979980e+05,\n",
       "       9.80980981e+05, 9.81981982e+05, 9.82982983e+05, 9.83983984e+05,\n",
       "       9.84984985e+05, 9.85985986e+05, 9.86986987e+05, 9.87987988e+05,\n",
       "       9.88988989e+05, 9.89989990e+05, 9.90990991e+05, 9.91991992e+05,\n",
       "       9.92992993e+05, 9.93993994e+05, 9.94994995e+05, 9.95995996e+05,\n",
       "       9.96996997e+05, 9.97997998e+05, 9.98998999e+05, 1.00000000e+06])},\n",
       "             scoring='neg_mean_absolute_error')"
      ]
     },
     "execution_count": 51,
     "metadata": {},
     "output_type": "execute_result"
    }
   ],
   "source": [
    "reg.fit(X1_sj_train_std, y1_sj_train)"
   ]
  },
  {
   "cell_type": "code",
   "execution_count": 52,
   "metadata": {},
   "outputs": [
    {
     "name": "stdout",
     "output_type": "stream",
     "text": [
      "{'alpha': 1e-07}\n",
      "-21.40641500819108\n"
     ]
    }
   ],
   "source": [
    "#quelle est le meilleur hyper_param selectionner?\n",
    "\n",
    "print(reg.best_params_)\n",
    "print(reg.best_score_)"
   ]
  },
  {
   "cell_type": "code",
   "execution_count": 53,
   "metadata": {},
   "outputs": [],
   "source": [
    "y_pred = reg.predict(X1_sj_test_std)"
   ]
  },
  {
   "cell_type": "code",
   "execution_count": 54,
   "metadata": {},
   "outputs": [
    {
     "name": "stdout",
     "output_type": "stream",
     "text": [
      "21.301617886005612\n"
     ]
    }
   ],
   "source": [
    "print(mean_absolute_error(y1_sj_test, y_pred))"
   ]
  },
  {
   "cell_type": "code",
   "execution_count": 55,
   "metadata": {},
   "outputs": [],
   "source": [
    "# lasso\n",
    "reg_lasso = GridSearchCV(linear_model.Lasso(),\n",
    "                  {'alpha':np.linspace(0.0000001,100000,1000)}, \n",
    "                   cv=5,\n",
    "                   scoring='neg_mean_absolute_error'\n",
    "                  )"
   ]
  },
  {
   "cell_type": "code",
   "execution_count": 56,
   "metadata": {},
   "outputs": [
    {
     "name": "stderr",
     "output_type": "stream",
     "text": [
      "C:\\Users\\Ilyass\\anaconda3\\lib\\site-packages\\sklearn\\linear_model\\_coordinate_descent.py:529: ConvergenceWarning: Objective did not converge. You might want to increase the number of iterations. Duality gap: 202571.9185495558, tolerance: 51.332769704433495\n",
      "  model = cd_fast.enet_coordinate_descent(\n",
      "C:\\Users\\Ilyass\\anaconda3\\lib\\site-packages\\sklearn\\linear_model\\_coordinate_descent.py:529: ConvergenceWarning: Objective did not converge. You might want to increase the number of iterations. Duality gap: 238699.19980221926, tolerance: 61.14089384236453\n",
      "  model = cd_fast.enet_coordinate_descent(\n",
      "C:\\Users\\Ilyass\\anaconda3\\lib\\site-packages\\sklearn\\linear_model\\_coordinate_descent.py:529: ConvergenceWarning: Objective did not converge. You might want to increase the number of iterations. Duality gap: 232534.83963334735, tolerance: 60.5635960591133\n",
      "  model = cd_fast.enet_coordinate_descent(\n",
      "C:\\Users\\Ilyass\\anaconda3\\lib\\site-packages\\sklearn\\linear_model\\_coordinate_descent.py:529: ConvergenceWarning: Objective did not converge. You might want to increase the number of iterations. Duality gap: 218715.21933176374, tolerance: 56.497910073710074\n",
      "  model = cd_fast.enet_coordinate_descent(\n",
      "C:\\Users\\Ilyass\\anaconda3\\lib\\site-packages\\sklearn\\linear_model\\_coordinate_descent.py:529: ConvergenceWarning: Objective did not converge. You might want to increase the number of iterations. Duality gap: 225628.26406022624, tolerance: 58.46584029484029\n",
      "  model = cd_fast.enet_coordinate_descent(\n",
      "C:\\Users\\Ilyass\\anaconda3\\lib\\site-packages\\sklearn\\linear_model\\_coordinate_descent.py:529: ConvergenceWarning: Objective did not converge. You might want to increase the number of iterations. Duality gap: 282475.1158672983, tolerance: 72.02504625984251\n",
      "  model = cd_fast.enet_coordinate_descent(\n"
     ]
    },
    {
     "data": {
      "text/plain": [
       "GridSearchCV(cv=5, estimator=Lasso(),\n",
       "             param_grid={'alpha': array([1.00000000e-07, 1.00100100e+02, 2.00200200e+02, 3.00300300e+02,\n",
       "       4.00400401e+02, 5.00500501e+02, 6.00600601e+02, 7.00700701e+02,\n",
       "       8.00800801e+02, 9.00900901e+02, 1.00100100e+03, 1.10110110e+03,\n",
       "       1.20120120e+03, 1.30130130e+03, 1.40140140e+03, 1.50150150e+03,\n",
       "       1.60160160e+03, 1.70170170e+03, 1.80180180e+03, 1....\n",
       "       9.76976977e+04, 9.77977978e+04, 9.78978979e+04, 9.79979980e+04,\n",
       "       9.80980981e+04, 9.81981982e+04, 9.82982983e+04, 9.83983984e+04,\n",
       "       9.84984985e+04, 9.85985986e+04, 9.86986987e+04, 9.87987988e+04,\n",
       "       9.88988989e+04, 9.89989990e+04, 9.90990991e+04, 9.91991992e+04,\n",
       "       9.92992993e+04, 9.93993994e+04, 9.94994995e+04, 9.95995996e+04,\n",
       "       9.96996997e+04, 9.97997998e+04, 9.98998999e+04, 1.00000000e+05])},\n",
       "             scoring='neg_mean_absolute_error')"
      ]
     },
     "execution_count": 56,
     "metadata": {},
     "output_type": "execute_result"
    }
   ],
   "source": [
    "reg_lasso.fit(X1_sj_train_std, y1_sj_train)"
   ]
  },
  {
   "cell_type": "code",
   "execution_count": 57,
   "metadata": {},
   "outputs": [
    {
     "name": "stdout",
     "output_type": "stream",
     "text": [
      "{'alpha': 1e-07}\n",
      "-21.248064916016556\n"
     ]
    }
   ],
   "source": [
    "#quelle est le meilleur hyper_param selectionner?\n",
    "\n",
    "print(reg_lasso.best_params_)\n",
    "print(reg_lasso.best_score_)"
   ]
  },
  {
   "cell_type": "code",
   "execution_count": 58,
   "metadata": {},
   "outputs": [
    {
     "name": "stdout",
     "output_type": "stream",
     "text": [
      "21.186932468288873\n"
     ]
    }
   ],
   "source": [
    "y_pred = reg_lasso.predict(X1_sj_test_std)\n",
    "print(mean_absolute_error(y1_sj_test, y_pred))"
   ]
  },
  {
   "cell_type": "code",
   "execution_count": 76,
   "metadata": {},
   "outputs": [],
   "source": [
    "# ElasticNet\n",
    "reg_en = GridSearchCV(linear_model.ElasticNet(),\n",
    "                  {\n",
    "                      'alpha':np.linspace(0.0001,10,100),\n",
    "                      'l1_ratio':np.linspace(0,1,10)\n",
    "                  }, \n",
    "                   cv=5,\n",
    "                   scoring='neg_mean_absolute_error'\n",
    "                  )"
   ]
  },
  {
   "cell_type": "code",
   "execution_count": 77,
   "metadata": {},
   "outputs": [
    {
     "name": "stderr",
     "output_type": "stream",
     "text": [
      "C:\\Users\\Ilyass\\anaconda3\\lib\\site-packages\\sklearn\\linear_model\\_coordinate_descent.py:529: ConvergenceWarning: Objective did not converge. You might want to increase the number of iterations. Duality gap: 202728.4269896987, tolerance: 51.332769704433495\n",
      "  model = cd_fast.enet_coordinate_descent(\n",
      "C:\\Users\\Ilyass\\anaconda3\\lib\\site-packages\\sklearn\\linear_model\\_coordinate_descent.py:529: ConvergenceWarning: Objective did not converge. You might want to increase the number of iterations. Duality gap: 239359.43920907608, tolerance: 61.14089384236453\n",
      "  model = cd_fast.enet_coordinate_descent(\n",
      "C:\\Users\\Ilyass\\anaconda3\\lib\\site-packages\\sklearn\\linear_model\\_coordinate_descent.py:529: ConvergenceWarning: Objective did not converge. You might want to increase the number of iterations. Duality gap: 233186.39625232643, tolerance: 60.5635960591133\n",
      "  model = cd_fast.enet_coordinate_descent(\n",
      "C:\\Users\\Ilyass\\anaconda3\\lib\\site-packages\\sklearn\\linear_model\\_coordinate_descent.py:529: ConvergenceWarning: Objective did not converge. You might want to increase the number of iterations. Duality gap: 219294.7847412783, tolerance: 56.497910073710074\n",
      "  model = cd_fast.enet_coordinate_descent(\n",
      "C:\\Users\\Ilyass\\anaconda3\\lib\\site-packages\\sklearn\\linear_model\\_coordinate_descent.py:529: ConvergenceWarning: Objective did not converge. You might want to increase the number of iterations. Duality gap: 226033.5239949851, tolerance: 58.46584029484029\n",
      "  model = cd_fast.enet_coordinate_descent(\n",
      "C:\\Users\\Ilyass\\anaconda3\\lib\\site-packages\\sklearn\\linear_model\\_coordinate_descent.py:529: ConvergenceWarning: Objective did not converge. You might want to increase the number of iterations. Duality gap: 202425.9618405796, tolerance: 51.332769704433495\n",
      "  model = cd_fast.enet_coordinate_descent(\n",
      "C:\\Users\\Ilyass\\anaconda3\\lib\\site-packages\\sklearn\\linear_model\\_coordinate_descent.py:529: ConvergenceWarning: Objective did not converge. You might want to increase the number of iterations. Duality gap: 239142.57717284453, tolerance: 61.14089384236453\n",
      "  model = cd_fast.enet_coordinate_descent(\n",
      "C:\\Users\\Ilyass\\anaconda3\\lib\\site-packages\\sklearn\\linear_model\\_coordinate_descent.py:529: ConvergenceWarning: Objective did not converge. You might want to increase the number of iterations. Duality gap: 232984.36797369274, tolerance: 60.5635960591133\n",
      "  model = cd_fast.enet_coordinate_descent(\n",
      "C:\\Users\\Ilyass\\anaconda3\\lib\\site-packages\\sklearn\\linear_model\\_coordinate_descent.py:529: ConvergenceWarning: Objective did not converge. You might want to increase the number of iterations. Duality gap: 219076.19342855137, tolerance: 56.497910073710074\n",
      "  model = cd_fast.enet_coordinate_descent(\n",
      "C:\\Users\\Ilyass\\anaconda3\\lib\\site-packages\\sklearn\\linear_model\\_coordinate_descent.py:529: ConvergenceWarning: Objective did not converge. You might want to increase the number of iterations. Duality gap: 225826.23943406096, tolerance: 58.46584029484029\n",
      "  model = cd_fast.enet_coordinate_descent(\n",
      "C:\\Users\\Ilyass\\anaconda3\\lib\\site-packages\\sklearn\\linear_model\\_coordinate_descent.py:529: ConvergenceWarning: Objective did not converge. You might want to increase the number of iterations. Duality gap: 202132.160734113, tolerance: 51.332769704433495\n",
      "  model = cd_fast.enet_coordinate_descent(\n",
      "C:\\Users\\Ilyass\\anaconda3\\lib\\site-packages\\sklearn\\linear_model\\_coordinate_descent.py:529: ConvergenceWarning: Objective did not converge. You might want to increase the number of iterations. Duality gap: 238930.36060841187, tolerance: 61.14089384236453\n",
      "  model = cd_fast.enet_coordinate_descent(\n",
      "C:\\Users\\Ilyass\\anaconda3\\lib\\site-packages\\sklearn\\linear_model\\_coordinate_descent.py:529: ConvergenceWarning: Objective did not converge. You might want to increase the number of iterations. Duality gap: 232786.32992127287, tolerance: 60.5635960591133\n",
      "  model = cd_fast.enet_coordinate_descent(\n",
      "C:\\Users\\Ilyass\\anaconda3\\lib\\site-packages\\sklearn\\linear_model\\_coordinate_descent.py:529: ConvergenceWarning: Objective did not converge. You might want to increase the number of iterations. Duality gap: 218869.18595402676, tolerance: 56.497910073710074\n",
      "  model = cd_fast.enet_coordinate_descent(\n",
      "C:\\Users\\Ilyass\\anaconda3\\lib\\site-packages\\sklearn\\linear_model\\_coordinate_descent.py:529: ConvergenceWarning: Objective did not converge. You might want to increase the number of iterations. Duality gap: 225623.32150700688, tolerance: 58.46584029484029\n",
      "  model = cd_fast.enet_coordinate_descent(\n",
      "C:\\Users\\Ilyass\\anaconda3\\lib\\site-packages\\sklearn\\linear_model\\_coordinate_descent.py:529: ConvergenceWarning: Objective did not converge. You might want to increase the number of iterations. Duality gap: 201846.6249588879, tolerance: 51.332769704433495\n",
      "  model = cd_fast.enet_coordinate_descent(\n",
      "C:\\Users\\Ilyass\\anaconda3\\lib\\site-packages\\sklearn\\linear_model\\_coordinate_descent.py:529: ConvergenceWarning: Objective did not converge. You might want to increase the number of iterations. Duality gap: 238722.4930390764, tolerance: 61.14089384236453\n",
      "  model = cd_fast.enet_coordinate_descent(\n",
      "C:\\Users\\Ilyass\\anaconda3\\lib\\site-packages\\sklearn\\linear_model\\_coordinate_descent.py:529: ConvergenceWarning: Objective did not converge. You might want to increase the number of iterations. Duality gap: 232592.0067341068, tolerance: 60.5635960591133\n",
      "  model = cd_fast.enet_coordinate_descent(\n",
      "C:\\Users\\Ilyass\\anaconda3\\lib\\site-packages\\sklearn\\linear_model\\_coordinate_descent.py:529: ConvergenceWarning: Objective did not converge. You might want to increase the number of iterations. Duality gap: 218672.65906280658, tolerance: 56.497910073710074\n",
      "  model = cd_fast.enet_coordinate_descent(\n",
      "C:\\Users\\Ilyass\\anaconda3\\lib\\site-packages\\sklearn\\linear_model\\_coordinate_descent.py:529: ConvergenceWarning: Objective did not converge. You might want to increase the number of iterations. Duality gap: 225424.54343983866, tolerance: 58.46584029484029\n",
      "  model = cd_fast.enet_coordinate_descent(\n",
      "C:\\Users\\Ilyass\\anaconda3\\lib\\site-packages\\sklearn\\linear_model\\_coordinate_descent.py:529: ConvergenceWarning: Objective did not converge. You might want to increase the number of iterations. Duality gap: 201568.97204734007, tolerance: 51.332769704433495\n",
      "  model = cd_fast.enet_coordinate_descent(\n",
      "C:\\Users\\Ilyass\\anaconda3\\lib\\site-packages\\sklearn\\linear_model\\_coordinate_descent.py:529: ConvergenceWarning: Objective did not converge. You might want to increase the number of iterations. Duality gap: 238518.68919268367, tolerance: 61.14089384236453\n",
      "  model = cd_fast.enet_coordinate_descent(\n",
      "C:\\Users\\Ilyass\\anaconda3\\lib\\site-packages\\sklearn\\linear_model\\_coordinate_descent.py:529: ConvergenceWarning: Objective did not converge. You might want to increase the number of iterations. Duality gap: 232401.1313042631, tolerance: 60.5635960591133\n",
      "  model = cd_fast.enet_coordinate_descent(\n",
      "C:\\Users\\Ilyass\\anaconda3\\lib\\site-packages\\sklearn\\linear_model\\_coordinate_descent.py:529: ConvergenceWarning: Objective did not converge. You might want to increase the number of iterations. Duality gap: 218485.61362611037, tolerance: 56.497910073710074\n",
      "  model = cd_fast.enet_coordinate_descent(\n",
      "C:\\Users\\Ilyass\\anaconda3\\lib\\site-packages\\sklearn\\linear_model\\_coordinate_descent.py:529: ConvergenceWarning: Objective did not converge. You might want to increase the number of iterations. Duality gap: 225229.68590245536, tolerance: 58.46584029484029\n",
      "  model = cd_fast.enet_coordinate_descent(\n",
      "C:\\Users\\Ilyass\\anaconda3\\lib\\site-packages\\sklearn\\linear_model\\_coordinate_descent.py:529: ConvergenceWarning: Objective did not converge. You might want to increase the number of iterations. Duality gap: 201298.83196654616, tolerance: 51.332769704433495\n",
      "  model = cd_fast.enet_coordinate_descent(\n",
      "C:\\Users\\Ilyass\\anaconda3\\lib\\site-packages\\sklearn\\linear_model\\_coordinate_descent.py:529: ConvergenceWarning: Objective did not converge. You might want to increase the number of iterations. Duality gap: 238318.67259893668, tolerance: 61.14089384236453\n",
      "  model = cd_fast.enet_coordinate_descent(\n",
      "C:\\Users\\Ilyass\\anaconda3\\lib\\site-packages\\sklearn\\linear_model\\_coordinate_descent.py:529: ConvergenceWarning: Objective did not converge. You might want to increase the number of iterations. Duality gap: 232213.44843825884, tolerance: 60.5635960591133\n",
      "  model = cd_fast.enet_coordinate_descent(\n",
      "C:\\Users\\Ilyass\\anaconda3\\lib\\site-packages\\sklearn\\linear_model\\_coordinate_descent.py:529: ConvergenceWarning: Objective did not converge. You might want to increase the number of iterations. Duality gap: 218307.1424984468, tolerance: 56.497910073710074\n",
      "  model = cd_fast.enet_coordinate_descent(\n",
      "C:\\Users\\Ilyass\\anaconda3\\lib\\site-packages\\sklearn\\linear_model\\_coordinate_descent.py:529: ConvergenceWarning: Objective did not converge. You might want to increase the number of iterations. Duality gap: 225038.5340302588, tolerance: 58.46584029484029\n",
      "  model = cd_fast.enet_coordinate_descent(\n"
     ]
    },
    {
     "name": "stderr",
     "output_type": "stream",
     "text": [
      "C:\\Users\\Ilyass\\anaconda3\\lib\\site-packages\\sklearn\\linear_model\\_coordinate_descent.py:529: ConvergenceWarning: Objective did not converge. You might want to increase the number of iterations. Duality gap: 201035.84894446738, tolerance: 51.332769704433495\n",
      "  model = cd_fast.enet_coordinate_descent(\n",
      "C:\\Users\\Ilyass\\anaconda3\\lib\\site-packages\\sklearn\\linear_model\\_coordinate_descent.py:529: ConvergenceWarning: Objective did not converge. You might want to increase the number of iterations. Duality gap: 238122.1808037527, tolerance: 61.14089384236453\n",
      "  model = cd_fast.enet_coordinate_descent(\n",
      "C:\\Users\\Ilyass\\anaconda3\\lib\\site-packages\\sklearn\\linear_model\\_coordinate_descent.py:529: ConvergenceWarning: Objective did not converge. You might want to increase the number of iterations. Duality gap: 232028.71295927267, tolerance: 60.5635960591133\n",
      "  model = cd_fast.enet_coordinate_descent(\n",
      "C:\\Users\\Ilyass\\anaconda3\\lib\\site-packages\\sklearn\\linear_model\\_coordinate_descent.py:529: ConvergenceWarning: Objective did not converge. You might want to increase the number of iterations. Duality gap: 218136.41807092034, tolerance: 56.497910073710074\n",
      "  model = cd_fast.enet_coordinate_descent(\n",
      "C:\\Users\\Ilyass\\anaconda3\\lib\\site-packages\\sklearn\\linear_model\\_coordinate_descent.py:529: ConvergenceWarning: Objective did not converge. You might want to increase the number of iterations. Duality gap: 224850.88055003516, tolerance: 58.46584029484029\n",
      "  model = cd_fast.enet_coordinate_descent(\n",
      "C:\\Users\\Ilyass\\anaconda3\\lib\\site-packages\\sklearn\\linear_model\\_coordinate_descent.py:529: ConvergenceWarning: Objective did not converge. You might want to increase the number of iterations. Duality gap: 200779.68145141358, tolerance: 51.332769704433495\n",
      "  model = cd_fast.enet_coordinate_descent(\n",
      "C:\\Users\\Ilyass\\anaconda3\\lib\\site-packages\\sklearn\\linear_model\\_coordinate_descent.py:529: ConvergenceWarning: Objective did not converge. You might want to increase the number of iterations. Duality gap: 237928.9537716459, tolerance: 61.14089384236453\n",
      "  model = cd_fast.enet_coordinate_descent(\n",
      "C:\\Users\\Ilyass\\anaconda3\\lib\\site-packages\\sklearn\\linear_model\\_coordinate_descent.py:529: ConvergenceWarning: Objective did not converge. You might want to increase the number of iterations. Duality gap: 231846.67565505495, tolerance: 60.5635960591133\n",
      "  model = cd_fast.enet_coordinate_descent(\n",
      "C:\\Users\\Ilyass\\anaconda3\\lib\\site-packages\\sklearn\\linear_model\\_coordinate_descent.py:529: ConvergenceWarning: Objective did not converge. You might want to increase the number of iterations. Duality gap: 217972.68515789238, tolerance: 56.497910073710074\n",
      "  model = cd_fast.enet_coordinate_descent(\n",
      "C:\\Users\\Ilyass\\anaconda3\\lib\\site-packages\\sklearn\\linear_model\\_coordinate_descent.py:529: ConvergenceWarning: Objective did not converge. You might want to increase the number of iterations. Duality gap: 224666.5233276055, tolerance: 58.46584029484029\n",
      "  model = cd_fast.enet_coordinate_descent(\n",
      "C:\\Users\\Ilyass\\anaconda3\\lib\\site-packages\\sklearn\\linear_model\\_coordinate_descent.py:529: ConvergenceWarning: Objective did not converge. You might want to increase the number of iterations. Duality gap: 200529.99953069427, tolerance: 51.332769704433495\n",
      "  model = cd_fast.enet_coordinate_descent(\n",
      "C:\\Users\\Ilyass\\anaconda3\\lib\\site-packages\\sklearn\\linear_model\\_coordinate_descent.py:529: ConvergenceWarning: Objective did not converge. You might want to increase the number of iterations. Duality gap: 237738.74853648254, tolerance: 61.14089384236453\n",
      "  model = cd_fast.enet_coordinate_descent(\n",
      "C:\\Users\\Ilyass\\anaconda3\\lib\\site-packages\\sklearn\\linear_model\\_coordinate_descent.py:529: ConvergenceWarning: Objective did not converge. You might want to increase the number of iterations. Duality gap: 231667.11391435825, tolerance: 60.5635960591133\n",
      "  model = cd_fast.enet_coordinate_descent(\n",
      "C:\\Users\\Ilyass\\anaconda3\\lib\\site-packages\\sklearn\\linear_model\\_coordinate_descent.py:529: ConvergenceWarning: Objective did not converge. You might want to increase the number of iterations. Duality gap: 217815.2514502351, tolerance: 56.497910073710074\n",
      "  model = cd_fast.enet_coordinate_descent(\n",
      "C:\\Users\\Ilyass\\anaconda3\\lib\\site-packages\\sklearn\\linear_model\\_coordinate_descent.py:529: ConvergenceWarning: Objective did not converge. You might want to increase the number of iterations. Duality gap: 224485.26998695446, tolerance: 58.46584029484029\n",
      "  model = cd_fast.enet_coordinate_descent(\n",
      "C:\\Users\\Ilyass\\anaconda3\\lib\\site-packages\\sklearn\\linear_model\\_coordinate_descent.py:529: ConvergenceWarning: Objective did not converge. You might want to increase the number of iterations. Duality gap: 200286.48813684832, tolerance: 51.332769704433495\n",
      "  model = cd_fast.enet_coordinate_descent(\n",
      "C:\\Users\\Ilyass\\anaconda3\\lib\\site-packages\\sklearn\\linear_model\\_coordinate_descent.py:529: ConvergenceWarning: Objective did not converge. You might want to increase the number of iterations. Duality gap: 237551.3188876283, tolerance: 61.14089384236453\n",
      "  model = cd_fast.enet_coordinate_descent(\n",
      "C:\\Users\\Ilyass\\anaconda3\\lib\\site-packages\\sklearn\\linear_model\\_coordinate_descent.py:529: ConvergenceWarning: Objective did not converge. You might want to increase the number of iterations. Duality gap: 231489.7927458741, tolerance: 60.5635960591133\n",
      "  model = cd_fast.enet_coordinate_descent(\n",
      "C:\\Users\\Ilyass\\anaconda3\\lib\\site-packages\\sklearn\\linear_model\\_coordinate_descent.py:529: ConvergenceWarning: Objective did not converge. You might want to increase the number of iterations. Duality gap: 217663.48075185248, tolerance: 56.497910073710074\n",
      "  model = cd_fast.enet_coordinate_descent(\n",
      "C:\\Users\\Ilyass\\anaconda3\\lib\\site-packages\\sklearn\\linear_model\\_coordinate_descent.py:529: ConvergenceWarning: Objective did not converge. You might want to increase the number of iterations. Duality gap: 224306.92032405542, tolerance: 58.46584029484029\n",
      "  model = cd_fast.enet_coordinate_descent(\n",
      "C:\\Users\\Ilyass\\anaconda3\\lib\\site-packages\\sklearn\\linear_model\\_coordinate_descent.py:529: ConvergenceWarning: Objective did not converge. You might want to increase the number of iterations. Duality gap: 213012.52112008573, tolerance: 51.332769704433495\n",
      "  model = cd_fast.enet_coordinate_descent(\n",
      "C:\\Users\\Ilyass\\anaconda3\\lib\\site-packages\\sklearn\\linear_model\\_coordinate_descent.py:529: ConvergenceWarning: Objective did not converge. You might want to increase the number of iterations. Duality gap: 255719.1023669663, tolerance: 61.14089384236453\n",
      "  model = cd_fast.enet_coordinate_descent(\n",
      "C:\\Users\\Ilyass\\anaconda3\\lib\\site-packages\\sklearn\\linear_model\\_coordinate_descent.py:529: ConvergenceWarning: Objective did not converge. You might want to increase the number of iterations. Duality gap: 252279.95572690107, tolerance: 60.5635960591133\n",
      "  model = cd_fast.enet_coordinate_descent(\n",
      "C:\\Users\\Ilyass\\anaconda3\\lib\\site-packages\\sklearn\\linear_model\\_coordinate_descent.py:529: ConvergenceWarning: Objective did not converge. You might want to increase the number of iterations. Duality gap: 235077.28714886293, tolerance: 56.497910073710074\n",
      "  model = cd_fast.enet_coordinate_descent(\n",
      "C:\\Users\\Ilyass\\anaconda3\\lib\\site-packages\\sklearn\\linear_model\\_coordinate_descent.py:529: ConvergenceWarning: Objective did not converge. You might want to increase the number of iterations. Duality gap: 241786.05418062667, tolerance: 58.46584029484029\n",
      "  model = cd_fast.enet_coordinate_descent(\n",
      "C:\\Users\\Ilyass\\anaconda3\\lib\\site-packages\\sklearn\\linear_model\\_coordinate_descent.py:529: ConvergenceWarning: Objective did not converge. You might want to increase the number of iterations. Duality gap: 2349.9871413590154, tolerance: 61.14089384236453\n",
      "  model = cd_fast.enet_coordinate_descent(\n",
      "C:\\Users\\Ilyass\\anaconda3\\lib\\site-packages\\sklearn\\linear_model\\_coordinate_descent.py:529: ConvergenceWarning: Objective did not converge. You might want to increase the number of iterations. Duality gap: 2855.5121691881213, tolerance: 60.5635960591133\n",
      "  model = cd_fast.enet_coordinate_descent(\n",
      "C:\\Users\\Ilyass\\anaconda3\\lib\\site-packages\\sklearn\\linear_model\\_coordinate_descent.py:529: ConvergenceWarning: Objective did not converge. You might want to increase the number of iterations. Duality gap: 216331.96845759143, tolerance: 51.332769704433495\n",
      "  model = cd_fast.enet_coordinate_descent(\n",
      "C:\\Users\\Ilyass\\anaconda3\\lib\\site-packages\\sklearn\\linear_model\\_coordinate_descent.py:529: ConvergenceWarning: Objective did not converge. You might want to increase the number of iterations. Duality gap: 259489.9930769335, tolerance: 61.14089384236453\n",
      "  model = cd_fast.enet_coordinate_descent(\n",
      "C:\\Users\\Ilyass\\anaconda3\\lib\\site-packages\\sklearn\\linear_model\\_coordinate_descent.py:529: ConvergenceWarning: Objective did not converge. You might want to increase the number of iterations. Duality gap: 256553.6363896677, tolerance: 60.5635960591133\n",
      "  model = cd_fast.enet_coordinate_descent(\n",
      "C:\\Users\\Ilyass\\anaconda3\\lib\\site-packages\\sklearn\\linear_model\\_coordinate_descent.py:529: ConvergenceWarning: Objective did not converge. You might want to increase the number of iterations. Duality gap: 239360.01290690168, tolerance: 56.497910073710074\n",
      "  model = cd_fast.enet_coordinate_descent(\n"
     ]
    },
    {
     "name": "stderr",
     "output_type": "stream",
     "text": [
      "C:\\Users\\Ilyass\\anaconda3\\lib\\site-packages\\sklearn\\linear_model\\_coordinate_descent.py:529: ConvergenceWarning: Objective did not converge. You might want to increase the number of iterations. Duality gap: 246281.27990534264, tolerance: 58.46584029484029\n",
      "  model = cd_fast.enet_coordinate_descent(\n",
      "C:\\Users\\Ilyass\\anaconda3\\lib\\site-packages\\sklearn\\linear_model\\_coordinate_descent.py:529: ConvergenceWarning: Objective did not converge. You might want to increase the number of iterations. Duality gap: 218530.68491405525, tolerance: 51.332769704433495\n",
      "  model = cd_fast.enet_coordinate_descent(\n",
      "C:\\Users\\Ilyass\\anaconda3\\lib\\site-packages\\sklearn\\linear_model\\_coordinate_descent.py:529: ConvergenceWarning: Objective did not converge. You might want to increase the number of iterations. Duality gap: 262041.03379300225, tolerance: 61.14089384236453\n",
      "  model = cd_fast.enet_coordinate_descent(\n",
      "C:\\Users\\Ilyass\\anaconda3\\lib\\site-packages\\sklearn\\linear_model\\_coordinate_descent.py:529: ConvergenceWarning: Objective did not converge. You might want to increase the number of iterations. Duality gap: 259327.60370711083, tolerance: 60.5635960591133\n",
      "  model = cd_fast.enet_coordinate_descent(\n",
      "C:\\Users\\Ilyass\\anaconda3\\lib\\site-packages\\sklearn\\linear_model\\_coordinate_descent.py:529: ConvergenceWarning: Objective did not converge. You might want to increase the number of iterations. Duality gap: 242226.91299785822, tolerance: 56.497910073710074\n",
      "  model = cd_fast.enet_coordinate_descent(\n",
      "C:\\Users\\Ilyass\\anaconda3\\lib\\site-packages\\sklearn\\linear_model\\_coordinate_descent.py:529: ConvergenceWarning: Objective did not converge. You might want to increase the number of iterations. Duality gap: 249222.7110378475, tolerance: 58.46584029484029\n",
      "  model = cd_fast.enet_coordinate_descent(\n",
      "C:\\Users\\Ilyass\\anaconda3\\lib\\site-packages\\sklearn\\linear_model\\_coordinate_descent.py:529: ConvergenceWarning: Objective did not converge. You might want to increase the number of iterations. Duality gap: 220188.6095244861, tolerance: 51.332769704433495\n",
      "  model = cd_fast.enet_coordinate_descent(\n",
      "C:\\Users\\Ilyass\\anaconda3\\lib\\site-packages\\sklearn\\linear_model\\_coordinate_descent.py:529: ConvergenceWarning: Objective did not converge. You might want to increase the number of iterations. Duality gap: 263987.6587913409, tolerance: 61.14089384236453\n",
      "  model = cd_fast.enet_coordinate_descent(\n",
      "C:\\Users\\Ilyass\\anaconda3\\lib\\site-packages\\sklearn\\linear_model\\_coordinate_descent.py:529: ConvergenceWarning: Objective did not converge. You might want to increase the number of iterations. Duality gap: 261378.2119619177, tolerance: 60.5635960591133\n",
      "  model = cd_fast.enet_coordinate_descent(\n",
      "C:\\Users\\Ilyass\\anaconda3\\lib\\site-packages\\sklearn\\linear_model\\_coordinate_descent.py:529: ConvergenceWarning: Objective did not converge. You might want to increase the number of iterations. Duality gap: 244378.1432404168, tolerance: 56.497910073710074\n",
      "  model = cd_fast.enet_coordinate_descent(\n",
      "C:\\Users\\Ilyass\\anaconda3\\lib\\site-packages\\sklearn\\linear_model\\_coordinate_descent.py:529: ConvergenceWarning: Objective did not converge. You might want to increase the number of iterations. Duality gap: 251409.24695887498, tolerance: 58.46584029484029\n",
      "  model = cd_fast.enet_coordinate_descent(\n",
      "C:\\Users\\Ilyass\\anaconda3\\lib\\site-packages\\sklearn\\linear_model\\_coordinate_descent.py:529: ConvergenceWarning: Objective did not converge. You might want to increase the number of iterations. Duality gap: 221526.87681719314, tolerance: 51.332769704433495\n",
      "  model = cd_fast.enet_coordinate_descent(\n",
      "C:\\Users\\Ilyass\\anaconda3\\lib\\site-packages\\sklearn\\linear_model\\_coordinate_descent.py:529: ConvergenceWarning: Objective did not converge. You might want to increase the number of iterations. Duality gap: 265567.2880778936, tolerance: 61.14089384236453\n",
      "  model = cd_fast.enet_coordinate_descent(\n",
      "C:\\Users\\Ilyass\\anaconda3\\lib\\site-packages\\sklearn\\linear_model\\_coordinate_descent.py:529: ConvergenceWarning: Objective did not converge. You might want to increase the number of iterations. Duality gap: 263003.620179346, tolerance: 60.5635960591133\n",
      "  model = cd_fast.enet_coordinate_descent(\n",
      "C:\\Users\\Ilyass\\anaconda3\\lib\\site-packages\\sklearn\\linear_model\\_coordinate_descent.py:529: ConvergenceWarning: Objective did not converge. You might want to increase the number of iterations. Duality gap: 246095.37546341508, tolerance: 56.497910073710074\n",
      "  model = cd_fast.enet_coordinate_descent(\n",
      "C:\\Users\\Ilyass\\anaconda3\\lib\\site-packages\\sklearn\\linear_model\\_coordinate_descent.py:529: ConvergenceWarning: Objective did not converge. You might want to increase the number of iterations. Duality gap: 253147.34071261116, tolerance: 58.46584029484029\n",
      "  model = cd_fast.enet_coordinate_descent(\n",
      "C:\\Users\\Ilyass\\anaconda3\\lib\\site-packages\\sklearn\\linear_model\\_coordinate_descent.py:529: ConvergenceWarning: Objective did not converge. You might want to increase the number of iterations. Duality gap: 222653.9147566796, tolerance: 51.332769704433495\n",
      "  model = cd_fast.enet_coordinate_descent(\n",
      "C:\\Users\\Ilyass\\anaconda3\\lib\\site-packages\\sklearn\\linear_model\\_coordinate_descent.py:529: ConvergenceWarning: Objective did not converge. You might want to increase the number of iterations. Duality gap: 266899.3128910777, tolerance: 61.14089384236453\n",
      "  model = cd_fast.enet_coordinate_descent(\n",
      "C:\\Users\\Ilyass\\anaconda3\\lib\\site-packages\\sklearn\\linear_model\\_coordinate_descent.py:529: ConvergenceWarning: Objective did not converge. You might want to increase the number of iterations. Duality gap: 264350.7341127269, tolerance: 60.5635960591133\n",
      "  model = cd_fast.enet_coordinate_descent(\n",
      "C:\\Users\\Ilyass\\anaconda3\\lib\\site-packages\\sklearn\\linear_model\\_coordinate_descent.py:529: ConvergenceWarning: Objective did not converge. You might want to increase the number of iterations. Duality gap: 247521.91383719328, tolerance: 56.497910073710074\n",
      "  model = cd_fast.enet_coordinate_descent(\n",
      "C:\\Users\\Ilyass\\anaconda3\\lib\\site-packages\\sklearn\\linear_model\\_coordinate_descent.py:529: ConvergenceWarning: Objective did not converge. You might want to increase the number of iterations. Duality gap: 254588.92926872656, tolerance: 58.46584029484029\n",
      "  model = cd_fast.enet_coordinate_descent(\n",
      "C:\\Users\\Ilyass\\anaconda3\\lib\\site-packages\\sklearn\\linear_model\\_coordinate_descent.py:529: ConvergenceWarning: Objective did not converge. You might want to increase the number of iterations. Duality gap: 223630.88391174076, tolerance: 51.332769704433495\n",
      "  model = cd_fast.enet_coordinate_descent(\n",
      "C:\\Users\\Ilyass\\anaconda3\\lib\\site-packages\\sklearn\\linear_model\\_coordinate_descent.py:529: ConvergenceWarning: Objective did not converge. You might want to increase the number of iterations. Duality gap: 268052.76665999735, tolerance: 61.14089384236453\n",
      "  model = cd_fast.enet_coordinate_descent(\n",
      "C:\\Users\\Ilyass\\anaconda3\\lib\\site-packages\\sklearn\\linear_model\\_coordinate_descent.py:529: ConvergenceWarning: Objective did not converge. You might want to increase the number of iterations. Duality gap: 265502.414347334, tolerance: 60.5635960591133\n",
      "  model = cd_fast.enet_coordinate_descent(\n",
      "C:\\Users\\Ilyass\\anaconda3\\lib\\site-packages\\sklearn\\linear_model\\_coordinate_descent.py:529: ConvergenceWarning: Objective did not converge. You might want to increase the number of iterations. Duality gap: 248740.681094701, tolerance: 56.497910073710074\n",
      "  model = cd_fast.enet_coordinate_descent(\n",
      "C:\\Users\\Ilyass\\anaconda3\\lib\\site-packages\\sklearn\\linear_model\\_coordinate_descent.py:529: ConvergenceWarning: Objective did not converge. You might want to increase the number of iterations. Duality gap: 255820.48013666584, tolerance: 58.46584029484029\n",
      "  model = cd_fast.enet_coordinate_descent(\n",
      "C:\\Users\\Ilyass\\anaconda3\\lib\\site-packages\\sklearn\\linear_model\\_coordinate_descent.py:529: ConvergenceWarning: Objective did not converge. You might want to increase the number of iterations. Duality gap: 224495.61453266334, tolerance: 51.332769704433495\n",
      "  model = cd_fast.enet_coordinate_descent(\n",
      "C:\\Users\\Ilyass\\anaconda3\\lib\\site-packages\\sklearn\\linear_model\\_coordinate_descent.py:529: ConvergenceWarning: Objective did not converge. You might want to increase the number of iterations. Duality gap: 269071.2761561366, tolerance: 61.14089384236453\n",
      "  model = cd_fast.enet_coordinate_descent(\n",
      "C:\\Users\\Ilyass\\anaconda3\\lib\\site-packages\\sklearn\\linear_model\\_coordinate_descent.py:529: ConvergenceWarning: Objective did not converge. You might want to increase the number of iterations. Duality gap: 266509.739634234, tolerance: 60.5635960591133\n",
      "  model = cd_fast.enet_coordinate_descent(\n",
      "C:\\Users\\Ilyass\\anaconda3\\lib\\site-packages\\sklearn\\linear_model\\_coordinate_descent.py:529: ConvergenceWarning: Objective did not converge. You might want to increase the number of iterations. Duality gap: 249803.89671293003, tolerance: 56.497910073710074\n",
      "  model = cd_fast.enet_coordinate_descent(\n",
      "C:\\Users\\Ilyass\\anaconda3\\lib\\site-packages\\sklearn\\linear_model\\_coordinate_descent.py:529: ConvergenceWarning: Objective did not converge. You might want to increase the number of iterations. Duality gap: 256895.79876618943, tolerance: 58.46584029484029\n",
      "  model = cd_fast.enet_coordinate_descent(\n"
     ]
    },
    {
     "name": "stderr",
     "output_type": "stream",
     "text": [
      "C:\\Users\\Ilyass\\anaconda3\\lib\\site-packages\\sklearn\\linear_model\\_coordinate_descent.py:529: ConvergenceWarning: Objective did not converge. You might want to increase the number of iterations. Duality gap: 225273.1051858925, tolerance: 51.332769704433495\n",
      "  model = cd_fast.enet_coordinate_descent(\n",
      "C:\\Users\\Ilyass\\anaconda3\\lib\\site-packages\\sklearn\\linear_model\\_coordinate_descent.py:529: ConvergenceWarning: Objective did not converge. You might want to increase the number of iterations. Duality gap: 269984.1891682429, tolerance: 61.14089384236453\n",
      "  model = cd_fast.enet_coordinate_descent(\n",
      "C:\\Users\\Ilyass\\anaconda3\\lib\\site-packages\\sklearn\\linear_model\\_coordinate_descent.py:529: ConvergenceWarning: Objective did not converge. You might want to increase the number of iterations. Duality gap: 267406.27737858705, tolerance: 60.5635960591133\n",
      "  model = cd_fast.enet_coordinate_descent(\n",
      "C:\\Users\\Ilyass\\anaconda3\\lib\\site-packages\\sklearn\\linear_model\\_coordinate_descent.py:529: ConvergenceWarning: Objective did not converge. You might want to increase the number of iterations. Duality gap: 250746.50418714617, tolerance: 56.497910073710074\n",
      "  model = cd_fast.enet_coordinate_descent(\n",
      "C:\\Users\\Ilyass\\anaconda3\\lib\\site-packages\\sklearn\\linear_model\\_coordinate_descent.py:529: ConvergenceWarning: Objective did not converge. You might want to increase the number of iterations. Duality gap: 257850.56152956368, tolerance: 58.46584029484029\n",
      "  model = cd_fast.enet_coordinate_descent(\n",
      "C:\\Users\\Ilyass\\anaconda3\\lib\\site-packages\\sklearn\\linear_model\\_coordinate_descent.py:529: ConvergenceWarning: Objective did not converge. You might want to increase the number of iterations. Duality gap: 225980.72317889243, tolerance: 51.332769704433495\n",
      "  model = cd_fast.enet_coordinate_descent(\n",
      "C:\\Users\\Ilyass\\anaconda3\\lib\\site-packages\\sklearn\\linear_model\\_coordinate_descent.py:529: ConvergenceWarning: Objective did not converge. You might want to increase the number of iterations. Duality gap: 270812.1921159885, tolerance: 61.14089384236453\n",
      "  model = cd_fast.enet_coordinate_descent(\n",
      "C:\\Users\\Ilyass\\anaconda3\\lib\\site-packages\\sklearn\\linear_model\\_coordinate_descent.py:529: ConvergenceWarning: Objective did not converge. You might want to increase the number of iterations. Duality gap: 268215.1882546034, tolerance: 60.5635960591133\n",
      "  model = cd_fast.enet_coordinate_descent(\n",
      "C:\\Users\\Ilyass\\anaconda3\\lib\\site-packages\\sklearn\\linear_model\\_coordinate_descent.py:529: ConvergenceWarning: Objective did not converge. You might want to increase the number of iterations. Duality gap: 251592.98834783703, tolerance: 56.497910073710074\n",
      "  model = cd_fast.enet_coordinate_descent(\n",
      "C:\\Users\\Ilyass\\anaconda3\\lib\\site-packages\\sklearn\\linear_model\\_coordinate_descent.py:529: ConvergenceWarning: Objective did not converge. You might want to increase the number of iterations. Duality gap: 258709.5841397066, tolerance: 58.46584029484029\n",
      "  model = cd_fast.enet_coordinate_descent(\n",
      "C:\\Users\\Ilyass\\anaconda3\\lib\\site-packages\\sklearn\\linear_model\\_coordinate_descent.py:529: ConvergenceWarning: Objective did not converge. You might want to increase the number of iterations. Duality gap: 226631.01899703618, tolerance: 51.332769704433495\n",
      "  model = cd_fast.enet_coordinate_descent(\n",
      "C:\\Users\\Ilyass\\anaconda3\\lib\\site-packages\\sklearn\\linear_model\\_coordinate_descent.py:529: ConvergenceWarning: Objective did not converge. You might want to increase the number of iterations. Duality gap: 271570.4079966732, tolerance: 61.14089384236453\n",
      "  model = cd_fast.enet_coordinate_descent(\n",
      "C:\\Users\\Ilyass\\anaconda3\\lib\\site-packages\\sklearn\\linear_model\\_coordinate_descent.py:529: ConvergenceWarning: Objective did not converge. You might want to increase the number of iterations. Duality gap: 268953.08040930226, tolerance: 60.5635960591133\n",
      "  model = cd_fast.enet_coordinate_descent(\n",
      "C:\\Users\\Ilyass\\anaconda3\\lib\\site-packages\\sklearn\\linear_model\\_coordinate_descent.py:529: ConvergenceWarning: Objective did not converge. You might want to increase the number of iterations. Duality gap: 252361.13947143196, tolerance: 56.497910073710074\n",
      "  model = cd_fast.enet_coordinate_descent(\n",
      "C:\\Users\\Ilyass\\anaconda3\\lib\\site-packages\\sklearn\\linear_model\\_coordinate_descent.py:529: ConvergenceWarning: Objective did not converge. You might want to increase the number of iterations. Duality gap: 259490.78895635964, tolerance: 58.46584029484029\n",
      "  model = cd_fast.enet_coordinate_descent(\n",
      "C:\\Users\\Ilyass\\anaconda3\\lib\\site-packages\\sklearn\\linear_model\\_coordinate_descent.py:529: ConvergenceWarning: Objective did not converge. You might want to increase the number of iterations. Duality gap: 227233.35628847405, tolerance: 51.332769704433495\n",
      "  model = cd_fast.enet_coordinate_descent(\n",
      "C:\\Users\\Ilyass\\anaconda3\\lib\\site-packages\\sklearn\\linear_model\\_coordinate_descent.py:529: ConvergenceWarning: Objective did not converge. You might want to increase the number of iterations. Duality gap: 272270.22257827106, tolerance: 61.14089384236453\n",
      "  model = cd_fast.enet_coordinate_descent(\n",
      "C:\\Users\\Ilyass\\anaconda3\\lib\\site-packages\\sklearn\\linear_model\\_coordinate_descent.py:529: ConvergenceWarning: Objective did not converge. You might want to increase the number of iterations. Duality gap: 269632.24266370153, tolerance: 60.5635960591133\n",
      "  model = cd_fast.enet_coordinate_descent(\n",
      "C:\\Users\\Ilyass\\anaconda3\\lib\\site-packages\\sklearn\\linear_model\\_coordinate_descent.py:529: ConvergenceWarning: Objective did not converge. You might want to increase the number of iterations. Duality gap: 253064.2695678915, tolerance: 56.497910073710074\n",
      "  model = cd_fast.enet_coordinate_descent(\n",
      "C:\\Users\\Ilyass\\anaconda3\\lib\\site-packages\\sklearn\\linear_model\\_coordinate_descent.py:529: ConvergenceWarning: Objective did not converge. You might want to increase the number of iterations. Duality gap: 260207.51946501186, tolerance: 58.46584029484029\n",
      "  model = cd_fast.enet_coordinate_descent(\n",
      "C:\\Users\\Ilyass\\anaconda3\\lib\\site-packages\\sklearn\\linear_model\\_coordinate_descent.py:529: ConvergenceWarning: Objective did not converge. You might want to increase the number of iterations. Duality gap: 227794.90805627746, tolerance: 51.332769704433495\n",
      "  model = cd_fast.enet_coordinate_descent(\n",
      "C:\\Users\\Ilyass\\anaconda3\\lib\\site-packages\\sklearn\\linear_model\\_coordinate_descent.py:529: ConvergenceWarning: Objective did not converge. You might want to increase the number of iterations. Duality gap: 272920.4187507332, tolerance: 61.14089384236453\n",
      "  model = cd_fast.enet_coordinate_descent(\n",
      "C:\\Users\\Ilyass\\anaconda3\\lib\\site-packages\\sklearn\\linear_model\\_coordinate_descent.py:529: ConvergenceWarning: Objective did not converge. You might want to increase the number of iterations. Duality gap: 270262.0081043586, tolerance: 60.5635960591133\n",
      "  model = cd_fast.enet_coordinate_descent(\n",
      "C:\\Users\\Ilyass\\anaconda3\\lib\\site-packages\\sklearn\\linear_model\\_coordinate_descent.py:529: ConvergenceWarning: Objective did not converge. You might want to increase the number of iterations. Duality gap: 253712.58567262097, tolerance: 56.497910073710074\n",
      "  model = cd_fast.enet_coordinate_descent(\n",
      "C:\\Users\\Ilyass\\anaconda3\\lib\\site-packages\\sklearn\\linear_model\\_coordinate_descent.py:529: ConvergenceWarning: Objective did not converge. You might want to increase the number of iterations. Duality gap: 260869.96344725942, tolerance: 58.46584029484029\n",
      "  model = cd_fast.enet_coordinate_descent(\n",
      "C:\\Users\\Ilyass\\anaconda3\\lib\\site-packages\\sklearn\\linear_model\\_coordinate_descent.py:529: ConvergenceWarning: Objective did not converge. You might want to increase the number of iterations. Duality gap: 228321.29280882378, tolerance: 51.332769704433495\n",
      "  model = cd_fast.enet_coordinate_descent(\n",
      "C:\\Users\\Ilyass\\anaconda3\\lib\\site-packages\\sklearn\\linear_model\\_coordinate_descent.py:529: ConvergenceWarning: Objective did not converge. You might want to increase the number of iterations. Duality gap: 273527.9116001783, tolerance: 61.14089384236453\n",
      "  model = cd_fast.enet_coordinate_descent(\n",
      "C:\\Users\\Ilyass\\anaconda3\\lib\\site-packages\\sklearn\\linear_model\\_coordinate_descent.py:529: ConvergenceWarning: Objective did not converge. You might want to increase the number of iterations. Duality gap: 270849.623163043, tolerance: 60.5635960591133\n",
      "  model = cd_fast.enet_coordinate_descent(\n",
      "C:\\Users\\Ilyass\\anaconda3\\lib\\site-packages\\sklearn\\linear_model\\_coordinate_descent.py:529: ConvergenceWarning: Objective did not converge. You might want to increase the number of iterations. Duality gap: 254314.07697483888, tolerance: 56.497910073710074\n",
      "  model = cd_fast.enet_coordinate_descent(\n",
      "C:\\Users\\Ilyass\\anaconda3\\lib\\site-packages\\sklearn\\linear_model\\_coordinate_descent.py:529: ConvergenceWarning: Objective did not converge. You might want to increase the number of iterations. Duality gap: 261486.06632227782, tolerance: 58.46584029484029\n",
      "  model = cd_fast.enet_coordinate_descent(\n"
     ]
    },
    {
     "name": "stderr",
     "output_type": "stream",
     "text": [
      "C:\\Users\\Ilyass\\anaconda3\\lib\\site-packages\\sklearn\\linear_model\\_coordinate_descent.py:529: ConvergenceWarning: Objective did not converge. You might want to increase the number of iterations. Duality gap: 228816.9959194163, tolerance: 51.332769704433495\n",
      "  model = cd_fast.enet_coordinate_descent(\n",
      "C:\\Users\\Ilyass\\anaconda3\\lib\\site-packages\\sklearn\\linear_model\\_coordinate_descent.py:529: ConvergenceWarning: Objective did not converge. You might want to increase the number of iterations. Duality gap: 274098.24173294666, tolerance: 61.14089384236453\n",
      "  model = cd_fast.enet_coordinate_descent(\n",
      "C:\\Users\\Ilyass\\anaconda3\\lib\\site-packages\\sklearn\\linear_model\\_coordinate_descent.py:529: ConvergenceWarning: Objective did not converge. You might want to increase the number of iterations. Duality gap: 271400.82171654527, tolerance: 60.5635960591133\n",
      "  model = cd_fast.enet_coordinate_descent(\n",
      "C:\\Users\\Ilyass\\anaconda3\\lib\\site-packages\\sklearn\\linear_model\\_coordinate_descent.py:529: ConvergenceWarning: Objective did not converge. You might want to increase the number of iterations. Duality gap: 254875.10811765905, tolerance: 56.497910073710074\n",
      "  model = cd_fast.enet_coordinate_descent(\n",
      "C:\\Users\\Ilyass\\anaconda3\\lib\\site-packages\\sklearn\\linear_model\\_coordinate_descent.py:529: ConvergenceWarning: Objective did not converge. You might want to increase the number of iterations. Duality gap: 262062.1384997706, tolerance: 58.46584029484029\n",
      "  model = cd_fast.enet_coordinate_descent(\n",
      "C:\\Users\\Ilyass\\anaconda3\\lib\\site-packages\\sklearn\\linear_model\\_coordinate_descent.py:529: ConvergenceWarning: Objective did not converge. You might want to increase the number of iterations. Duality gap: 229285.65750027008, tolerance: 51.332769704433495\n",
      "  model = cd_fast.enet_coordinate_descent(\n",
      "C:\\Users\\Ilyass\\anaconda3\\lib\\site-packages\\sklearn\\linear_model\\_coordinate_descent.py:529: ConvergenceWarning: Objective did not converge. You might want to increase the number of iterations. Duality gap: 274635.91628602834, tolerance: 61.14089384236453\n",
      "  model = cd_fast.enet_coordinate_descent(\n",
      "C:\\Users\\Ilyass\\anaconda3\\lib\\site-packages\\sklearn\\linear_model\\_coordinate_descent.py:529: ConvergenceWarning: Objective did not converge. You might want to increase the number of iterations. Duality gap: 271920.2160414974, tolerance: 60.5635960591133\n",
      "  model = cd_fast.enet_coordinate_descent(\n",
      "C:\\Users\\Ilyass\\anaconda3\\lib\\site-packages\\sklearn\\linear_model\\_coordinate_descent.py:529: ConvergenceWarning: Objective did not converge. You might want to increase the number of iterations. Duality gap: 255400.8278212517, tolerance: 56.497910073710074\n",
      "  model = cd_fast.enet_coordinate_descent(\n",
      "C:\\Users\\Ilyass\\anaconda3\\lib\\site-packages\\sklearn\\linear_model\\_coordinate_descent.py:529: ConvergenceWarning: Objective did not converge. You might want to increase the number of iterations. Duality gap: 262603.2715764472, tolerance: 58.46584029484029\n",
      "  model = cd_fast.enet_coordinate_descent(\n",
      "C:\\Users\\Ilyass\\anaconda3\\lib\\site-packages\\sklearn\\linear_model\\_coordinate_descent.py:529: ConvergenceWarning: Objective did not converge. You might want to increase the number of iterations. Duality gap: 229730.27438809825, tolerance: 51.332769704433495\n",
      "  model = cd_fast.enet_coordinate_descent(\n",
      "C:\\Users\\Ilyass\\anaconda3\\lib\\site-packages\\sklearn\\linear_model\\_coordinate_descent.py:529: ConvergenceWarning: Objective did not converge. You might want to increase the number of iterations. Duality gap: 275144.6506922087, tolerance: 61.14089384236453\n",
      "  model = cd_fast.enet_coordinate_descent(\n",
      "C:\\Users\\Ilyass\\anaconda3\\lib\\site-packages\\sklearn\\linear_model\\_coordinate_descent.py:529: ConvergenceWarning: Objective did not converge. You might want to increase the number of iterations. Duality gap: 272411.5701172306, tolerance: 60.5635960591133\n",
      "  model = cd_fast.enet_coordinate_descent(\n",
      "C:\\Users\\Ilyass\\anaconda3\\lib\\site-packages\\sklearn\\linear_model\\_coordinate_descent.py:529: ConvergenceWarning: Objective did not converge. You might want to increase the number of iterations. Duality gap: 255895.45750762458, tolerance: 56.497910073710074\n",
      "  model = cd_fast.enet_coordinate_descent(\n",
      "C:\\Users\\Ilyass\\anaconda3\\lib\\site-packages\\sklearn\\linear_model\\_coordinate_descent.py:529: ConvergenceWarning: Objective did not converge. You might want to increase the number of iterations. Duality gap: 263113.6309880646, tolerance: 58.46584029484029\n",
      "  model = cd_fast.enet_coordinate_descent(\n",
      "C:\\Users\\Ilyass\\anaconda3\\lib\\site-packages\\sklearn\\linear_model\\_coordinate_descent.py:529: ConvergenceWarning: Objective did not converge. You might want to increase the number of iterations. Duality gap: 230153.34518910208, tolerance: 51.332769704433495\n",
      "  model = cd_fast.enet_coordinate_descent(\n",
      "C:\\Users\\Ilyass\\anaconda3\\lib\\site-packages\\sklearn\\linear_model\\_coordinate_descent.py:529: ConvergenceWarning: Objective did not converge. You might want to increase the number of iterations. Duality gap: 275627.54388734594, tolerance: 61.14089384236453\n",
      "  model = cd_fast.enet_coordinate_descent(\n",
      "C:\\Users\\Ilyass\\anaconda3\\lib\\site-packages\\sklearn\\linear_model\\_coordinate_descent.py:529: ConvergenceWarning: Objective did not converge. You might want to increase the number of iterations. Duality gap: 272877.99509359064, tolerance: 60.5635960591133\n",
      "  model = cd_fast.enet_coordinate_descent(\n",
      "C:\\Users\\Ilyass\\anaconda3\\lib\\site-packages\\sklearn\\linear_model\\_coordinate_descent.py:529: ConvergenceWarning: Objective did not converge. You might want to increase the number of iterations. Duality gap: 256362.4996889444, tolerance: 56.497910073710074\n",
      "  model = cd_fast.enet_coordinate_descent(\n",
      "C:\\Users\\Ilyass\\anaconda3\\lib\\site-packages\\sklearn\\linear_model\\_coordinate_descent.py:529: ConvergenceWarning: Objective did not converge. You might want to increase the number of iterations. Duality gap: 263596.666449394, tolerance: 58.46584029484029\n",
      "  model = cd_fast.enet_coordinate_descent(\n",
      "C:\\Users\\Ilyass\\anaconda3\\lib\\site-packages\\sklearn\\linear_model\\_coordinate_descent.py:529: ConvergenceWarning: Objective did not converge. You might want to increase the number of iterations. Duality gap: 230556.97657810588, tolerance: 51.332769704433495\n",
      "  model = cd_fast.enet_coordinate_descent(\n",
      "C:\\Users\\Ilyass\\anaconda3\\lib\\site-packages\\sklearn\\linear_model\\_coordinate_descent.py:529: ConvergenceWarning: Objective did not converge. You might want to increase the number of iterations. Duality gap: 276087.2077500598, tolerance: 61.14089384236453\n",
      "  model = cd_fast.enet_coordinate_descent(\n",
      "C:\\Users\\Ilyass\\anaconda3\\lib\\site-packages\\sklearn\\linear_model\\_coordinate_descent.py:529: ConvergenceWarning: Objective did not converge. You might want to increase the number of iterations. Duality gap: 273322.0919267659, tolerance: 60.5635960591133\n",
      "  model = cd_fast.enet_coordinate_descent(\n",
      "C:\\Users\\Ilyass\\anaconda3\\lib\\site-packages\\sklearn\\linear_model\\_coordinate_descent.py:529: ConvergenceWarning: Objective did not converge. You might want to increase the number of iterations. Duality gap: 256804.89135198705, tolerance: 56.497910073710074\n",
      "  model = cd_fast.enet_coordinate_descent(\n",
      "C:\\Users\\Ilyass\\anaconda3\\lib\\site-packages\\sklearn\\linear_model\\_coordinate_descent.py:529: ConvergenceWarning: Objective did not converge. You might want to increase the number of iterations. Duality gap: 264055.2662797218, tolerance: 58.46584029484029\n",
      "  model = cd_fast.enet_coordinate_descent(\n",
      "C:\\Users\\Ilyass\\anaconda3\\lib\\site-packages\\sklearn\\linear_model\\_coordinate_descent.py:529: ConvergenceWarning: Objective did not converge. You might want to increase the number of iterations. Duality gap: 230942.96262112015, tolerance: 51.332769704433495\n",
      "  model = cd_fast.enet_coordinate_descent(\n",
      "C:\\Users\\Ilyass\\anaconda3\\lib\\site-packages\\sklearn\\linear_model\\_coordinate_descent.py:529: ConvergenceWarning: Objective did not converge. You might want to increase the number of iterations. Duality gap: 276525.8643712289, tolerance: 61.14089384236453\n",
      "  model = cd_fast.enet_coordinate_descent(\n",
      "C:\\Users\\Ilyass\\anaconda3\\lib\\site-packages\\sklearn\\linear_model\\_coordinate_descent.py:529: ConvergenceWarning: Objective did not converge. You might want to increase the number of iterations. Duality gap: 273746.05733424, tolerance: 60.5635960591133\n",
      "  model = cd_fast.enet_coordinate_descent(\n",
      "C:\\Users\\Ilyass\\anaconda3\\lib\\site-packages\\sklearn\\linear_model\\_coordinate_descent.py:529: ConvergenceWarning: Objective did not converge. You might want to increase the number of iterations. Duality gap: 257225.11880061755, tolerance: 56.497910073710074\n",
      "  model = cd_fast.enet_coordinate_descent(\n",
      "C:\\Users\\Ilyass\\anaconda3\\lib\\site-packages\\sklearn\\linear_model\\_coordinate_descent.py:529: ConvergenceWarning: Objective did not converge. You might want to increase the number of iterations. Duality gap: 264491.8725630708, tolerance: 58.46584029484029\n",
      "  model = cd_fast.enet_coordinate_descent(\n"
     ]
    },
    {
     "name": "stderr",
     "output_type": "stream",
     "text": [
      "C:\\Users\\Ilyass\\anaconda3\\lib\\site-packages\\sklearn\\linear_model\\_coordinate_descent.py:529: ConvergenceWarning: Objective did not converge. You might want to increase the number of iterations. Duality gap: 231312.84492947123, tolerance: 51.332769704433495\n",
      "  model = cd_fast.enet_coordinate_descent(\n",
      "C:\\Users\\Ilyass\\anaconda3\\lib\\site-packages\\sklearn\\linear_model\\_coordinate_descent.py:529: ConvergenceWarning: Objective did not converge. You might want to increase the number of iterations. Duality gap: 276945.4202669922, tolerance: 61.14089384236453\n",
      "  model = cd_fast.enet_coordinate_descent(\n",
      "C:\\Users\\Ilyass\\anaconda3\\lib\\site-packages\\sklearn\\linear_model\\_coordinate_descent.py:529: ConvergenceWarning: Objective did not converge. You might want to increase the number of iterations. Duality gap: 274151.7637656232, tolerance: 60.5635960591133\n",
      "  model = cd_fast.enet_coordinate_descent(\n",
      "C:\\Users\\Ilyass\\anaconda3\\lib\\site-packages\\sklearn\\linear_model\\_coordinate_descent.py:529: ConvergenceWarning: Objective did not converge. You might want to increase the number of iterations. Duality gap: 257625.30496133846, tolerance: 56.497910073710074\n",
      "  model = cd_fast.enet_coordinate_descent(\n",
      "C:\\Users\\Ilyass\\anaconda3\\lib\\site-packages\\sklearn\\linear_model\\_coordinate_descent.py:529: ConvergenceWarning: Objective did not converge. You might want to increase the number of iterations. Duality gap: 264908.56842710613, tolerance: 58.46584029484029\n",
      "  model = cd_fast.enet_coordinate_descent(\n",
      "C:\\Users\\Ilyass\\anaconda3\\lib\\site-packages\\sklearn\\linear_model\\_coordinate_descent.py:529: ConvergenceWarning: Objective did not converge. You might want to increase the number of iterations. Duality gap: 231667.95894345595, tolerance: 51.332769704433495\n",
      "  model = cd_fast.enet_coordinate_descent(\n",
      "C:\\Users\\Ilyass\\anaconda3\\lib\\site-packages\\sklearn\\linear_model\\_coordinate_descent.py:529: ConvergenceWarning: Objective did not converge. You might want to increase the number of iterations. Duality gap: 277347.52377781976, tolerance: 61.14089384236453\n",
      "  model = cd_fast.enet_coordinate_descent(\n",
      "C:\\Users\\Ilyass\\anaconda3\\lib\\site-packages\\sklearn\\linear_model\\_coordinate_descent.py:529: ConvergenceWarning: Objective did not converge. You might want to increase the number of iterations. Duality gap: 274540.8206328012, tolerance: 60.5635960591133\n",
      "  model = cd_fast.enet_coordinate_descent(\n",
      "C:\\Users\\Ilyass\\anaconda3\\lib\\site-packages\\sklearn\\linear_model\\_coordinate_descent.py:529: ConvergenceWarning: Objective did not converge. You might want to increase the number of iterations. Duality gap: 258007.2766699588, tolerance: 56.497910073710074\n",
      "  model = cd_fast.enet_coordinate_descent(\n",
      "C:\\Users\\Ilyass\\anaconda3\\lib\\site-packages\\sklearn\\linear_model\\_coordinate_descent.py:529: ConvergenceWarning: Objective did not converge. You might want to increase the number of iterations. Duality gap: 265307.1451201478, tolerance: 58.46584029484029\n",
      "  model = cd_fast.enet_coordinate_descent(\n",
      "C:\\Users\\Ilyass\\anaconda3\\lib\\site-packages\\sklearn\\linear_model\\_coordinate_descent.py:529: ConvergenceWarning: Objective did not converge. You might want to increase the number of iterations. Duality gap: 232009.4700134229, tolerance: 51.332769704433495\n",
      "  model = cd_fast.enet_coordinate_descent(\n",
      "C:\\Users\\Ilyass\\anaconda3\\lib\\site-packages\\sklearn\\linear_model\\_coordinate_descent.py:529: ConvergenceWarning: Objective did not converge. You might want to increase the number of iterations. Duality gap: 277733.6100133633, tolerance: 61.14089384236453\n",
      "  model = cd_fast.enet_coordinate_descent(\n",
      "C:\\Users\\Ilyass\\anaconda3\\lib\\site-packages\\sklearn\\linear_model\\_coordinate_descent.py:529: ConvergenceWarning: Objective did not converge. You might want to increase the number of iterations. Duality gap: 274914.62180298404, tolerance: 60.5635960591133\n",
      "  model = cd_fast.enet_coordinate_descent(\n",
      "C:\\Users\\Ilyass\\anaconda3\\lib\\site-packages\\sklearn\\linear_model\\_coordinate_descent.py:529: ConvergenceWarning: Objective did not converge. You might want to increase the number of iterations. Duality gap: 258372.6171758163, tolerance: 56.497910073710074\n",
      "  model = cd_fast.enet_coordinate_descent(\n",
      "C:\\Users\\Ilyass\\anaconda3\\lib\\site-packages\\sklearn\\linear_model\\_coordinate_descent.py:529: ConvergenceWarning: Objective did not converge. You might want to increase the number of iterations. Duality gap: 265689.1542163878, tolerance: 58.46584029484029\n",
      "  model = cd_fast.enet_coordinate_descent(\n",
      "C:\\Users\\Ilyass\\anaconda3\\lib\\site-packages\\sklearn\\linear_model\\_coordinate_descent.py:529: ConvergenceWarning: Objective did not converge. You might want to increase the number of iterations. Duality gap: 232338.40186410115, tolerance: 51.332769704433495\n",
      "  model = cd_fast.enet_coordinate_descent(\n",
      "C:\\Users\\Ilyass\\anaconda3\\lib\\site-packages\\sklearn\\linear_model\\_coordinate_descent.py:529: ConvergenceWarning: Objective did not converge. You might want to increase the number of iterations. Duality gap: 278104.936441409, tolerance: 61.14089384236453\n",
      "  model = cd_fast.enet_coordinate_descent(\n",
      "C:\\Users\\Ilyass\\anaconda3\\lib\\site-packages\\sklearn\\linear_model\\_coordinate_descent.py:529: ConvergenceWarning: Objective did not converge. You might want to increase the number of iterations. Duality gap: 275274.38287353975, tolerance: 60.5635960591133\n",
      "  model = cd_fast.enet_coordinate_descent(\n",
      "C:\\Users\\Ilyass\\anaconda3\\lib\\site-packages\\sklearn\\linear_model\\_coordinate_descent.py:529: ConvergenceWarning: Objective did not converge. You might want to increase the number of iterations. Duality gap: 258722.70757487332, tolerance: 56.497910073710074\n",
      "  model = cd_fast.enet_coordinate_descent(\n",
      "C:\\Users\\Ilyass\\anaconda3\\lib\\site-packages\\sklearn\\linear_model\\_coordinate_descent.py:529: ConvergenceWarning: Objective did not converge. You might want to increase the number of iterations. Duality gap: 266055.94871482137, tolerance: 58.46584029484029\n",
      "  model = cd_fast.enet_coordinate_descent(\n",
      "C:\\Users\\Ilyass\\anaconda3\\lib\\site-packages\\sklearn\\linear_model\\_coordinate_descent.py:529: ConvergenceWarning: Objective did not converge. You might want to increase the number of iterations. Duality gap: 232655.65929537342, tolerance: 51.332769704433495\n",
      "  model = cd_fast.enet_coordinate_descent(\n",
      "C:\\Users\\Ilyass\\anaconda3\\lib\\site-packages\\sklearn\\linear_model\\_coordinate_descent.py:529: ConvergenceWarning: Objective did not converge. You might want to increase the number of iterations. Duality gap: 278462.61135783535, tolerance: 61.14089384236453\n",
      "  model = cd_fast.enet_coordinate_descent(\n",
      "C:\\Users\\Ilyass\\anaconda3\\lib\\site-packages\\sklearn\\linear_model\\_coordinate_descent.py:529: ConvergenceWarning: Objective did not converge. You might want to increase the number of iterations. Duality gap: 275621.1707439534, tolerance: 60.5635960591133\n",
      "  model = cd_fast.enet_coordinate_descent(\n",
      "C:\\Users\\Ilyass\\anaconda3\\lib\\site-packages\\sklearn\\linear_model\\_coordinate_descent.py:529: ConvergenceWarning: Objective did not converge. You might want to increase the number of iterations. Duality gap: 259058.75984404917, tolerance: 56.497910073710074\n",
      "  model = cd_fast.enet_coordinate_descent(\n",
      "C:\\Users\\Ilyass\\anaconda3\\lib\\site-packages\\sklearn\\linear_model\\_coordinate_descent.py:529: ConvergenceWarning: Objective did not converge. You might want to increase the number of iterations. Duality gap: 266408.7157350376, tolerance: 58.46584029484029\n",
      "  model = cd_fast.enet_coordinate_descent(\n",
      "C:\\Users\\Ilyass\\anaconda3\\lib\\site-packages\\sklearn\\linear_model\\_coordinate_descent.py:529: ConvergenceWarning: Objective did not converge. You might want to increase the number of iterations. Duality gap: 232962.04646766942, tolerance: 51.332769704433495\n",
      "  model = cd_fast.enet_coordinate_descent(\n",
      "C:\\Users\\Ilyass\\anaconda3\\lib\\site-packages\\sklearn\\linear_model\\_coordinate_descent.py:529: ConvergenceWarning: Objective did not converge. You might want to increase the number of iterations. Duality gap: 278807.6168759172, tolerance: 61.14089384236453\n",
      "  model = cd_fast.enet_coordinate_descent(\n",
      "C:\\Users\\Ilyass\\anaconda3\\lib\\site-packages\\sklearn\\linear_model\\_coordinate_descent.py:529: ConvergenceWarning: Objective did not converge. You might want to increase the number of iterations. Duality gap: 275955.9273097387, tolerance: 60.5635960591133\n",
      "  model = cd_fast.enet_coordinate_descent(\n",
      "C:\\Users\\Ilyass\\anaconda3\\lib\\site-packages\\sklearn\\linear_model\\_coordinate_descent.py:529: ConvergenceWarning: Objective did not converge. You might want to increase the number of iterations. Duality gap: 259381.84342877718, tolerance: 56.497910073710074\n",
      "  model = cd_fast.enet_coordinate_descent(\n",
      "C:\\Users\\Ilyass\\anaconda3\\lib\\site-packages\\sklearn\\linear_model\\_coordinate_descent.py:529: ConvergenceWarning: Objective did not converge. You might want to increase the number of iterations. Duality gap: 266748.5027788463, tolerance: 58.46584029484029\n",
      "  model = cd_fast.enet_coordinate_descent(\n"
     ]
    },
    {
     "name": "stderr",
     "output_type": "stream",
     "text": [
      "C:\\Users\\Ilyass\\anaconda3\\lib\\site-packages\\sklearn\\linear_model\\_coordinate_descent.py:529: ConvergenceWarning: Objective did not converge. You might want to increase the number of iterations. Duality gap: 233258.2817662771, tolerance: 51.332769704433495\n",
      "  model = cd_fast.enet_coordinate_descent(\n",
      "C:\\Users\\Ilyass\\anaconda3\\lib\\site-packages\\sklearn\\linear_model\\_coordinate_descent.py:529: ConvergenceWarning: Objective did not converge. You might want to increase the number of iterations. Duality gap: 279140.8276507295, tolerance: 61.14089384236453\n",
      "  model = cd_fast.enet_coordinate_descent(\n",
      "C:\\Users\\Ilyass\\anaconda3\\lib\\site-packages\\sklearn\\linear_model\\_coordinate_descent.py:529: ConvergenceWarning: Objective did not converge. You might want to increase the number of iterations. Duality gap: 276279.48862027196, tolerance: 60.5635960591133\n",
      "  model = cd_fast.enet_coordinate_descent(\n",
      "C:\\Users\\Ilyass\\anaconda3\\lib\\site-packages\\sklearn\\linear_model\\_coordinate_descent.py:529: ConvergenceWarning: Objective did not converge. You might want to increase the number of iterations. Duality gap: 259692.9068285413, tolerance: 56.497910073710074\n",
      "  model = cd_fast.enet_coordinate_descent(\n",
      "C:\\Users\\Ilyass\\anaconda3\\lib\\site-packages\\sklearn\\linear_model\\_coordinate_descent.py:529: ConvergenceWarning: Objective did not converge. You might want to increase the number of iterations. Duality gap: 267076.23901116714, tolerance: 58.46584029484029\n",
      "  model = cd_fast.enet_coordinate_descent(\n",
      "C:\\Users\\Ilyass\\anaconda3\\lib\\site-packages\\sklearn\\linear_model\\_coordinate_descent.py:529: ConvergenceWarning: Objective did not converge. You might want to increase the number of iterations. Duality gap: 233545.0099871757, tolerance: 51.332769704433495\n",
      "  model = cd_fast.enet_coordinate_descent(\n",
      "C:\\Users\\Ilyass\\anaconda3\\lib\\site-packages\\sklearn\\linear_model\\_coordinate_descent.py:529: ConvergenceWarning: Objective did not converge. You might want to increase the number of iterations. Duality gap: 279463.0262517766, tolerance: 61.14089384236453\n",
      "  model = cd_fast.enet_coordinate_descent(\n",
      "C:\\Users\\Ilyass\\anaconda3\\lib\\site-packages\\sklearn\\linear_model\\_coordinate_descent.py:529: ConvergenceWarning: Objective did not converge. You might want to increase the number of iterations. Duality gap: 276592.6004997827, tolerance: 60.5635960591133\n",
      "  model = cd_fast.enet_coordinate_descent(\n",
      "C:\\Users\\Ilyass\\anaconda3\\lib\\site-packages\\sklearn\\linear_model\\_coordinate_descent.py:529: ConvergenceWarning: Objective did not converge. You might want to increase the number of iterations. Duality gap: 259992.79526262096, tolerance: 56.497910073710074\n",
      "  model = cd_fast.enet_coordinate_descent(\n",
      "C:\\Users\\Ilyass\\anaconda3\\lib\\site-packages\\sklearn\\linear_model\\_coordinate_descent.py:529: ConvergenceWarning: Objective did not converge. You might want to increase the number of iterations. Duality gap: 267392.7526462592, tolerance: 58.46584029484029\n",
      "  model = cd_fast.enet_coordinate_descent(\n",
      "C:\\Users\\Ilyass\\anaconda3\\lib\\site-packages\\sklearn\\linear_model\\_coordinate_descent.py:529: ConvergenceWarning: Objective did not converge. You might want to increase the number of iterations. Duality gap: 233822.8124054916, tolerance: 51.332769704433495\n",
      "  model = cd_fast.enet_coordinate_descent(\n",
      "C:\\Users\\Ilyass\\anaconda3\\lib\\site-packages\\sklearn\\linear_model\\_coordinate_descent.py:529: ConvergenceWarning: Objective did not converge. You might want to increase the number of iterations. Duality gap: 279774.9158772993, tolerance: 61.14089384236453\n",
      "  model = cd_fast.enet_coordinate_descent(\n",
      "C:\\Users\\Ilyass\\anaconda3\\lib\\site-packages\\sklearn\\linear_model\\_coordinate_descent.py:529: ConvergenceWarning: Objective did not converge. You might want to increase the number of iterations. Duality gap: 276895.9313841682, tolerance: 60.5635960591133\n",
      "  model = cd_fast.enet_coordinate_descent(\n",
      "C:\\Users\\Ilyass\\anaconda3\\lib\\site-packages\\sklearn\\linear_model\\_coordinate_descent.py:529: ConvergenceWarning: Objective did not converge. You might want to increase the number of iterations. Duality gap: 260282.2652358131, tolerance: 56.497910073710074\n",
      "  model = cd_fast.enet_coordinate_descent(\n",
      "C:\\Users\\Ilyass\\anaconda3\\lib\\site-packages\\sklearn\\linear_model\\_coordinate_descent.py:529: ConvergenceWarning: Objective did not converge. You might want to increase the number of iterations. Duality gap: 267698.78526003263, tolerance: 58.46584029484029\n",
      "  model = cd_fast.enet_coordinate_descent(\n",
      "C:\\Users\\Ilyass\\anaconda3\\lib\\site-packages\\sklearn\\linear_model\\_coordinate_descent.py:529: ConvergenceWarning: Objective did not converge. You might want to increase the number of iterations. Duality gap: 234092.21515509966, tolerance: 51.332769704433495\n",
      "  model = cd_fast.enet_coordinate_descent(\n",
      "C:\\Users\\Ilyass\\anaconda3\\lib\\site-packages\\sklearn\\linear_model\\_coordinate_descent.py:529: ConvergenceWarning: Objective did not converge. You might want to increase the number of iterations. Duality gap: 280077.1309423175, tolerance: 61.14089384236453\n",
      "  model = cd_fast.enet_coordinate_descent(\n",
      "C:\\Users\\Ilyass\\anaconda3\\lib\\site-packages\\sklearn\\linear_model\\_coordinate_descent.py:529: ConvergenceWarning: Objective did not converge. You might want to increase the number of iterations. Duality gap: 277190.0829466006, tolerance: 60.5635960591133\n",
      "  model = cd_fast.enet_coordinate_descent(\n",
      "C:\\Users\\Ilyass\\anaconda3\\lib\\site-packages\\sklearn\\linear_model\\_coordinate_descent.py:529: ConvergenceWarning: Objective did not converge. You might want to increase the number of iterations. Duality gap: 260561.99663151157, tolerance: 56.497910073710074\n",
      "  model = cd_fast.enet_coordinate_descent(\n",
      "C:\\Users\\Ilyass\\anaconda3\\lib\\site-packages\\sklearn\\linear_model\\_coordinate_descent.py:529: ConvergenceWarning: Objective did not converge. You might want to increase the number of iterations. Duality gap: 267995.0036552075, tolerance: 58.46584029484029\n",
      "  model = cd_fast.enet_coordinate_descent(\n",
      "C:\\Users\\Ilyass\\anaconda3\\lib\\site-packages\\sklearn\\linear_model\\_coordinate_descent.py:529: ConvergenceWarning: Objective did not converge. You might want to increase the number of iterations. Duality gap: 234353.69624993176, tolerance: 51.332769704433495\n",
      "  model = cd_fast.enet_coordinate_descent(\n",
      "C:\\Users\\Ilyass\\anaconda3\\lib\\site-packages\\sklearn\\linear_model\\_coordinate_descent.py:529: ConvergenceWarning: Objective did not converge. You might want to increase the number of iterations. Duality gap: 280370.2459525396, tolerance: 61.14089384236453\n",
      "  model = cd_fast.enet_coordinate_descent(\n",
      "C:\\Users\\Ilyass\\anaconda3\\lib\\site-packages\\sklearn\\linear_model\\_coordinate_descent.py:529: ConvergenceWarning: Objective did not converge. You might want to increase the number of iterations. Duality gap: 277475.59895246313, tolerance: 60.5635960591133\n",
      "  model = cd_fast.enet_coordinate_descent(\n",
      "C:\\Users\\Ilyass\\anaconda3\\lib\\site-packages\\sklearn\\linear_model\\_coordinate_descent.py:529: ConvergenceWarning: Objective did not converge. You might want to increase the number of iterations. Duality gap: 260832.60281686444, tolerance: 56.497910073710074\n",
      "  model = cd_fast.enet_coordinate_descent(\n",
      "C:\\Users\\Ilyass\\anaconda3\\lib\\site-packages\\sklearn\\linear_model\\_coordinate_descent.py:529: ConvergenceWarning: Objective did not converge. You might want to increase the number of iterations. Duality gap: 268282.00976253825, tolerance: 58.46584029484029\n",
      "  model = cd_fast.enet_coordinate_descent(\n",
      "C:\\Users\\Ilyass\\anaconda3\\lib\\site-packages\\sklearn\\linear_model\\_coordinate_descent.py:529: ConvergenceWarning: Objective did not converge. You might want to increase the number of iterations. Duality gap: 234607.69150437176, tolerance: 51.332769704433495\n",
      "  model = cd_fast.enet_coordinate_descent(\n",
      "C:\\Users\\Ilyass\\anaconda3\\lib\\site-packages\\sklearn\\linear_model\\_coordinate_descent.py:529: ConvergenceWarning: Objective did not converge. You might want to increase the number of iterations. Duality gap: 280654.7829861978, tolerance: 61.14089384236453\n",
      "  model = cd_fast.enet_coordinate_descent(\n",
      "C:\\Users\\Ilyass\\anaconda3\\lib\\site-packages\\sklearn\\linear_model\\_coordinate_descent.py:529: ConvergenceWarning: Objective did not converge. You might want to increase the number of iterations. Duality gap: 277752.9726854347, tolerance: 60.5635960591133\n",
      "  model = cd_fast.enet_coordinate_descent(\n",
      "C:\\Users\\Ilyass\\anaconda3\\lib\\site-packages\\sklearn\\linear_model\\_coordinate_descent.py:529: ConvergenceWarning: Objective did not converge. You might want to increase the number of iterations. Duality gap: 261094.63913787497, tolerance: 56.497910073710074\n",
      "  model = cd_fast.enet_coordinate_descent(\n",
      "C:\\Users\\Ilyass\\anaconda3\\lib\\site-packages\\sklearn\\linear_model\\_coordinate_descent.py:529: ConvergenceWarning: Objective did not converge. You might want to increase the number of iterations. Duality gap: 268560.34895408707, tolerance: 58.46584029484029\n",
      "  model = cd_fast.enet_coordinate_descent(\n"
     ]
    },
    {
     "name": "stderr",
     "output_type": "stream",
     "text": [
      "C:\\Users\\Ilyass\\anaconda3\\lib\\site-packages\\sklearn\\linear_model\\_coordinate_descent.py:529: ConvergenceWarning: Objective did not converge. You might want to increase the number of iterations. Duality gap: 234854.59955484283, tolerance: 51.332769704433495\n",
      "  model = cd_fast.enet_coordinate_descent(\n",
      "C:\\Users\\Ilyass\\anaconda3\\lib\\site-packages\\sklearn\\linear_model\\_coordinate_descent.py:529: ConvergenceWarning: Objective did not converge. You might want to increase the number of iterations. Duality gap: 280931.21803759795, tolerance: 61.14089384236453\n",
      "  model = cd_fast.enet_coordinate_descent(\n",
      "C:\\Users\\Ilyass\\anaconda3\\lib\\site-packages\\sklearn\\linear_model\\_coordinate_descent.py:529: ConvergenceWarning: Objective did not converge. You might want to increase the number of iterations. Duality gap: 278022.6532122391, tolerance: 60.5635960591133\n",
      "  model = cd_fast.enet_coordinate_descent(\n",
      "C:\\Users\\Ilyass\\anaconda3\\lib\\site-packages\\sklearn\\linear_model\\_coordinate_descent.py:529: ConvergenceWarning: Objective did not converge. You might want to increase the number of iterations. Duality gap: 261348.61010144252, tolerance: 56.497910073710074\n",
      "  model = cd_fast.enet_coordinate_descent(\n",
      "C:\\Users\\Ilyass\\anaconda3\\lib\\site-packages\\sklearn\\linear_model\\_coordinate_descent.py:529: ConvergenceWarning: Objective did not converge. You might want to increase the number of iterations. Duality gap: 268830.517063501, tolerance: 58.46584029484029\n",
      "  model = cd_fast.enet_coordinate_descent(\n",
      "C:\\Users\\Ilyass\\anaconda3\\lib\\site-packages\\sklearn\\linear_model\\_coordinate_descent.py:529: ConvergenceWarning: Objective did not converge. You might want to increase the number of iterations. Duality gap: 235094.78614263318, tolerance: 51.332769704433495\n",
      "  model = cd_fast.enet_coordinate_descent(\n",
      "C:\\Users\\Ilyass\\anaconda3\\lib\\site-packages\\sklearn\\linear_model\\_coordinate_descent.py:529: ConvergenceWarning: Objective did not converge. You might want to increase the number of iterations. Duality gap: 281199.9864238734, tolerance: 61.14089384236453\n",
      "  model = cd_fast.enet_coordinate_descent(\n",
      "C:\\Users\\Ilyass\\anaconda3\\lib\\site-packages\\sklearn\\linear_model\\_coordinate_descent.py:529: ConvergenceWarning: Objective did not converge. You might want to increase the number of iterations. Duality gap: 278285.0506971142, tolerance: 60.5635960591133\n",
      "  model = cd_fast.enet_coordinate_descent(\n",
      "C:\\Users\\Ilyass\\anaconda3\\lib\\site-packages\\sklearn\\linear_model\\_coordinate_descent.py:529: ConvergenceWarning: Objective did not converge. You might want to increase the number of iterations. Duality gap: 261594.9754796067, tolerance: 56.497910073710074\n",
      "  model = cd_fast.enet_coordinate_descent(\n",
      "C:\\Users\\Ilyass\\anaconda3\\lib\\site-packages\\sklearn\\linear_model\\_coordinate_descent.py:529: ConvergenceWarning: Objective did not converge. You might want to increase the number of iterations. Duality gap: 269092.9663465398, tolerance: 58.46584029484029\n",
      "  model = cd_fast.enet_coordinate_descent(\n",
      "C:\\Users\\Ilyass\\anaconda3\\lib\\site-packages\\sklearn\\linear_model\\_coordinate_descent.py:529: ConvergenceWarning: Objective did not converge. You might want to increase the number of iterations. Duality gap: 235328.58778560488, tolerance: 51.332769704433495\n",
      "  model = cd_fast.enet_coordinate_descent(\n",
      "C:\\Users\\Ilyass\\anaconda3\\lib\\site-packages\\sklearn\\linear_model\\_coordinate_descent.py:529: ConvergenceWarning: Objective did not converge. You might want to increase the number of iterations. Duality gap: 281461.48741612805, tolerance: 61.14089384236453\n",
      "  model = cd_fast.enet_coordinate_descent(\n",
      "C:\\Users\\Ilyass\\anaconda3\\lib\\site-packages\\sklearn\\linear_model\\_coordinate_descent.py:529: ConvergenceWarning: Objective did not converge. You might want to increase the number of iterations. Duality gap: 278540.54093375854, tolerance: 60.5635960591133\n",
      "  model = cd_fast.enet_coordinate_descent(\n",
      "C:\\Users\\Ilyass\\anaconda3\\lib\\site-packages\\sklearn\\linear_model\\_coordinate_descent.py:529: ConvergenceWarning: Objective did not converge. You might want to increase the number of iterations. Duality gap: 261834.15552371042, tolerance: 56.497910073710074\n",
      "  model = cd_fast.enet_coordinate_descent(\n",
      "C:\\Users\\Ilyass\\anaconda3\\lib\\site-packages\\sklearn\\linear_model\\_coordinate_descent.py:529: ConvergenceWarning: Objective did not converge. You might want to increase the number of iterations. Duality gap: 269348.1105676244, tolerance: 58.46584029484029\n",
      "  model = cd_fast.enet_coordinate_descent(\n",
      "C:\\Users\\Ilyass\\anaconda3\\lib\\site-packages\\sklearn\\linear_model\\_coordinate_descent.py:529: ConvergenceWarning: Objective did not converge. You might want to increase the number of iterations. Duality gap: 235556.31494137977, tolerance: 51.332769704433495\n",
      "  model = cd_fast.enet_coordinate_descent(\n",
      "C:\\Users\\Ilyass\\anaconda3\\lib\\site-packages\\sklearn\\linear_model\\_coordinate_descent.py:529: ConvergenceWarning: Objective did not converge. You might want to increase the number of iterations. Duality gap: 281716.08822473406, tolerance: 61.14089384236453\n",
      "  model = cd_fast.enet_coordinate_descent(\n",
      "C:\\Users\\Ilyass\\anaconda3\\lib\\site-packages\\sklearn\\linear_model\\_coordinate_descent.py:529: ConvergenceWarning: Objective did not converge. You might want to increase the number of iterations. Duality gap: 278789.46922905464, tolerance: 60.5635960591133\n",
      "  model = cd_fast.enet_coordinate_descent(\n",
      "C:\\Users\\Ilyass\\anaconda3\\lib\\site-packages\\sklearn\\linear_model\\_coordinate_descent.py:529: ConvergenceWarning: Objective did not converge. You might want to increase the number of iterations. Duality gap: 262066.53543928362, tolerance: 56.497910073710074\n",
      "  model = cd_fast.enet_coordinate_descent(\n",
      "C:\\Users\\Ilyass\\anaconda3\\lib\\site-packages\\sklearn\\linear_model\\_coordinate_descent.py:529: ConvergenceWarning: Objective did not converge. You might want to increase the number of iterations. Duality gap: 269596.32936145435, tolerance: 58.46584029484029\n",
      "  model = cd_fast.enet_coordinate_descent(\n",
      "C:\\Users\\Ilyass\\anaconda3\\lib\\site-packages\\sklearn\\linear_model\\_coordinate_descent.py:529: ConvergenceWarning: Objective did not converge. You might want to increase the number of iterations. Duality gap: 235778.2547449503, tolerance: 51.332769704433495\n",
      "  model = cd_fast.enet_coordinate_descent(\n",
      "C:\\Users\\Ilyass\\anaconda3\\lib\\site-packages\\sklearn\\linear_model\\_coordinate_descent.py:529: ConvergenceWarning: Objective did not converge. You might want to increase the number of iterations. Duality gap: 281964.1274439896, tolerance: 61.14089384236453\n",
      "  model = cd_fast.enet_coordinate_descent(\n",
      "C:\\Users\\Ilyass\\anaconda3\\lib\\site-packages\\sklearn\\linear_model\\_coordinate_descent.py:529: ConvergenceWarning: Objective did not converge. You might want to increase the number of iterations. Duality gap: 279032.15374680166, tolerance: 60.5635960591133\n",
      "  model = cd_fast.enet_coordinate_descent(\n",
      "C:\\Users\\Ilyass\\anaconda3\\lib\\site-packages\\sklearn\\linear_model\\_coordinate_descent.py:529: ConvergenceWarning: Objective did not converge. You might want to increase the number of iterations. Duality gap: 262292.46924358275, tolerance: 56.497910073710074\n",
      "  model = cd_fast.enet_coordinate_descent(\n",
      "C:\\Users\\Ilyass\\anaconda3\\lib\\site-packages\\sklearn\\linear_model\\_coordinate_descent.py:529: ConvergenceWarning: Objective did not converge. You might want to increase the number of iterations. Duality gap: 269837.9719899726, tolerance: 58.46584029484029\n",
      "  model = cd_fast.enet_coordinate_descent(\n",
      "C:\\Users\\Ilyass\\anaconda3\\lib\\site-packages\\sklearn\\linear_model\\_coordinate_descent.py:529: ConvergenceWarning: Objective did not converge. You might want to increase the number of iterations. Duality gap: 235994.67338827412, tolerance: 51.332769704433495\n",
      "  model = cd_fast.enet_coordinate_descent(\n",
      "C:\\Users\\Ilyass\\anaconda3\\lib\\site-packages\\sklearn\\linear_model\\_coordinate_descent.py:529: ConvergenceWarning: Objective did not converge. You might want to increase the number of iterations. Duality gap: 282205.91804186185, tolerance: 61.14089384236453\n",
      "  model = cd_fast.enet_coordinate_descent(\n",
      "C:\\Users\\Ilyass\\anaconda3\\lib\\site-packages\\sklearn\\linear_model\\_coordinate_descent.py:529: ConvergenceWarning: Objective did not converge. You might want to increase the number of iterations. Duality gap: 279268.8883992172, tolerance: 60.5635960591133\n",
      "  model = cd_fast.enet_coordinate_descent(\n",
      "C:\\Users\\Ilyass\\anaconda3\\lib\\site-packages\\sklearn\\linear_model\\_coordinate_descent.py:529: ConvergenceWarning: Objective did not converge. You might want to increase the number of iterations. Duality gap: 262512.2831049625, tolerance: 56.497910073710074\n",
      "  model = cd_fast.enet_coordinate_descent(\n",
      "C:\\Users\\Ilyass\\anaconda3\\lib\\site-packages\\sklearn\\linear_model\\_coordinate_descent.py:529: ConvergenceWarning: Objective did not converge. You might want to increase the number of iterations. Duality gap: 270073.3605924424, tolerance: 58.46584029484029\n",
      "  model = cd_fast.enet_coordinate_descent(\n"
     ]
    },
    {
     "name": "stderr",
     "output_type": "stream",
     "text": [
      "C:\\Users\\Ilyass\\anaconda3\\lib\\site-packages\\sklearn\\linear_model\\_coordinate_descent.py:529: ConvergenceWarning: Objective did not converge. You might want to increase the number of iterations. Duality gap: 236205.81819714466, tolerance: 51.332769704433495\n",
      "  model = cd_fast.enet_coordinate_descent(\n",
      "C:\\Users\\Ilyass\\anaconda3\\lib\\site-packages\\sklearn\\linear_model\\_coordinate_descent.py:529: ConvergenceWarning: Objective did not converge. You might want to increase the number of iterations. Duality gap: 282441.74996517086, tolerance: 61.14089384236453\n",
      "  model = cd_fast.enet_coordinate_descent(\n",
      "C:\\Users\\Ilyass\\anaconda3\\lib\\site-packages\\sklearn\\linear_model\\_coordinate_descent.py:529: ConvergenceWarning: Objective did not converge. You might want to increase the number of iterations. Duality gap: 279499.9453578156, tolerance: 60.5635960591133\n",
      "  model = cd_fast.enet_coordinate_descent(\n",
      "C:\\Users\\Ilyass\\anaconda3\\lib\\site-packages\\sklearn\\linear_model\\_coordinate_descent.py:529: ConvergenceWarning: Objective did not converge. You might want to increase the number of iterations. Duality gap: 262726.27824524004, tolerance: 56.497910073710074\n",
      "  model = cd_fast.enet_coordinate_descent(\n",
      "C:\\Users\\Ilyass\\anaconda3\\lib\\site-packages\\sklearn\\linear_model\\_coordinate_descent.py:529: ConvergenceWarning: Objective did not converge. You might want to increase the number of iterations. Duality gap: 270302.79300844343, tolerance: 58.46584029484029\n",
      "  model = cd_fast.enet_coordinate_descent(\n",
      "C:\\Users\\Ilyass\\anaconda3\\lib\\site-packages\\sklearn\\linear_model\\_coordinate_descent.py:529: ConvergenceWarning: Objective did not converge. You might want to increase the number of iterations. Duality gap: 236411.91945088972, tolerance: 51.332769704433495\n",
      "  model = cd_fast.enet_coordinate_descent(\n",
      "C:\\Users\\Ilyass\\anaconda3\\lib\\site-packages\\sklearn\\linear_model\\_coordinate_descent.py:529: ConvergenceWarning: Objective did not converge. You might want to increase the number of iterations. Duality gap: 282671.8924181528, tolerance: 61.14089384236453\n",
      "  model = cd_fast.enet_coordinate_descent(\n",
      "C:\\Users\\Ilyass\\anaconda3\\lib\\site-packages\\sklearn\\linear_model\\_coordinate_descent.py:529: ConvergenceWarning: Objective did not converge. You might want to increase the number of iterations. Duality gap: 279725.577242385, tolerance: 60.5635960591133\n",
      "  model = cd_fast.enet_coordinate_descent(\n",
      "C:\\Users\\Ilyass\\anaconda3\\lib\\site-packages\\sklearn\\linear_model\\_coordinate_descent.py:529: ConvergenceWarning: Objective did not converge. You might want to increase the number of iterations. Duality gap: 262934.733471794, tolerance: 56.497910073710074\n",
      "  model = cd_fast.enet_coordinate_descent(\n",
      "C:\\Users\\Ilyass\\anaconda3\\lib\\site-packages\\sklearn\\linear_model\\_coordinate_descent.py:529: ConvergenceWarning: Objective did not converge. You might want to increase the number of iterations. Duality gap: 270526.54523940507, tolerance: 58.46584029484029\n",
      "  model = cd_fast.enet_coordinate_descent(\n",
      "C:\\Users\\Ilyass\\anaconda3\\lib\\site-packages\\sklearn\\linear_model\\_coordinate_descent.py:529: ConvergenceWarning: Objective did not converge. You might want to increase the number of iterations. Duality gap: 236613.19198260683, tolerance: 51.332769704433495\n",
      "  model = cd_fast.enet_coordinate_descent(\n",
      "C:\\Users\\Ilyass\\anaconda3\\lib\\site-packages\\sklearn\\linear_model\\_coordinate_descent.py:529: ConvergenceWarning: Objective did not converge. You might want to increase the number of iterations. Duality gap: 282896.5958624616, tolerance: 61.14089384236453\n",
      "  model = cd_fast.enet_coordinate_descent(\n",
      "C:\\Users\\Ilyass\\anaconda3\\lib\\site-packages\\sklearn\\linear_model\\_coordinate_descent.py:529: ConvergenceWarning: Objective did not converge. You might want to increase the number of iterations. Duality gap: 279946.019036526, tolerance: 60.5635960591133\n",
      "  model = cd_fast.enet_coordinate_descent(\n",
      "C:\\Users\\Ilyass\\anaconda3\\lib\\site-packages\\sklearn\\linear_model\\_coordinate_descent.py:529: ConvergenceWarning: Objective did not converge. You might want to increase the number of iterations. Duality gap: 263137.9073945872, tolerance: 56.497910073710074\n",
      "  model = cd_fast.enet_coordinate_descent(\n",
      "C:\\Users\\Ilyass\\anaconda3\\lib\\site-packages\\sklearn\\linear_model\\_coordinate_descent.py:529: ConvergenceWarning: Objective did not converge. You might want to increase the number of iterations. Duality gap: 270744.87360284594, tolerance: 58.46584029484029\n",
      "  model = cd_fast.enet_coordinate_descent(\n",
      "C:\\Users\\Ilyass\\anaconda3\\lib\\site-packages\\sklearn\\linear_model\\_coordinate_descent.py:529: ConvergenceWarning: Objective did not converge. You might want to increase the number of iterations. Duality gap: 236809.8365913061, tolerance: 51.332769704433495\n",
      "  model = cd_fast.enet_coordinate_descent(\n",
      "C:\\Users\\Ilyass\\anaconda3\\lib\\site-packages\\sklearn\\linear_model\\_coordinate_descent.py:529: ConvergenceWarning: Objective did not converge. You might want to increase the number of iterations. Duality gap: 283116.09377860784, tolerance: 61.14089384236453\n",
      "  model = cd_fast.enet_coordinate_descent(\n",
      "C:\\Users\\Ilyass\\anaconda3\\lib\\site-packages\\sklearn\\linear_model\\_coordinate_descent.py:529: ConvergenceWarning: Objective did not converge. You might want to increase the number of iterations. Duality gap: 280161.48976988724, tolerance: 60.5635960591133\n",
      "  model = cd_fast.enet_coordinate_descent(\n",
      "C:\\Users\\Ilyass\\anaconda3\\lib\\site-packages\\sklearn\\linear_model\\_coordinate_descent.py:529: ConvergenceWarning: Objective did not converge. You might want to increase the number of iterations. Duality gap: 263336.0403739739, tolerance: 56.497910073710074\n",
      "  model = cd_fast.enet_coordinate_descent(\n",
      "C:\\Users\\Ilyass\\anaconda3\\lib\\site-packages\\sklearn\\linear_model\\_coordinate_descent.py:529: ConvergenceWarning: Objective did not converge. You might want to increase the number of iterations. Duality gap: 270958.01662425866, tolerance: 58.46584029484029\n",
      "  model = cd_fast.enet_coordinate_descent(\n",
      "C:\\Users\\Ilyass\\anaconda3\\lib\\site-packages\\sklearn\\linear_model\\_coordinate_descent.py:529: ConvergenceWarning: Objective did not converge. You might want to increase the number of iterations. Duality gap: 237002.04129221768, tolerance: 51.332769704433495\n",
      "  model = cd_fast.enet_coordinate_descent(\n",
      "C:\\Users\\Ilyass\\anaconda3\\lib\\site-packages\\sklearn\\linear_model\\_coordinate_descent.py:529: ConvergenceWarning: Objective did not converge. You might want to increase the number of iterations. Duality gap: 283330.6042222838, tolerance: 61.14089384236453\n",
      "  model = cd_fast.enet_coordinate_descent(\n",
      "C:\\Users\\Ilyass\\anaconda3\\lib\\site-packages\\sklearn\\linear_model\\_coordinate_descent.py:529: ConvergenceWarning: Objective did not converge. You might want to increase the number of iterations. Duality gap: 280372.1940005585, tolerance: 60.5635960591133\n",
      "  model = cd_fast.enet_coordinate_descent(\n",
      "C:\\Users\\Ilyass\\anaconda3\\lib\\site-packages\\sklearn\\linear_model\\_coordinate_descent.py:529: ConvergenceWarning: Objective did not converge. You might want to increase the number of iterations. Duality gap: 263529.3562375695, tolerance: 56.497910073710074\n",
      "  model = cd_fast.enet_coordinate_descent(\n",
      "C:\\Users\\Ilyass\\anaconda3\\lib\\site-packages\\sklearn\\linear_model\\_coordinate_descent.py:529: ConvergenceWarning: Objective did not converge. You might want to increase the number of iterations. Duality gap: 271166.1967041412, tolerance: 58.46584029484029\n",
      "  model = cd_fast.enet_coordinate_descent(\n",
      "C:\\Users\\Ilyass\\anaconda3\\lib\\site-packages\\sklearn\\linear_model\\_coordinate_descent.py:529: ConvergenceWarning: Objective did not converge. You might want to increase the number of iterations. Duality gap: 237189.98242727638, tolerance: 51.332769704433495\n",
      "  model = cd_fast.enet_coordinate_descent(\n",
      "C:\\Users\\Ilyass\\anaconda3\\lib\\site-packages\\sklearn\\linear_model\\_coordinate_descent.py:529: ConvergenceWarning: Objective did not converge. You might want to increase the number of iterations. Duality gap: 283540.3312036944, tolerance: 61.14089384236453\n",
      "  model = cd_fast.enet_coordinate_descent(\n",
      "C:\\Users\\Ilyass\\anaconda3\\lib\\site-packages\\sklearn\\linear_model\\_coordinate_descent.py:529: ConvergenceWarning: Objective did not converge. You might want to increase the number of iterations. Duality gap: 280578.32312559424, tolerance: 60.5635960591133\n",
      "  model = cd_fast.enet_coordinate_descent(\n",
      "C:\\Users\\Ilyass\\anaconda3\\lib\\site-packages\\sklearn\\linear_model\\_coordinate_descent.py:529: ConvergenceWarning: Objective did not converge. You might want to increase the number of iterations. Duality gap: 263718.0637982642, tolerance: 56.497910073710074\n",
      "  model = cd_fast.enet_coordinate_descent(\n",
      "C:\\Users\\Ilyass\\anaconda3\\lib\\site-packages\\sklearn\\linear_model\\_coordinate_descent.py:529: ConvergenceWarning: Objective did not converge. You might want to increase the number of iterations. Duality gap: 271369.62159155426, tolerance: 58.46584029484029\n",
      "  model = cd_fast.enet_coordinate_descent(\n"
     ]
    },
    {
     "name": "stderr",
     "output_type": "stream",
     "text": [
      "C:\\Users\\Ilyass\\anaconda3\\lib\\site-packages\\sklearn\\linear_model\\_coordinate_descent.py:529: ConvergenceWarning: Objective did not converge. You might want to increase the number of iterations. Duality gap: 237373.82565441792, tolerance: 51.332769704433495\n",
      "  model = cd_fast.enet_coordinate_descent(\n",
      "C:\\Users\\Ilyass\\anaconda3\\lib\\site-packages\\sklearn\\linear_model\\_coordinate_descent.py:529: ConvergenceWarning: Objective did not converge. You might want to increase the number of iterations. Duality gap: 283745.4659136251, tolerance: 61.14089384236453\n",
      "  model = cd_fast.enet_coordinate_descent(\n",
      "C:\\Users\\Ilyass\\anaconda3\\lib\\site-packages\\sklearn\\linear_model\\_coordinate_descent.py:529: ConvergenceWarning: Objective did not converge. You might want to increase the number of iterations. Duality gap: 280780.0565431907, tolerance: 60.5635960591133\n",
      "  model = cd_fast.enet_coordinate_descent(\n",
      "C:\\Users\\Ilyass\\anaconda3\\lib\\site-packages\\sklearn\\linear_model\\_coordinate_descent.py:529: ConvergenceWarning: Objective did not converge. You might want to increase the number of iterations. Duality gap: 263902.3582004186, tolerance: 56.497910073710074\n",
      "  model = cd_fast.enet_coordinate_descent(\n",
      "C:\\Users\\Ilyass\\anaconda3\\lib\\site-packages\\sklearn\\linear_model\\_coordinate_descent.py:529: ConvergenceWarning: Objective did not converge. You might want to increase the number of iterations. Duality gap: 271568.4856906135, tolerance: 58.46584029484029\n",
      "  model = cd_fast.enet_coordinate_descent(\n",
      "C:\\Users\\Ilyass\\anaconda3\\lib\\site-packages\\sklearn\\linear_model\\_coordinate_descent.py:529: ConvergenceWarning: Objective did not converge. You might want to increase the number of iterations. Duality gap: 237553.72683139407, tolerance: 51.332769704433495\n",
      "  model = cd_fast.enet_coordinate_descent(\n",
      "C:\\Users\\Ilyass\\anaconda3\\lib\\site-packages\\sklearn\\linear_model\\_coordinate_descent.py:529: ConvergenceWarning: Objective did not converge. You might want to increase the number of iterations. Duality gap: 283946.1878163063, tolerance: 61.14089384236453\n",
      "  model = cd_fast.enet_coordinate_descent(\n",
      "C:\\Users\\Ilyass\\anaconda3\\lib\\site-packages\\sklearn\\linear_model\\_coordinate_descent.py:529: ConvergenceWarning: Objective did not converge. You might want to increase the number of iterations. Duality gap: 280977.56268636504, tolerance: 60.5635960591133\n",
      "  model = cd_fast.enet_coordinate_descent(\n",
      "C:\\Users\\Ilyass\\anaconda3\\lib\\site-packages\\sklearn\\linear_model\\_coordinate_descent.py:529: ConvergenceWarning: Objective did not converge. You might want to increase the number of iterations. Duality gap: 264082.4221170654, tolerance: 56.497910073710074\n",
      "  model = cd_fast.enet_coordinate_descent(\n",
      "C:\\Users\\Ilyass\\anaconda3\\lib\\site-packages\\sklearn\\linear_model\\_coordinate_descent.py:529: ConvergenceWarning: Objective did not converge. You might want to increase the number of iterations. Duality gap: 271762.9712222367, tolerance: 58.46584029484029\n",
      "  model = cd_fast.enet_coordinate_descent(\n",
      "C:\\Users\\Ilyass\\anaconda3\\lib\\site-packages\\sklearn\\linear_model\\_coordinate_descent.py:529: ConvergenceWarning: Objective did not converge. You might want to increase the number of iterations. Duality gap: 237729.83280754305, tolerance: 51.332769704433495\n",
      "  model = cd_fast.enet_coordinate_descent(\n",
      "C:\\Users\\Ilyass\\anaconda3\\lib\\site-packages\\sklearn\\linear_model\\_coordinate_descent.py:529: ConvergenceWarning: Objective did not converge. You might want to increase the number of iterations. Duality gap: 284142.6656261945, tolerance: 61.14089384236453\n",
      "  model = cd_fast.enet_coordinate_descent(\n",
      "C:\\Users\\Ilyass\\anaconda3\\lib\\site-packages\\sklearn\\linear_model\\_coordinate_descent.py:529: ConvergenceWarning: Objective did not converge. You might want to increase the number of iterations. Duality gap: 281170.99994493957, tolerance: 60.5635960591133\n",
      "  model = cd_fast.enet_coordinate_descent(\n",
      "C:\\Users\\Ilyass\\anaconda3\\lib\\site-packages\\sklearn\\linear_model\\_coordinate_descent.py:529: ConvergenceWarning: Objective did not converge. You might want to increase the number of iterations. Duality gap: 264258.4268175082, tolerance: 56.497910073710074\n",
      "  model = cd_fast.enet_coordinate_descent(\n",
      "C:\\Users\\Ilyass\\anaconda3\\lib\\site-packages\\sklearn\\linear_model\\_coordinate_descent.py:529: ConvergenceWarning: Objective did not converge. You might want to increase the number of iterations. Duality gap: 271953.249260015, tolerance: 58.46584029484029\n",
      "  model = cd_fast.enet_coordinate_descent(\n",
      "C:\\Users\\Ilyass\\anaconda3\\lib\\site-packages\\sklearn\\linear_model\\_coordinate_descent.py:529: ConvergenceWarning: Objective did not converge. You might want to increase the number of iterations. Duality gap: 237902.28213494027, tolerance: 51.332769704433495\n",
      "  model = cd_fast.enet_coordinate_descent(\n",
      "C:\\Users\\Ilyass\\anaconda3\\lib\\site-packages\\sklearn\\linear_model\\_coordinate_descent.py:529: ConvergenceWarning: Objective did not converge. You might want to increase the number of iterations. Duality gap: 284335.05818322126, tolerance: 61.14089384236453\n",
      "  model = cd_fast.enet_coordinate_descent(\n",
      "C:\\Users\\Ilyass\\anaconda3\\lib\\site-packages\\sklearn\\linear_model\\_coordinate_descent.py:529: ConvergenceWarning: Objective did not converge. You might want to increase the number of iterations. Duality gap: 281360.5174901412, tolerance: 60.5635960591133\n",
      "  model = cd_fast.enet_coordinate_descent(\n",
      "C:\\Users\\Ilyass\\anaconda3\\lib\\site-packages\\sklearn\\linear_model\\_coordinate_descent.py:529: ConvergenceWarning: Objective did not converge. You might want to increase the number of iterations. Duality gap: 264430.5331218344, tolerance: 56.497910073710074\n",
      "  model = cd_fast.enet_coordinate_descent(\n",
      "C:\\Users\\Ilyass\\anaconda3\\lib\\site-packages\\sklearn\\linear_model\\_coordinate_descent.py:529: ConvergenceWarning: Objective did not converge. You might want to increase the number of iterations. Duality gap: 272139.4806563345, tolerance: 58.46584029484029\n",
      "  model = cd_fast.enet_coordinate_descent(\n",
      "C:\\Users\\Ilyass\\anaconda3\\lib\\site-packages\\sklearn\\linear_model\\_coordinate_descent.py:529: ConvergenceWarning: Objective did not converge. You might want to increase the number of iterations. Duality gap: 238071.20570872005, tolerance: 51.332769704433495\n",
      "  model = cd_fast.enet_coordinate_descent(\n",
      "C:\\Users\\Ilyass\\anaconda3\\lib\\site-packages\\sklearn\\linear_model\\_coordinate_descent.py:529: ConvergenceWarning: Objective did not converge. You might want to increase the number of iterations. Duality gap: 284523.51523901307, tolerance: 61.14089384236453\n",
      "  model = cd_fast.enet_coordinate_descent(\n",
      "C:\\Users\\Ilyass\\anaconda3\\lib\\site-packages\\sklearn\\linear_model\\_coordinate_descent.py:529: ConvergenceWarning: Objective did not converge. You might want to increase the number of iterations. Duality gap: 281546.25601400825, tolerance: 60.5635960591133\n",
      "  model = cd_fast.enet_coordinate_descent(\n",
      "C:\\Users\\Ilyass\\anaconda3\\lib\\site-packages\\sklearn\\linear_model\\_coordinate_descent.py:529: ConvergenceWarning: Objective did not converge. You might want to increase the number of iterations. Duality gap: 264598.89225643297, tolerance: 56.497910073710074\n",
      "  model = cd_fast.enet_coordinate_descent(\n",
      "C:\\Users\\Ilyass\\anaconda3\\lib\\site-packages\\sklearn\\linear_model\\_coordinate_descent.py:529: ConvergenceWarning: Objective did not converge. You might want to increase the number of iterations. Duality gap: 272321.81687247526, tolerance: 58.46584029484029\n",
      "  model = cd_fast.enet_coordinate_descent(\n",
      "C:\\Users\\Ilyass\\anaconda3\\lib\\site-packages\\sklearn\\linear_model\\_coordinate_descent.py:529: ConvergenceWarning: Objective did not converge. You might want to increase the number of iterations. Duality gap: 238236.72734502773, tolerance: 51.332769704433495\n",
      "  model = cd_fast.enet_coordinate_descent(\n",
      "C:\\Users\\Ilyass\\anaconda3\\lib\\site-packages\\sklearn\\linear_model\\_coordinate_descent.py:529: ConvergenceWarning: Objective did not converge. You might want to increase the number of iterations. Duality gap: 284708.1781648014, tolerance: 61.14089384236453\n",
      "  model = cd_fast.enet_coordinate_descent(\n",
      "C:\\Users\\Ilyass\\anaconda3\\lib\\site-packages\\sklearn\\linear_model\\_coordinate_descent.py:529: ConvergenceWarning: Objective did not converge. You might want to increase the number of iterations. Duality gap: 281728.3483940714, tolerance: 60.5635960591133\n",
      "  model = cd_fast.enet_coordinate_descent(\n",
      "C:\\Users\\Ilyass\\anaconda3\\lib\\site-packages\\sklearn\\linear_model\\_coordinate_descent.py:529: ConvergenceWarning: Objective did not converge. You might want to increase the number of iterations. Duality gap: 264763.64662263915, tolerance: 56.497910073710074\n",
      "  model = cd_fast.enet_coordinate_descent(\n",
      "C:\\Users\\Ilyass\\anaconda3\\lib\\site-packages\\sklearn\\linear_model\\_coordinate_descent.py:529: ConvergenceWarning: Objective did not converge. You might want to increase the number of iterations. Duality gap: 272500.40072445286, tolerance: 58.46584029484029\n",
      "  model = cd_fast.enet_coordinate_descent(\n"
     ]
    },
    {
     "name": "stderr",
     "output_type": "stream",
     "text": [
      "C:\\Users\\Ilyass\\anaconda3\\lib\\site-packages\\sklearn\\linear_model\\_coordinate_descent.py:529: ConvergenceWarning: Objective did not converge. You might want to increase the number of iterations. Duality gap: 238398.96430385186, tolerance: 51.332769704433495\n",
      "  model = cd_fast.enet_coordinate_descent(\n",
      "C:\\Users\\Ilyass\\anaconda3\\lib\\site-packages\\sklearn\\linear_model\\_coordinate_descent.py:529: ConvergenceWarning: Objective did not converge. You might want to increase the number of iterations. Duality gap: 284889.18059027067, tolerance: 61.14089384236453\n",
      "  model = cd_fast.enet_coordinate_descent(\n",
      "C:\\Users\\Ilyass\\anaconda3\\lib\\site-packages\\sklearn\\linear_model\\_coordinate_descent.py:529: ConvergenceWarning: Objective did not converge. You might want to increase the number of iterations. Duality gap: 281906.9202922809, tolerance: 60.5635960591133\n",
      "  model = cd_fast.enet_coordinate_descent(\n",
      "C:\\Users\\Ilyass\\anaconda3\\lib\\site-packages\\sklearn\\linear_model\\_coordinate_descent.py:529: ConvergenceWarning: Objective did not converge. You might want to increase the number of iterations. Duality gap: 264924.93048890046, tolerance: 56.497910073710074\n",
      "  model = cd_fast.enet_coordinate_descent(\n",
      "C:\\Users\\Ilyass\\anaconda3\\lib\\site-packages\\sklearn\\linear_model\\_coordinate_descent.py:529: ConvergenceWarning: Objective did not converge. You might want to increase the number of iterations. Duality gap: 272675.3670547592, tolerance: 58.46584029484029\n",
      "  model = cd_fast.enet_coordinate_descent(\n",
      "C:\\Users\\Ilyass\\anaconda3\\lib\\site-packages\\sklearn\\linear_model\\_coordinate_descent.py:529: ConvergenceWarning: Objective did not converge. You might want to increase the number of iterations. Duality gap: 238558.02776302095, tolerance: 51.332769704433495\n",
      "  model = cd_fast.enet_coordinate_descent(\n",
      "C:\\Users\\Ilyass\\anaconda3\\lib\\site-packages\\sklearn\\linear_model\\_coordinate_descent.py:529: ConvergenceWarning: Objective did not converge. You might want to increase the number of iterations. Duality gap: 285066.6489813467, tolerance: 61.14089384236453\n",
      "  model = cd_fast.enet_coordinate_descent(\n",
      "C:\\Users\\Ilyass\\anaconda3\\lib\\site-packages\\sklearn\\linear_model\\_coordinate_descent.py:529: ConvergenceWarning: Objective did not converge. You might want to increase the number of iterations. Duality gap: 282082.09069592925, tolerance: 60.5635960591133\n",
      "  model = cd_fast.enet_coordinate_descent(\n",
      "C:\\Users\\Ilyass\\anaconda3\\lib\\site-packages\\sklearn\\linear_model\\_coordinate_descent.py:529: ConvergenceWarning: Objective did not converge. You might want to increase the number of iterations. Duality gap: 265082.8706154653, tolerance: 56.497910073710074\n",
      "  model = cd_fast.enet_coordinate_descent(\n",
      "C:\\Users\\Ilyass\\anaconda3\\lib\\site-packages\\sklearn\\linear_model\\_coordinate_descent.py:529: ConvergenceWarning: Objective did not converge. You might want to increase the number of iterations. Duality gap: 272846.84333869006, tolerance: 58.46584029484029\n",
      "  model = cd_fast.enet_coordinate_descent(\n",
      "C:\\Users\\Ilyass\\anaconda3\\lib\\site-packages\\sklearn\\linear_model\\_coordinate_descent.py:529: ConvergenceWarning: Objective did not converge. You might want to increase the number of iterations. Duality gap: 238714.02324885572, tolerance: 51.332769704433495\n",
      "  model = cd_fast.enet_coordinate_descent(\n",
      "C:\\Users\\Ilyass\\anaconda3\\lib\\site-packages\\sklearn\\linear_model\\_coordinate_descent.py:529: ConvergenceWarning: Objective did not converge. You might want to increase the number of iterations. Duality gap: 285240.7031638484, tolerance: 61.14089384236453\n",
      "  model = cd_fast.enet_coordinate_descent(\n",
      "C:\\Users\\Ilyass\\anaconda3\\lib\\site-packages\\sklearn\\linear_model\\_coordinate_descent.py:529: ConvergenceWarning: Objective did not converge. You might want to increase the number of iterations. Duality gap: 282253.97240726475, tolerance: 60.5635960591133\n",
      "  model = cd_fast.enet_coordinate_descent(\n",
      "C:\\Users\\Ilyass\\anaconda3\\lib\\site-packages\\sklearn\\linear_model\\_coordinate_descent.py:529: ConvergenceWarning: Objective did not converge. You might want to increase the number of iterations. Duality gap: 265237.58681935875, tolerance: 56.497910073710074\n",
      "  model = cd_fast.enet_coordinate_descent(\n",
      "C:\\Users\\Ilyass\\anaconda3\\lib\\site-packages\\sklearn\\linear_model\\_coordinate_descent.py:529: ConvergenceWarning: Objective did not converge. You might want to increase the number of iterations. Duality gap: 273014.9502328506, tolerance: 58.46584029484029\n",
      "  model = cd_fast.enet_coordinate_descent(\n",
      "C:\\Users\\Ilyass\\anaconda3\\lib\\site-packages\\sklearn\\linear_model\\_coordinate_descent.py:529: ConvergenceWarning: Objective did not converge. You might want to increase the number of iterations. Duality gap: 238867.05102821343, tolerance: 51.332769704433495\n",
      "  model = cd_fast.enet_coordinate_descent(\n",
      "C:\\Users\\Ilyass\\anaconda3\\lib\\site-packages\\sklearn\\linear_model\\_coordinate_descent.py:529: ConvergenceWarning: Objective did not converge. You might want to increase the number of iterations. Duality gap: 285411.4567990456, tolerance: 61.14089384236453\n",
      "  model = cd_fast.enet_coordinate_descent(\n",
      "C:\\Users\\Ilyass\\anaconda3\\lib\\site-packages\\sklearn\\linear_model\\_coordinate_descent.py:529: ConvergenceWarning: Objective did not converge. You might want to increase the number of iterations. Duality gap: 282422.6724876038, tolerance: 60.5635960591133\n",
      "  model = cd_fast.enet_coordinate_descent(\n",
      "C:\\Users\\Ilyass\\anaconda3\\lib\\site-packages\\sklearn\\linear_model\\_coordinate_descent.py:529: ConvergenceWarning: Objective did not converge. You might want to increase the number of iterations. Duality gap: 265389.1924864026, tolerance: 56.497910073710074\n",
      "  model = cd_fast.enet_coordinate_descent(\n",
      "C:\\Users\\Ilyass\\anaconda3\\lib\\site-packages\\sklearn\\linear_model\\_coordinate_descent.py:529: ConvergenceWarning: Objective did not converge. You might want to increase the number of iterations. Duality gap: 273179.80207237444, tolerance: 58.46584029484029\n",
      "  model = cd_fast.enet_coordinate_descent(\n",
      "C:\\Users\\Ilyass\\anaconda3\\lib\\site-packages\\sklearn\\linear_model\\_coordinate_descent.py:529: ConvergenceWarning: Objective did not converge. You might want to increase the number of iterations. Duality gap: 239017.20646608353, tolerance: 51.332769704433495\n",
      "  model = cd_fast.enet_coordinate_descent(\n",
      "C:\\Users\\Ilyass\\anaconda3\\lib\\site-packages\\sklearn\\linear_model\\_coordinate_descent.py:529: ConvergenceWarning: Objective did not converge. You might want to increase the number of iterations. Duality gap: 285579.01781636913, tolerance: 61.14089384236453\n",
      "  model = cd_fast.enet_coordinate_descent(\n",
      "C:\\Users\\Ilyass\\anaconda3\\lib\\site-packages\\sklearn\\linear_model\\_coordinate_descent.py:529: ConvergenceWarning: Objective did not converge. You might want to increase the number of iterations. Duality gap: 282588.2926610018, tolerance: 60.5635960591133\n",
      "  model = cd_fast.enet_coordinate_descent(\n",
      "C:\\Users\\Ilyass\\anaconda3\\lib\\site-packages\\sklearn\\linear_model\\_coordinate_descent.py:529: ConvergenceWarning: Objective did not converge. You might want to increase the number of iterations. Duality gap: 265537.7950361595, tolerance: 56.497910073710074\n",
      "  model = cd_fast.enet_coordinate_descent(\n",
      "C:\\Users\\Ilyass\\anaconda3\\lib\\site-packages\\sklearn\\linear_model\\_coordinate_descent.py:529: ConvergenceWarning: Objective did not converge. You might want to increase the number of iterations. Duality gap: 273341.5073225599, tolerance: 58.46584029484029\n",
      "  model = cd_fast.enet_coordinate_descent(\n",
      "C:\\Users\\Ilyass\\anaconda3\\lib\\site-packages\\sklearn\\linear_model\\_coordinate_descent.py:529: ConvergenceWarning: Objective did not converge. You might want to increase the number of iterations. Duality gap: 239164.58035236422, tolerance: 51.332769704433495\n",
      "  model = cd_fast.enet_coordinate_descent(\n",
      "C:\\Users\\Ilyass\\anaconda3\\lib\\site-packages\\sklearn\\linear_model\\_coordinate_descent.py:529: ConvergenceWarning: Objective did not converge. You might want to increase the number of iterations. Duality gap: 285743.48880788294, tolerance: 61.14089384236453\n",
      "  model = cd_fast.enet_coordinate_descent(\n",
      "C:\\Users\\Ilyass\\anaconda3\\lib\\site-packages\\sklearn\\linear_model\\_coordinate_descent.py:529: ConvergenceWarning: Objective did not converge. You might want to increase the number of iterations. Duality gap: 282750.9296818735, tolerance: 60.5635960591133\n",
      "  model = cd_fast.enet_coordinate_descent(\n",
      "C:\\Users\\Ilyass\\anaconda3\\lib\\site-packages\\sklearn\\linear_model\\_coordinate_descent.py:529: ConvergenceWarning: Objective did not converge. You might want to increase the number of iterations. Duality gap: 265683.49634493154, tolerance: 56.497910073710074\n",
      "  model = cd_fast.enet_coordinate_descent(\n",
      "C:\\Users\\Ilyass\\anaconda3\\lib\\site-packages\\sklearn\\linear_model\\_coordinate_descent.py:529: ConvergenceWarning: Objective did not converge. You might want to increase the number of iterations. Duality gap: 273500.1689899003, tolerance: 58.46584029484029\n",
      "  model = cd_fast.enet_coordinate_descent(\n"
     ]
    },
    {
     "name": "stderr",
     "output_type": "stream",
     "text": [
      "C:\\Users\\Ilyass\\anaconda3\\lib\\site-packages\\sklearn\\linear_model\\_coordinate_descent.py:529: ConvergenceWarning: Objective did not converge. You might want to increase the number of iterations. Duality gap: 239309.25920102885, tolerance: 51.332769704433495\n",
      "  model = cd_fast.enet_coordinate_descent(\n",
      "C:\\Users\\Ilyass\\anaconda3\\lib\\site-packages\\sklearn\\linear_model\\_coordinate_descent.py:529: ConvergenceWarning: Objective did not converge. You might want to increase the number of iterations. Duality gap: 285904.96738853987, tolerance: 61.14089384236453\n",
      "  model = cd_fast.enet_coordinate_descent(\n",
      "C:\\Users\\Ilyass\\anaconda3\\lib\\site-packages\\sklearn\\linear_model\\_coordinate_descent.py:529: ConvergenceWarning: Objective did not converge. You might want to increase the number of iterations. Duality gap: 282910.67567043303, tolerance: 60.5635960591133\n",
      "  model = cd_fast.enet_coordinate_descent(\n",
      "C:\\Users\\Ilyass\\anaconda3\\lib\\site-packages\\sklearn\\linear_model\\_coordinate_descent.py:529: ConvergenceWarning: Objective did not converge. You might want to increase the number of iterations. Duality gap: 265826.3931312951, tolerance: 56.497910073710074\n",
      "  model = cd_fast.enet_coordinate_descent(\n",
      "C:\\Users\\Ilyass\\anaconda3\\lib\\site-packages\\sklearn\\linear_model\\_coordinate_descent.py:529: ConvergenceWarning: Objective did not converge. You might want to increase the number of iterations. Duality gap: 273655.8849968563, tolerance: 58.46584029484029\n",
      "  model = cd_fast.enet_coordinate_descent(\n",
      "C:\\Users\\Ilyass\\anaconda3\\lib\\site-packages\\sklearn\\linear_model\\_coordinate_descent.py:529: ConvergenceWarning: Objective did not converge. You might want to increase the number of iterations. Duality gap: 239451.3255244648, tolerance: 51.332769704433495\n",
      "  model = cd_fast.enet_coordinate_descent(\n",
      "C:\\Users\\Ilyass\\anaconda3\\lib\\site-packages\\sklearn\\linear_model\\_coordinate_descent.py:529: ConvergenceWarning: Objective did not converge. You might want to increase the number of iterations. Duality gap: 286063.54652576504, tolerance: 61.14089384236453\n",
      "  model = cd_fast.enet_coordinate_descent(\n",
      "C:\\Users\\Ilyass\\anaconda3\\lib\\site-packages\\sklearn\\linear_model\\_coordinate_descent.py:529: ConvergenceWarning: Objective did not converge. You might want to increase the number of iterations. Duality gap: 283067.6184193278, tolerance: 60.5635960591133\n",
      "  model = cd_fast.enet_coordinate_descent(\n",
      "C:\\Users\\Ilyass\\anaconda3\\lib\\site-packages\\sklearn\\linear_model\\_coordinate_descent.py:529: ConvergenceWarning: Objective did not converge. You might want to increase the number of iterations. Duality gap: 265966.5773081212, tolerance: 56.497910073710074\n",
      "  model = cd_fast.enet_coordinate_descent(\n",
      "C:\\Users\\Ilyass\\anaconda3\\lib\\site-packages\\sklearn\\linear_model\\_coordinate_descent.py:529: ConvergenceWarning: Objective did not converge. You might want to increase the number of iterations. Duality gap: 273808.74852418667, tolerance: 58.46584029484029\n",
      "  model = cd_fast.enet_coordinate_descent(\n",
      "C:\\Users\\Ilyass\\anaconda3\\lib\\site-packages\\sklearn\\linear_model\\_coordinate_descent.py:529: ConvergenceWarning: Objective did not converge. You might want to increase the number of iterations. Duality gap: 239590.8580854826, tolerance: 51.332769704433495\n",
      "  model = cd_fast.enet_coordinate_descent(\n",
      "C:\\Users\\Ilyass\\anaconda3\\lib\\site-packages\\sklearn\\linear_model\\_coordinate_descent.py:529: ConvergenceWarning: Objective did not converge. You might want to increase the number of iterations. Duality gap: 286219.3148414908, tolerance: 61.14089384236453\n",
      "  model = cd_fast.enet_coordinate_descent(\n",
      "C:\\Users\\Ilyass\\anaconda3\\lib\\site-packages\\sklearn\\linear_model\\_coordinate_descent.py:529: ConvergenceWarning: Objective did not converge. You might want to increase the number of iterations. Duality gap: 283221.84167442244, tolerance: 60.5635960591133\n",
      "  model = cd_fast.enet_coordinate_descent(\n",
      "C:\\Users\\Ilyass\\anaconda3\\lib\\site-packages\\sklearn\\linear_model\\_coordinate_descent.py:529: ConvergenceWarning: Objective did not converge. You might want to increase the number of iterations. Duality gap: 266104.1363045324, tolerance: 56.497910073710074\n",
      "  model = cd_fast.enet_coordinate_descent(\n",
      "C:\\Users\\Ilyass\\anaconda3\\lib\\site-packages\\sklearn\\linear_model\\_coordinate_descent.py:529: ConvergenceWarning: Objective did not converge. You might want to increase the number of iterations. Duality gap: 273958.84832418815, tolerance: 58.46584029484029\n",
      "  model = cd_fast.enet_coordinate_descent(\n",
      "C:\\Users\\Ilyass\\anaconda3\\lib\\site-packages\\sklearn\\linear_model\\_coordinate_descent.py:529: ConvergenceWarning: Objective did not converge. You might want to increase the number of iterations. Duality gap: 239727.93212917697, tolerance: 51.332769704433495\n",
      "  model = cd_fast.enet_coordinate_descent(\n",
      "C:\\Users\\Ilyass\\anaconda3\\lib\\site-packages\\sklearn\\linear_model\\_coordinate_descent.py:529: ConvergenceWarning: Objective did not converge. You might want to increase the number of iterations. Duality gap: 286372.3568893875, tolerance: 61.14089384236453\n",
      "  model = cd_fast.enet_coordinate_descent(\n",
      "C:\\Users\\Ilyass\\anaconda3\\lib\\site-packages\\sklearn\\linear_model\\_coordinate_descent.py:529: ConvergenceWarning: Objective did not converge. You might want to increase the number of iterations. Duality gap: 283373.42539236863, tolerance: 60.5635960591133\n",
      "  model = cd_fast.enet_coordinate_descent(\n",
      "C:\\Users\\Ilyass\\anaconda3\\lib\\site-packages\\sklearn\\linear_model\\_coordinate_descent.py:529: ConvergenceWarning: Objective did not converge. You might want to increase the number of iterations. Duality gap: 266239.1533608571, tolerance: 56.497910073710074\n",
      "  model = cd_fast.enet_coordinate_descent(\n",
      "C:\\Users\\Ilyass\\anaconda3\\lib\\site-packages\\sklearn\\linear_model\\_coordinate_descent.py:529: ConvergenceWarning: Objective did not converge. You might want to increase the number of iterations. Duality gap: 274106.26900779875, tolerance: 58.46584029484029\n",
      "  model = cd_fast.enet_coordinate_descent(\n",
      "C:\\Users\\Ilyass\\anaconda3\\lib\\site-packages\\sklearn\\linear_model\\_coordinate_descent.py:529: ConvergenceWarning: Objective did not converge. You might want to increase the number of iterations. Duality gap: 239862.61959658295, tolerance: 51.332769704433495\n",
      "  model = cd_fast.enet_coordinate_descent(\n",
      "C:\\Users\\Ilyass\\anaconda3\\lib\\site-packages\\sklearn\\linear_model\\_coordinate_descent.py:529: ConvergenceWarning: Objective did not converge. You might want to increase the number of iterations. Duality gap: 286522.7534097355, tolerance: 61.14089384236453\n",
      "  model = cd_fast.enet_coordinate_descent(\n",
      "C:\\Users\\Ilyass\\anaconda3\\lib\\site-packages\\sklearn\\linear_model\\_coordinate_descent.py:529: ConvergenceWarning: Objective did not converge. You might want to increase the number of iterations. Duality gap: 283522.4459772613, tolerance: 60.5635960591133\n",
      "  model = cd_fast.enet_coordinate_descent(\n",
      "C:\\Users\\Ilyass\\anaconda3\\lib\\site-packages\\sklearn\\linear_model\\_coordinate_descent.py:529: ConvergenceWarning: Objective did not converge. You might want to increase the number of iterations. Duality gap: 266371.70779927203, tolerance: 56.497910073710074\n",
      "  model = cd_fast.enet_coordinate_descent(\n",
      "C:\\Users\\Ilyass\\anaconda3\\lib\\site-packages\\sklearn\\linear_model\\_coordinate_descent.py:529: ConvergenceWarning: Objective did not converge. You might want to increase the number of iterations. Duality gap: 274251.091308175, tolerance: 58.46584029484029\n",
      "  model = cd_fast.enet_coordinate_descent(\n",
      "C:\\Users\\Ilyass\\anaconda3\\lib\\site-packages\\sklearn\\linear_model\\_coordinate_descent.py:529: ConvergenceWarning: Objective did not converge. You might want to increase the number of iterations. Duality gap: 239994.98932184823, tolerance: 51.332769704433495\n",
      "  model = cd_fast.enet_coordinate_descent(\n",
      "C:\\Users\\Ilyass\\anaconda3\\lib\\site-packages\\sklearn\\linear_model\\_coordinate_descent.py:529: ConvergenceWarning: Objective did not converge. You might want to increase the number of iterations. Duality gap: 286670.5815640949, tolerance: 61.14089384236453\n",
      "  model = cd_fast.enet_coordinate_descent(\n",
      "C:\\Users\\Ilyass\\anaconda3\\lib\\site-packages\\sklearn\\linear_model\\_coordinate_descent.py:529: ConvergenceWarning: Objective did not converge. You might want to increase the number of iterations. Duality gap: 283668.97649841727, tolerance: 60.5635960591133\n",
      "  model = cd_fast.enet_coordinate_descent(\n",
      "C:\\Users\\Ilyass\\anaconda3\\lib\\site-packages\\sklearn\\linear_model\\_coordinate_descent.py:529: ConvergenceWarning: Objective did not converge. You might want to increase the number of iterations. Duality gap: 266501.8752725195, tolerance: 56.497910073710074\n",
      "  model = cd_fast.enet_coordinate_descent(\n",
      "C:\\Users\\Ilyass\\anaconda3\\lib\\site-packages\\sklearn\\linear_model\\_coordinate_descent.py:529: ConvergenceWarning: Objective did not converge. You might want to increase the number of iterations. Duality gap: 274393.3923230469, tolerance: 58.46584029484029\n",
      "  model = cd_fast.enet_coordinate_descent(\n"
     ]
    },
    {
     "name": "stderr",
     "output_type": "stream",
     "text": [
      "C:\\Users\\Ilyass\\anaconda3\\lib\\site-packages\\sklearn\\linear_model\\_coordinate_descent.py:529: ConvergenceWarning: Objective did not converge. You might want to increase the number of iterations. Duality gap: 240125.10721445736, tolerance: 51.332769704433495\n",
      "  model = cd_fast.enet_coordinate_descent(\n",
      "C:\\Users\\Ilyass\\anaconda3\\lib\\site-packages\\sklearn\\linear_model\\_coordinate_descent.py:529: ConvergenceWarning: Objective did not converge. You might want to increase the number of iterations. Duality gap: 286815.91515169054, tolerance: 61.14089384236453\n",
      "  model = cd_fast.enet_coordinate_descent(\n",
      "C:\\Users\\Ilyass\\anaconda3\\lib\\site-packages\\sklearn\\linear_model\\_coordinate_descent.py:529: ConvergenceWarning: Objective did not converge. You might want to increase the number of iterations. Duality gap: 283813.08689110604, tolerance: 60.5635960591133\n",
      "  model = cd_fast.enet_coordinate_descent(\n",
      "C:\\Users\\Ilyass\\anaconda3\\lib\\site-packages\\sklearn\\linear_model\\_coordinate_descent.py:529: ConvergenceWarning: Objective did not converge. You might want to increase the number of iterations. Duality gap: 266629.7279928184, tolerance: 56.497910073710074\n",
      "  model = cd_fast.enet_coordinate_descent(\n",
      "C:\\Users\\Ilyass\\anaconda3\\lib\\site-packages\\sklearn\\linear_model\\_coordinate_descent.py:529: ConvergenceWarning: Objective did not converge. You might want to increase the number of iterations. Duality gap: 274533.24573790154, tolerance: 58.46584029484029\n",
      "  model = cd_fast.enet_coordinate_descent(\n",
      "C:\\Users\\Ilyass\\anaconda3\\lib\\site-packages\\sklearn\\linear_model\\_coordinate_descent.py:529: ConvergenceWarning: Objective did not converge. You might want to increase the number of iterations. Duality gap: 240253.03642787883, tolerance: 51.332769704433495\n",
      "  model = cd_fast.enet_coordinate_descent(\n",
      "C:\\Users\\Ilyass\\anaconda3\\lib\\site-packages\\sklearn\\linear_model\\_coordinate_descent.py:529: ConvergenceWarning: Objective did not converge. You might want to increase the number of iterations. Duality gap: 286958.8248092224, tolerance: 61.14089384236453\n",
      "  model = cd_fast.enet_coordinate_descent(\n",
      "C:\\Users\\Ilyass\\anaconda3\\lib\\site-packages\\sklearn\\linear_model\\_coordinate_descent.py:529: ConvergenceWarning: Objective did not converge. You might want to increase the number of iterations. Duality gap: 283954.84414183226, tolerance: 60.5635960591133\n",
      "  model = cd_fast.enet_coordinate_descent(\n",
      "C:\\Users\\Ilyass\\anaconda3\\lib\\site-packages\\sklearn\\linear_model\\_coordinate_descent.py:529: ConvergenceWarning: Objective did not converge. You might want to increase the number of iterations. Duality gap: 266755.33494284627, tolerance: 56.497910073710074\n",
      "  model = cd_fast.enet_coordinate_descent(\n",
      "C:\\Users\\Ilyass\\anaconda3\\lib\\site-packages\\sklearn\\linear_model\\_coordinate_descent.py:529: ConvergenceWarning: Objective did not converge. You might want to increase the number of iterations. Duality gap: 274670.72203181236, tolerance: 58.46584029484029\n",
      "  model = cd_fast.enet_coordinate_descent(\n",
      "C:\\Users\\Ilyass\\anaconda3\\lib\\site-packages\\sklearn\\linear_model\\_coordinate_descent.py:529: ConvergenceWarning: Objective did not converge. You might want to increase the number of iterations. Duality gap: 240378.83751584816, tolerance: 51.332769704433495\n",
      "  model = cd_fast.enet_coordinate_descent(\n",
      "C:\\Users\\Ilyass\\anaconda3\\lib\\site-packages\\sklearn\\linear_model\\_coordinate_descent.py:529: ConvergenceWarning: Objective did not converge. You might want to increase the number of iterations. Duality gap: 287099.3781956283, tolerance: 61.14089384236453\n",
      "  model = cd_fast.enet_coordinate_descent(\n",
      "C:\\Users\\Ilyass\\anaconda3\\lib\\site-packages\\sklearn\\linear_model\\_coordinate_descent.py:529: ConvergenceWarning: Objective did not converge. You might want to increase the number of iterations. Duality gap: 284094.31245960365, tolerance: 60.5635960591133\n",
      "  model = cd_fast.enet_coordinate_descent(\n",
      "C:\\Users\\Ilyass\\anaconda3\\lib\\site-packages\\sklearn\\linear_model\\_coordinate_descent.py:529: ConvergenceWarning: Objective did not converge. You might want to increase the number of iterations. Duality gap: 266878.7620704719, tolerance: 56.497910073710074\n",
      "  model = cd_fast.enet_coordinate_descent(\n",
      "C:\\Users\\Ilyass\\anaconda3\\lib\\site-packages\\sklearn\\linear_model\\_coordinate_descent.py:529: ConvergenceWarning: Objective did not converge. You might want to increase the number of iterations. Duality gap: 274805.8886675303, tolerance: 58.46584029484029\n",
      "  model = cd_fast.enet_coordinate_descent(\n",
      "C:\\Users\\Ilyass\\anaconda3\\lib\\site-packages\\sklearn\\linear_model\\_coordinate_descent.py:529: ConvergenceWarning: Objective did not converge. You might want to increase the number of iterations. Duality gap: 240502.56857739453, tolerance: 51.332769704433495\n",
      "  model = cd_fast.enet_coordinate_descent(\n",
      "C:\\Users\\Ilyass\\anaconda3\\lib\\site-packages\\sklearn\\linear_model\\_coordinate_descent.py:529: ConvergenceWarning: Objective did not converge. You might want to increase the number of iterations. Duality gap: 287237.6401631525, tolerance: 61.14089384236453\n",
      "  model = cd_fast.enet_coordinate_descent(\n",
      "C:\\Users\\Ilyass\\anaconda3\\lib\\site-packages\\sklearn\\linear_model\\_coordinate_descent.py:529: ConvergenceWarning: Objective did not converge. You might want to increase the number of iterations. Duality gap: 284231.55343447364, tolerance: 60.5635960591133\n",
      "  model = cd_fast.enet_coordinate_descent(\n",
      "C:\\Users\\Ilyass\\anaconda3\\lib\\site-packages\\sklearn\\linear_model\\_coordinate_descent.py:529: ConvergenceWarning: Objective did not converge. You might want to increase the number of iterations. Duality gap: 267000.0724687304, tolerance: 56.497910073710074\n",
      "  model = cd_fast.enet_coordinate_descent(\n",
      "C:\\Users\\Ilyass\\anaconda3\\lib\\site-packages\\sklearn\\linear_model\\_coordinate_descent.py:529: ConvergenceWarning: Objective did not converge. You might want to increase the number of iterations. Duality gap: 274938.8102672912, tolerance: 58.46584029484029\n",
      "  model = cd_fast.enet_coordinate_descent(\n",
      "C:\\Users\\Ilyass\\anaconda3\\lib\\site-packages\\sklearn\\linear_model\\_coordinate_descent.py:529: ConvergenceWarning: Objective did not converge. You might want to increase the number of iterations. Duality gap: 240624.28539157743, tolerance: 51.332769704433495\n",
      "  model = cd_fast.enet_coordinate_descent(\n",
      "C:\\Users\\Ilyass\\anaconda3\\lib\\site-packages\\sklearn\\linear_model\\_coordinate_descent.py:529: ConvergenceWarning: Objective did not converge. You might want to increase the number of iterations. Duality gap: 287373.67291595164, tolerance: 61.14089384236453\n",
      "  model = cd_fast.enet_coordinate_descent(\n",
      "C:\\Users\\Ilyass\\anaconda3\\lib\\site-packages\\sklearn\\linear_model\\_coordinate_descent.py:529: ConvergenceWarning: Objective did not converge. You might want to increase the number of iterations. Duality gap: 284366.62618449534, tolerance: 60.5635960591133\n",
      "  model = cd_fast.enet_coordinate_descent(\n",
      "C:\\Users\\Ilyass\\anaconda3\\lib\\site-packages\\sklearn\\linear_model\\_coordinate_descent.py:529: ConvergenceWarning: Objective did not converge. You might want to increase the number of iterations. Duality gap: 267119.326542378, tolerance: 56.497910073710074\n",
      "  model = cd_fast.enet_coordinate_descent(\n",
      "C:\\Users\\Ilyass\\anaconda3\\lib\\site-packages\\sklearn\\linear_model\\_coordinate_descent.py:529: ConvergenceWarning: Objective did not converge. You might want to increase the number of iterations. Duality gap: 275069.5487756167, tolerance: 58.46584029484029\n",
      "  model = cd_fast.enet_coordinate_descent(\n",
      "C:\\Users\\Ilyass\\anaconda3\\lib\\site-packages\\sklearn\\linear_model\\_coordinate_descent.py:529: ConvergenceWarning: Objective did not converge. You might want to increase the number of iterations. Duality gap: 240744.04154282936, tolerance: 51.332769704433495\n",
      "  model = cd_fast.enet_coordinate_descent(\n",
      "C:\\Users\\Ilyass\\anaconda3\\lib\\site-packages\\sklearn\\linear_model\\_coordinate_descent.py:529: ConvergenceWarning: Objective did not converge. You might want to increase the number of iterations. Duality gap: 287507.53615731525, tolerance: 61.14089384236453\n",
      "  model = cd_fast.enet_coordinate_descent(\n",
      "C:\\Users\\Ilyass\\anaconda3\\lib\\site-packages\\sklearn\\linear_model\\_coordinate_descent.py:529: ConvergenceWarning: Objective did not converge. You might want to increase the number of iterations. Duality gap: 284499.5874921123, tolerance: 60.5635960591133\n",
      "  model = cd_fast.enet_coordinate_descent(\n",
      "C:\\Users\\Ilyass\\anaconda3\\lib\\site-packages\\sklearn\\linear_model\\_coordinate_descent.py:529: ConvergenceWarning: Objective did not converge. You might want to increase the number of iterations. Duality gap: 267236.5821622243, tolerance: 56.497910073710074\n",
      "  model = cd_fast.enet_coordinate_descent(\n",
      "C:\\Users\\Ilyass\\anaconda3\\lib\\site-packages\\sklearn\\linear_model\\_coordinate_descent.py:529: ConvergenceWarning: Objective did not converge. You might want to increase the number of iterations. Duality gap: 275198.16361027653, tolerance: 58.46584029484029\n",
      "  model = cd_fast.enet_coordinate_descent(\n"
     ]
    },
    {
     "name": "stderr",
     "output_type": "stream",
     "text": [
      "C:\\Users\\Ilyass\\anaconda3\\lib\\site-packages\\sklearn\\linear_model\\_coordinate_descent.py:529: ConvergenceWarning: Objective did not converge. You might want to increase the number of iterations. Duality gap: 240861.88853768504, tolerance: 51.332769704433495\n",
      "  model = cd_fast.enet_coordinate_descent(\n",
      "C:\\Users\\Ilyass\\anaconda3\\lib\\site-packages\\sklearn\\linear_model\\_coordinate_descent.py:529: ConvergenceWarning: Objective did not converge. You might want to increase the number of iterations. Duality gap: 287639.2872265042, tolerance: 61.14089384236453\n",
      "  model = cd_fast.enet_coordinate_descent(\n",
      "C:\\Users\\Ilyass\\anaconda3\\lib\\site-packages\\sklearn\\linear_model\\_coordinate_descent.py:529: ConvergenceWarning: Objective did not converge. You might want to increase the number of iterations. Duality gap: 284630.491930906, tolerance: 60.5635960591133\n",
      "  model = cd_fast.enet_coordinate_descent(\n",
      "C:\\Users\\Ilyass\\anaconda3\\lib\\site-packages\\sklearn\\linear_model\\_coordinate_descent.py:529: ConvergenceWarning: Objective did not converge. You might want to increase the number of iterations. Duality gap: 267351.8948083133, tolerance: 56.497910073710074\n",
      "  model = cd_fast.enet_coordinate_descent(\n",
      "C:\\Users\\Ilyass\\anaconda3\\lib\\site-packages\\sklearn\\linear_model\\_coordinate_descent.py:529: ConvergenceWarning: Objective did not converge. You might want to increase the number of iterations. Duality gap: 275324.7118024451, tolerance: 58.46584029484029\n",
      "  model = cd_fast.enet_coordinate_descent(\n",
      "C:\\Users\\Ilyass\\anaconda3\\lib\\site-packages\\sklearn\\linear_model\\_coordinate_descent.py:529: ConvergenceWarning: Objective did not converge. You might want to increase the number of iterations. Duality gap: 240977.87591362413, tolerance: 51.332769704433495\n",
      "  model = cd_fast.enet_coordinate_descent(\n",
      "C:\\Users\\Ilyass\\anaconda3\\lib\\site-packages\\sklearn\\linear_model\\_coordinate_descent.py:529: ConvergenceWarning: Objective did not converge. You might want to increase the number of iterations. Duality gap: 287768.98122606584, tolerance: 61.14089384236453\n",
      "  model = cd_fast.enet_coordinate_descent(\n",
      "C:\\Users\\Ilyass\\anaconda3\\lib\\site-packages\\sklearn\\linear_model\\_coordinate_descent.py:529: ConvergenceWarning: Objective did not converge. You might want to increase the number of iterations. Duality gap: 284759.3919835335, tolerance: 60.5635960591133\n",
      "  model = cd_fast.enet_coordinate_descent(\n",
      "C:\\Users\\Ilyass\\anaconda3\\lib\\site-packages\\sklearn\\linear_model\\_coordinate_descent.py:529: ConvergenceWarning: Objective did not converge. You might want to increase the number of iterations. Duality gap: 267465.31770291796, tolerance: 56.497910073710074\n",
      "  model = cd_fast.enet_coordinate_descent(\n",
      "C:\\Users\\Ilyass\\anaconda3\\lib\\site-packages\\sklearn\\linear_model\\_coordinate_descent.py:529: ConvergenceWarning: Objective did not converge. You might want to increase the number of iterations. Duality gap: 275449.24812698126, tolerance: 58.46584029484029\n",
      "  model = cd_fast.enet_coordinate_descent(\n",
      "C:\\Users\\Ilyass\\anaconda3\\lib\\site-packages\\sklearn\\linear_model\\_coordinate_descent.py:529: ConvergenceWarning: Objective did not converge. You might want to increase the number of iterations. Duality gap: 241092.05134066383, tolerance: 51.332769704433495\n",
      "  model = cd_fast.enet_coordinate_descent(\n",
      "C:\\Users\\Ilyass\\anaconda3\\lib\\site-packages\\sklearn\\linear_model\\_coordinate_descent.py:529: ConvergenceWarning: Objective did not converge. You might want to increase the number of iterations. Duality gap: 287896.6711404456, tolerance: 61.14089384236453\n",
      "  model = cd_fast.enet_coordinate_descent(\n",
      "C:\\Users\\Ilyass\\anaconda3\\lib\\site-packages\\sklearn\\linear_model\\_coordinate_descent.py:529: ConvergenceWarning: Objective did not converge. You might want to increase the number of iterations. Duality gap: 284886.3381515846, tolerance: 60.5635960591133\n",
      "  model = cd_fast.enet_coordinate_descent(\n",
      "C:\\Users\\Ilyass\\anaconda3\\lib\\site-packages\\sklearn\\linear_model\\_coordinate_descent.py:529: ConvergenceWarning: Objective did not converge. You might want to increase the number of iterations. Duality gap: 267576.9019342196, tolerance: 56.497910073710074\n",
      "  model = cd_fast.enet_coordinate_descent(\n",
      "C:\\Users\\Ilyass\\anaconda3\\lib\\site-packages\\sklearn\\linear_model\\_coordinate_descent.py:529: ConvergenceWarning: Objective did not converge. You might want to increase the number of iterations. Duality gap: 275571.8252236743, tolerance: 58.46584029484029\n",
      "  model = cd_fast.enet_coordinate_descent(\n",
      "C:\\Users\\Ilyass\\anaconda3\\lib\\site-packages\\sklearn\\linear_model\\_coordinate_descent.py:529: ConvergenceWarning: Objective did not converge. You might want to increase the number of iterations. Duality gap: 241204.46071629316, tolerance: 51.332769704433495\n",
      "  model = cd_fast.enet_coordinate_descent(\n",
      "C:\\Users\\Ilyass\\anaconda3\\lib\\site-packages\\sklearn\\linear_model\\_coordinate_descent.py:529: ConvergenceWarning: Objective did not converge. You might want to increase the number of iterations. Duality gap: 288022.40794660104, tolerance: 61.14089384236453\n",
      "  model = cd_fast.enet_coordinate_descent(\n",
      "C:\\Users\\Ilyass\\anaconda3\\lib\\site-packages\\sklearn\\linear_model\\_coordinate_descent.py:529: ConvergenceWarning: Objective did not converge. You might want to increase the number of iterations. Duality gap: 285011.37905804056, tolerance: 60.5635960591133\n",
      "  model = cd_fast.enet_coordinate_descent(\n",
      "C:\\Users\\Ilyass\\anaconda3\\lib\\site-packages\\sklearn\\linear_model\\_coordinate_descent.py:529: ConvergenceWarning: Objective did not converge. You might want to increase the number of iterations. Duality gap: 267686.696571449, tolerance: 56.497910073710074\n",
      "  model = cd_fast.enet_coordinate_descent(\n",
      "C:\\Users\\Ilyass\\anaconda3\\lib\\site-packages\\sklearn\\linear_model\\_coordinate_descent.py:529: ConvergenceWarning: Objective did not converge. You might want to increase the number of iterations. Duality gap: 275692.49371020944, tolerance: 58.46584029484029\n",
      "  model = cd_fast.enet_coordinate_descent(\n",
      "C:\\Users\\Ilyass\\anaconda3\\lib\\site-packages\\sklearn\\linear_model\\_coordinate_descent.py:529: ConvergenceWarning: Objective did not converge. You might want to increase the number of iterations. Duality gap: 241315.14825427186, tolerance: 51.332769704433495\n",
      "  model = cd_fast.enet_coordinate_descent(\n",
      "C:\\Users\\Ilyass\\anaconda3\\lib\\site-packages\\sklearn\\linear_model\\_coordinate_descent.py:529: ConvergenceWarning: Objective did not converge. You might want to increase the number of iterations. Duality gap: 288146.24071726913, tolerance: 61.14089384236453\n",
      "  model = cd_fast.enet_coordinate_descent(\n",
      "C:\\Users\\Ilyass\\anaconda3\\lib\\site-packages\\sklearn\\linear_model\\_coordinate_descent.py:529: ConvergenceWarning: Objective did not converge. You might want to increase the number of iterations. Duality gap: 285134.5615429388, tolerance: 60.5635960591133\n",
      "  model = cd_fast.enet_coordinate_descent(\n",
      "C:\\Users\\Ilyass\\anaconda3\\lib\\site-packages\\sklearn\\linear_model\\_coordinate_descent.py:529: ConvergenceWarning: Objective did not converge. You might want to increase the number of iterations. Duality gap: 267794.7487721998, tolerance: 56.497910073710074\n",
      "  model = cd_fast.enet_coordinate_descent(\n",
      "C:\\Users\\Ilyass\\anaconda3\\lib\\site-packages\\sklearn\\linear_model\\_coordinate_descent.py:529: ConvergenceWarning: Objective did not converge. You might want to increase the number of iterations. Duality gap: 275811.3022875328, tolerance: 58.46584029484029\n",
      "  model = cd_fast.enet_coordinate_descent(\n",
      "C:\\Users\\Ilyass\\anaconda3\\lib\\site-packages\\sklearn\\linear_model\\_coordinate_descent.py:529: ConvergenceWarning: Objective did not converge. You might want to increase the number of iterations. Duality gap: 241424.1565677788, tolerance: 51.332769704433495\n",
      "  model = cd_fast.enet_coordinate_descent(\n",
      "C:\\Users\\Ilyass\\anaconda3\\lib\\site-packages\\sklearn\\linear_model\\_coordinate_descent.py:529: ConvergenceWarning: Objective did not converge. You might want to increase the number of iterations. Duality gap: 288268.21671748464, tolerance: 61.14089384236453\n",
      "  model = cd_fast.enet_coordinate_descent(\n",
      "C:\\Users\\Ilyass\\anaconda3\\lib\\site-packages\\sklearn\\linear_model\\_coordinate_descent.py:529: ConvergenceWarning: Objective did not converge. You might want to increase the number of iterations. Duality gap: 285255.93075278495, tolerance: 60.5635960591133\n",
      "  model = cd_fast.enet_coordinate_descent(\n",
      "C:\\Users\\Ilyass\\anaconda3\\lib\\site-packages\\sklearn\\linear_model\\_coordinate_descent.py:529: ConvergenceWarning: Objective did not converge. You might want to increase the number of iterations. Duality gap: 267901.1038825524, tolerance: 56.497910073710074\n",
      "  model = cd_fast.enet_coordinate_descent(\n",
      "C:\\Users\\Ilyass\\anaconda3\\lib\\site-packages\\sklearn\\linear_model\\_coordinate_descent.py:529: ConvergenceWarning: Objective did not converge. You might want to increase the number of iterations. Duality gap: 275928.29783824296, tolerance: 58.46584029484029\n",
      "  model = cd_fast.enet_coordinate_descent(\n"
     ]
    },
    {
     "name": "stderr",
     "output_type": "stream",
     "text": [
      "C:\\Users\\Ilyass\\anaconda3\\lib\\site-packages\\sklearn\\linear_model\\_coordinate_descent.py:529: ConvergenceWarning: Objective did not converge. You might want to increase the number of iterations. Duality gap: 241531.52674734293, tolerance: 51.332769704433495\n",
      "  model = cd_fast.enet_coordinate_descent(\n",
      "C:\\Users\\Ilyass\\anaconda3\\lib\\site-packages\\sklearn\\linear_model\\_coordinate_descent.py:529: ConvergenceWarning: Objective did not converge. You might want to increase the number of iterations. Duality gap: 288388.3814948691, tolerance: 61.14089384236453\n",
      "  model = cd_fast.enet_coordinate_descent(\n",
      "C:\\Users\\Ilyass\\anaconda3\\lib\\site-packages\\sklearn\\linear_model\\_coordinate_descent.py:529: ConvergenceWarning: Objective did not converge. You might want to increase the number of iterations. Duality gap: 285375.53022421675, tolerance: 60.5635960591133\n",
      "  model = cd_fast.enet_coordinate_descent(\n",
      "C:\\Users\\Ilyass\\anaconda3\\lib\\site-packages\\sklearn\\linear_model\\_coordinate_descent.py:529: ConvergenceWarning: Objective did not converge. You might want to increase the number of iterations. Duality gap: 268005.80553058523, tolerance: 56.497910073710074\n",
      "  model = cd_fast.enet_coordinate_descent(\n",
      "C:\\Users\\Ilyass\\anaconda3\\lib\\site-packages\\sklearn\\linear_model\\_coordinate_descent.py:529: ConvergenceWarning: Objective did not converge. You might want to increase the number of iterations. Duality gap: 276043.5255185529, tolerance: 58.46584029484029\n",
      "  model = cd_fast.enet_coordinate_descent(\n",
      "C:\\Users\\Ilyass\\anaconda3\\lib\\site-packages\\sklearn\\linear_model\\_coordinate_descent.py:529: ConvergenceWarning: Objective did not converge. You might want to increase the number of iterations. Duality gap: 241637.29843395838, tolerance: 51.332769704433495\n",
      "  model = cd_fast.enet_coordinate_descent(\n",
      "C:\\Users\\Ilyass\\anaconda3\\lib\\site-packages\\sklearn\\linear_model\\_coordinate_descent.py:529: ConvergenceWarning: Objective did not converge. You might want to increase the number of iterations. Duality gap: 288506.77896419103, tolerance: 61.14089384236453\n",
      "  model = cd_fast.enet_coordinate_descent(\n",
      "C:\\Users\\Ilyass\\anaconda3\\lib\\site-packages\\sklearn\\linear_model\\_coordinate_descent.py:529: ConvergenceWarning: Objective did not converge. You might want to increase the number of iterations. Duality gap: 285493.4019623629, tolerance: 60.5635960591133\n",
      "  model = cd_fast.enet_coordinate_descent(\n",
      "C:\\Users\\Ilyass\\anaconda3\\lib\\site-packages\\sklearn\\linear_model\\_coordinate_descent.py:529: ConvergenceWarning: Objective did not converge. You might want to increase the number of iterations. Duality gap: 268108.8957137978, tolerance: 56.497910073710074\n",
      "  model = cd_fast.enet_coordinate_descent(\n",
      "C:\\Users\\Ilyass\\anaconda3\\lib\\site-packages\\sklearn\\linear_model\\_coordinate_descent.py:529: ConvergenceWarning: Objective did not converge. You might want to increase the number of iterations. Duality gap: 276157.02884434036, tolerance: 58.46584029484029\n",
      "  model = cd_fast.enet_coordinate_descent(\n",
      "C:\\Users\\Ilyass\\anaconda3\\lib\\site-packages\\sklearn\\linear_model\\_coordinate_descent.py:529: ConvergenceWarning: Objective did not converge. You might want to increase the number of iterations. Duality gap: 241741.509887736, tolerance: 51.332769704433495\n",
      "  model = cd_fast.enet_coordinate_descent(\n",
      "C:\\Users\\Ilyass\\anaconda3\\lib\\site-packages\\sklearn\\linear_model\\_coordinate_descent.py:529: ConvergenceWarning: Objective did not converge. You might want to increase the number of iterations. Duality gap: 288623.4514866204, tolerance: 61.14089384236453\n",
      "  model = cd_fast.enet_coordinate_descent(\n",
      "C:\\Users\\Ilyass\\anaconda3\\lib\\site-packages\\sklearn\\linear_model\\_coordinate_descent.py:529: ConvergenceWarning: Objective did not converge. You might want to increase the number of iterations. Duality gap: 285609.5865143123, tolerance: 60.5635960591133\n",
      "  model = cd_fast.enet_coordinate_descent(\n",
      "C:\\Users\\Ilyass\\anaconda3\\lib\\site-packages\\sklearn\\linear_model\\_coordinate_descent.py:529: ConvergenceWarning: Objective did not converge. You might want to increase the number of iterations. Duality gap: 268210.41488092486, tolerance: 56.497910073710074\n",
      "  model = cd_fast.enet_coordinate_descent(\n",
      "C:\\Users\\Ilyass\\anaconda3\\lib\\site-packages\\sklearn\\linear_model\\_coordinate_descent.py:529: ConvergenceWarning: Objective did not converge. You might want to increase the number of iterations. Duality gap: 276268.8497717434, tolerance: 58.46584029484029\n",
      "  model = cd_fast.enet_coordinate_descent(\n",
      "C:\\Users\\Ilyass\\anaconda3\\lib\\site-packages\\sklearn\\linear_model\\_coordinate_descent.py:529: ConvergenceWarning: Objective did not converge. You might want to increase the number of iterations. Duality gap: 241844.1980524283, tolerance: 51.332769704433495\n",
      "  model = cd_fast.enet_coordinate_descent(\n",
      "C:\\Users\\Ilyass\\anaconda3\\lib\\site-packages\\sklearn\\linear_model\\_coordinate_descent.py:529: ConvergenceWarning: Objective did not converge. You might want to increase the number of iterations. Duality gap: 288738.439944103, tolerance: 61.14089384236453\n",
      "  model = cd_fast.enet_coordinate_descent(\n",
      "C:\\Users\\Ilyass\\anaconda3\\lib\\site-packages\\sklearn\\linear_model\\_coordinate_descent.py:529: ConvergenceWarning: Objective did not converge. You might want to increase the number of iterations. Duality gap: 285724.1230380597, tolerance: 60.5635960591133\n",
      "  model = cd_fast.enet_coordinate_descent(\n",
      "C:\\Users\\Ilyass\\anaconda3\\lib\\site-packages\\sklearn\\linear_model\\_coordinate_descent.py:529: ConvergenceWarning: Objective did not converge. You might want to increase the number of iterations. Duality gap: 268310.40200856957, tolerance: 56.497910073710074\n",
      "  model = cd_fast.enet_coordinate_descent(\n",
      "C:\\Users\\Ilyass\\anaconda3\\lib\\site-packages\\sklearn\\linear_model\\_coordinate_descent.py:529: ConvergenceWarning: Objective did not converge. You might want to increase the number of iterations. Duality gap: 276379.0287727191, tolerance: 58.46584029484029\n",
      "  model = cd_fast.enet_coordinate_descent(\n",
      "C:\\Users\\Ilyass\\anaconda3\\lib\\site-packages\\sklearn\\linear_model\\_coordinate_descent.py:529: ConvergenceWarning: Objective did not converge. You might want to increase the number of iterations. Duality gap: 241945.39861613399, tolerance: 51.332769704433495\n",
      "  model = cd_fast.enet_coordinate_descent(\n",
      "C:\\Users\\Ilyass\\anaconda3\\lib\\site-packages\\sklearn\\linear_model\\_coordinate_descent.py:529: ConvergenceWarning: Objective did not converge. You might want to increase the number of iterations. Duality gap: 288851.78380919155, tolerance: 61.14089384236453\n",
      "  model = cd_fast.enet_coordinate_descent(\n",
      "C:\\Users\\Ilyass\\anaconda3\\lib\\site-packages\\sklearn\\linear_model\\_coordinate_descent.py:529: ConvergenceWarning: Objective did not converge. You might want to increase the number of iterations. Duality gap: 285837.0493672709, tolerance: 60.5635960591133\n",
      "  model = cd_fast.enet_coordinate_descent(\n",
      "C:\\Users\\Ilyass\\anaconda3\\lib\\site-packages\\sklearn\\linear_model\\_coordinate_descent.py:529: ConvergenceWarning: Objective did not converge. You might want to increase the number of iterations. Duality gap: 268408.8946730534, tolerance: 56.497910073710074\n",
      "  model = cd_fast.enet_coordinate_descent(\n",
      "C:\\Users\\Ilyass\\anaconda3\\lib\\site-packages\\sklearn\\linear_model\\_coordinate_descent.py:529: ConvergenceWarning: Objective did not converge. You might want to increase the number of iterations. Duality gap: 276487.60490594525, tolerance: 58.46584029484029\n",
      "  model = cd_fast.enet_coordinate_descent(\n",
      "C:\\Users\\Ilyass\\anaconda3\\lib\\site-packages\\sklearn\\linear_model\\_coordinate_descent.py:529: ConvergenceWarning: Objective did not converge. You might want to increase the number of iterations. Duality gap: 242045.14606843915, tolerance: 51.332769704433495\n",
      "  model = cd_fast.enet_coordinate_descent(\n",
      "C:\\Users\\Ilyass\\anaconda3\\lib\\site-packages\\sklearn\\linear_model\\_coordinate_descent.py:529: ConvergenceWarning: Objective did not converge. You might want to increase the number of iterations. Duality gap: 288963.52121068747, tolerance: 61.14089384236453\n",
      "  model = cd_fast.enet_coordinate_descent(\n",
      "C:\\Users\\Ilyass\\anaconda3\\lib\\site-packages\\sklearn\\linear_model\\_coordinate_descent.py:529: ConvergenceWarning: Objective did not converge. You might want to increase the number of iterations. Duality gap: 285948.40207217634, tolerance: 60.5635960591133\n",
      "  model = cd_fast.enet_coordinate_descent(\n",
      "C:\\Users\\Ilyass\\anaconda3\\lib\\site-packages\\sklearn\\linear_model\\_coordinate_descent.py:529: ConvergenceWarning: Objective did not converge. You might want to increase the number of iterations. Duality gap: 268505.9291178434, tolerance: 56.497910073710074\n",
      "  model = cd_fast.enet_coordinate_descent(\n",
      "C:\\Users\\Ilyass\\anaconda3\\lib\\site-packages\\sklearn\\linear_model\\_coordinate_descent.py:529: ConvergenceWarning: Objective did not converge. You might want to increase the number of iterations. Duality gap: 276594.61588341603, tolerance: 58.46584029484029\n",
      "  model = cd_fast.enet_coordinate_descent(\n"
     ]
    },
    {
     "name": "stderr",
     "output_type": "stream",
     "text": [
      "C:\\Users\\Ilyass\\anaconda3\\lib\\site-packages\\sklearn\\linear_model\\_coordinate_descent.py:529: ConvergenceWarning: Objective did not converge. You might want to increase the number of iterations. Duality gap: 242143.47375426922, tolerance: 51.332769704433495\n",
      "  model = cd_fast.enet_coordinate_descent(\n",
      "C:\\Users\\Ilyass\\anaconda3\\lib\\site-packages\\sklearn\\linear_model\\_coordinate_descent.py:529: ConvergenceWarning: Objective did not converge. You might want to increase the number of iterations. Duality gap: 289073.68899539445, tolerance: 61.14089384236453\n",
      "  model = cd_fast.enet_coordinate_descent(\n",
      "C:\\Users\\Ilyass\\anaconda3\\lib\\site-packages\\sklearn\\linear_model\\_coordinate_descent.py:529: ConvergenceWarning: Objective did not converge. You might want to increase the number of iterations. Duality gap: 286058.2165168712, tolerance: 60.5635960591133\n",
      "  model = cd_fast.enet_coordinate_descent(\n",
      "C:\\Users\\Ilyass\\anaconda3\\lib\\site-packages\\sklearn\\linear_model\\_coordinate_descent.py:529: ConvergenceWarning: Objective did not converge. You might want to increase the number of iterations. Duality gap: 268601.5403168797, tolerance: 56.497910073710074\n",
      "  model = cd_fast.enet_coordinate_descent(\n",
      "C:\\Users\\Ilyass\\anaconda3\\lib\\site-packages\\sklearn\\linear_model\\_coordinate_descent.py:529: ConvergenceWarning: Objective did not converge. You might want to increase the number of iterations. Duality gap: 276700.09813304414, tolerance: 58.46584029484029\n",
      "  model = cd_fast.enet_coordinate_descent(\n",
      "C:\\Users\\Ilyass\\anaconda3\\lib\\site-packages\\sklearn\\linear_model\\_coordinate_descent.py:529: ConvergenceWarning: Objective did not converge. You might want to increase the number of iterations. Duality gap: 242240.41392466857, tolerance: 51.332769704433495\n",
      "  model = cd_fast.enet_coordinate_descent(\n",
      "C:\\Users\\Ilyass\\anaconda3\\lib\\site-packages\\sklearn\\linear_model\\_coordinate_descent.py:529: ConvergenceWarning: Objective did not converge. You might want to increase the number of iterations. Duality gap: 289182.32278626336, tolerance: 61.14089384236453\n",
      "  model = cd_fast.enet_coordinate_descent(\n",
      "C:\\Users\\Ilyass\\anaconda3\\lib\\site-packages\\sklearn\\linear_model\\_coordinate_descent.py:529: ConvergenceWarning: Objective did not converge. You might want to increase the number of iterations. Duality gap: 286166.5269132894, tolerance: 60.5635960591133\n",
      "  model = cd_fast.enet_coordinate_descent(\n",
      "C:\\Users\\Ilyass\\anaconda3\\lib\\site-packages\\sklearn\\linear_model\\_coordinate_descent.py:529: ConvergenceWarning: Objective did not converge. You might want to increase the number of iterations. Duality gap: 268695.7620341072, tolerance: 56.497910073710074\n",
      "  model = cd_fast.enet_coordinate_descent(\n",
      "C:\\Users\\Ilyass\\anaconda3\\lib\\site-packages\\sklearn\\linear_model\\_coordinate_descent.py:529: ConvergenceWarning: Objective did not converge. You might want to increase the number of iterations. Duality gap: 276804.0868575663, tolerance: 58.46584029484029\n",
      "  model = cd_fast.enet_coordinate_descent(\n",
      "C:\\Users\\Ilyass\\anaconda3\\lib\\site-packages\\sklearn\\linear_model\\_coordinate_descent.py:529: ConvergenceWarning: Objective did not converge. You might want to increase the number of iterations. Duality gap: 242335.99778472338, tolerance: 51.332769704433495\n",
      "  model = cd_fast.enet_coordinate_descent(\n",
      "C:\\Users\\Ilyass\\anaconda3\\lib\\site-packages\\sklearn\\linear_model\\_coordinate_descent.py:529: ConvergenceWarning: Objective did not converge. You might want to increase the number of iterations. Duality gap: 289289.4570371748, tolerance: 61.14089384236453\n",
      "  model = cd_fast.enet_coordinate_descent(\n",
      "C:\\Users\\Ilyass\\anaconda3\\lib\\site-packages\\sklearn\\linear_model\\_coordinate_descent.py:529: ConvergenceWarning: Objective did not converge. You might want to increase the number of iterations. Duality gap: 286273.3663720753, tolerance: 60.5635960591133\n",
      "  model = cd_fast.enet_coordinate_descent(\n",
      "C:\\Users\\Ilyass\\anaconda3\\lib\\site-packages\\sklearn\\linear_model\\_coordinate_descent.py:529: ConvergenceWarning: Objective did not converge. You might want to increase the number of iterations. Duality gap: 268788.62687948387, tolerance: 56.497910073710074\n",
      "  model = cd_fast.enet_coordinate_descent(\n",
      "C:\\Users\\Ilyass\\anaconda3\\lib\\site-packages\\sklearn\\linear_model\\_coordinate_descent.py:529: ConvergenceWarning: Objective did not converge. You might want to increase the number of iterations. Duality gap: 276906.61609000486, tolerance: 58.46584029484029\n",
      "  model = cd_fast.enet_coordinate_descent(\n",
      "C:\\Users\\Ilyass\\anaconda3\\lib\\site-packages\\sklearn\\linear_model\\_coordinate_descent.py:529: ConvergenceWarning: Objective did not converge. You might want to increase the number of iterations. Duality gap: 242430.25553882596, tolerance: 51.332769704433495\n",
      "  model = cd_fast.enet_coordinate_descent(\n",
      "C:\\Users\\Ilyass\\anaconda3\\lib\\site-packages\\sklearn\\linear_model\\_coordinate_descent.py:529: ConvergenceWarning: Objective did not converge. You might want to increase the number of iterations. Duality gap: 289395.1250846138, tolerance: 61.14089384236453\n",
      "  model = cd_fast.enet_coordinate_descent(\n",
      "C:\\Users\\Ilyass\\anaconda3\\lib\\site-packages\\sklearn\\linear_model\\_coordinate_descent.py:529: ConvergenceWarning: Objective did not converge. You might want to increase the number of iterations. Duality gap: 286378.76695058076, tolerance: 60.5635960591133\n",
      "  model = cd_fast.enet_coordinate_descent(\n",
      "C:\\Users\\Ilyass\\anaconda3\\lib\\site-packages\\sklearn\\linear_model\\_coordinate_descent.py:529: ConvergenceWarning: Objective did not converge. You might want to increase the number of iterations. Duality gap: 268880.1663617198, tolerance: 56.497910073710074\n",
      "  model = cd_fast.enet_coordinate_descent(\n",
      "C:\\Users\\Ilyass\\anaconda3\\lib\\site-packages\\sklearn\\linear_model\\_coordinate_descent.py:529: ConvergenceWarning: Objective did not converge. You might want to increase the number of iterations. Duality gap: 277007.7187459479, tolerance: 58.46584029484029\n",
      "  model = cd_fast.enet_coordinate_descent(\n",
      "C:\\Users\\Ilyass\\anaconda3\\lib\\site-packages\\sklearn\\linear_model\\_coordinate_descent.py:529: ConvergenceWarning: Objective did not converge. You might want to increase the number of iterations. Duality gap: 242523.2164334552, tolerance: 51.332769704433495\n",
      "  model = cd_fast.enet_coordinate_descent(\n",
      "C:\\Users\\Ilyass\\anaconda3\\lib\\site-packages\\sklearn\\linear_model\\_coordinate_descent.py:529: ConvergenceWarning: Objective did not converge. You might want to increase the number of iterations. Duality gap: 289499.3591964283, tolerance: 61.14089384236453\n",
      "  model = cd_fast.enet_coordinate_descent(\n",
      "C:\\Users\\Ilyass\\anaconda3\\lib\\site-packages\\sklearn\\linear_model\\_coordinate_descent.py:529: ConvergenceWarning: Objective did not converge. You might want to increase the number of iterations. Duality gap: 286482.75969818386, tolerance: 60.5635960591133\n",
      "  model = cd_fast.enet_coordinate_descent(\n",
      "C:\\Users\\Ilyass\\anaconda3\\lib\\site-packages\\sklearn\\linear_model\\_coordinate_descent.py:529: ConvergenceWarning: Objective did not converge. You might want to increase the number of iterations. Duality gap: 268970.4109379709, tolerance: 56.497910073710074\n",
      "  model = cd_fast.enet_coordinate_descent(\n",
      "C:\\Users\\Ilyass\\anaconda3\\lib\\site-packages\\sklearn\\linear_model\\_coordinate_descent.py:529: ConvergenceWarning: Objective did not converge. You might want to increase the number of iterations. Duality gap: 277107.4266728474, tolerance: 58.46584029484029\n",
      "  model = cd_fast.enet_coordinate_descent(\n",
      "C:\\Users\\Ilyass\\anaconda3\\lib\\site-packages\\sklearn\\linear_model\\_coordinate_descent.py:529: ConvergenceWarning: Objective did not converge. You might want to increase the number of iterations. Duality gap: 242614.90879764283, tolerance: 51.332769704433495\n",
      "  model = cd_fast.enet_coordinate_descent(\n",
      "C:\\Users\\Ilyass\\anaconda3\\lib\\site-packages\\sklearn\\linear_model\\_coordinate_descent.py:529: ConvergenceWarning: Objective did not converge. You might want to increase the number of iterations. Duality gap: 289602.19061788975, tolerance: 61.14089384236453\n",
      "  model = cd_fast.enet_coordinate_descent(\n",
      "C:\\Users\\Ilyass\\anaconda3\\lib\\site-packages\\sklearn\\linear_model\\_coordinate_descent.py:529: ConvergenceWarning: Objective did not converge. You might want to increase the number of iterations. Duality gap: 286585.37469910516, tolerance: 60.5635960591133\n",
      "  model = cd_fast.enet_coordinate_descent(\n",
      "C:\\Users\\Ilyass\\anaconda3\\lib\\site-packages\\sklearn\\linear_model\\_coordinate_descent.py:529: ConvergenceWarning: Objective did not converge. You might want to increase the number of iterations. Duality gap: 269059.39006070665, tolerance: 56.497910073710074\n",
      "  model = cd_fast.enet_coordinate_descent(\n",
      "C:\\Users\\Ilyass\\anaconda3\\lib\\site-packages\\sklearn\\linear_model\\_coordinate_descent.py:529: ConvergenceWarning: Objective did not converge. You might want to increase the number of iterations. Duality gap: 277205.7706965625, tolerance: 58.46584029484029\n",
      "  model = cd_fast.enet_coordinate_descent(\n"
     ]
    },
    {
     "name": "stderr",
     "output_type": "stream",
     "text": [
      "C:\\Users\\Ilyass\\anaconda3\\lib\\site-packages\\sklearn\\linear_model\\_coordinate_descent.py:529: ConvergenceWarning: Objective did not converge. You might want to increase the number of iterations. Duality gap: 242705.36008127453, tolerance: 51.332769704433495\n",
      "  model = cd_fast.enet_coordinate_descent(\n",
      "C:\\Users\\Ilyass\\anaconda3\\lib\\site-packages\\sklearn\\linear_model\\_coordinate_descent.py:529: ConvergenceWarning: Objective did not converge. You might want to increase the number of iterations. Duality gap: 289703.6496152255, tolerance: 61.14089384236453\n",
      "  model = cd_fast.enet_coordinate_descent(\n",
      "C:\\Users\\Ilyass\\anaconda3\\lib\\site-packages\\sklearn\\linear_model\\_coordinate_descent.py:529: ConvergenceWarning: Objective did not converge. You might want to increase the number of iterations. Duality gap: 286686.64111290156, tolerance: 60.5635960591133\n",
      "  model = cd_fast.enet_coordinate_descent(\n",
      "C:\\Users\\Ilyass\\anaconda3\\lib\\site-packages\\sklearn\\linear_model\\_coordinate_descent.py:529: ConvergenceWarning: Objective did not converge. You might want to increase the number of iterations. Duality gap: 269147.1322219398, tolerance: 56.497910073710074\n",
      "  model = cd_fast.enet_coordinate_descent(\n",
      "C:\\Users\\Ilyass\\anaconda3\\lib\\site-packages\\sklearn\\linear_model\\_coordinate_descent.py:529: ConvergenceWarning: Objective did not converge. You might want to increase the number of iterations. Duality gap: 277302.7806653202, tolerance: 58.46584029484029\n",
      "  model = cd_fast.enet_coordinate_descent(\n",
      "C:\\Users\\Ilyass\\anaconda3\\lib\\site-packages\\sklearn\\linear_model\\_coordinate_descent.py:529: ConvergenceWarning: Objective did not converge. You might want to increase the number of iterations. Duality gap: 242794.5968913669, tolerance: 51.332769704433495\n",
      "  model = cd_fast.enet_coordinate_descent(\n",
      "C:\\Users\\Ilyass\\anaconda3\\lib\\site-packages\\sklearn\\linear_model\\_coordinate_descent.py:529: ConvergenceWarning: Objective did not converge. You might want to increase the number of iterations. Duality gap: 289803.7655167991, tolerance: 61.14089384236453\n",
      "  model = cd_fast.enet_coordinate_descent(\n",
      "C:\\Users\\Ilyass\\anaconda3\\lib\\site-packages\\sklearn\\linear_model\\_coordinate_descent.py:529: ConvergenceWarning: Objective did not converge. You might want to increase the number of iterations. Duality gap: 286786.58721277886, tolerance: 60.5635960591133\n",
      "  model = cd_fast.enet_coordinate_descent(\n",
      "C:\\Users\\Ilyass\\anaconda3\\lib\\site-packages\\sklearn\\linear_model\\_coordinate_descent.py:529: ConvergenceWarning: Objective did not converge. You might want to increase the number of iterations. Duality gap: 269233.66499499977, tolerance: 56.497910073710074\n",
      "  model = cd_fast.enet_coordinate_descent(\n",
      "C:\\Users\\Ilyass\\anaconda3\\lib\\site-packages\\sklearn\\linear_model\\_coordinate_descent.py:529: ConvergenceWarning: Objective did not converge. You might want to increase the number of iterations. Duality gap: 277398.4854912739, tolerance: 58.46584029484029\n",
      "  model = cd_fast.enet_coordinate_descent(\n",
      "C:\\Users\\Ilyass\\anaconda3\\lib\\site-packages\\sklearn\\linear_model\\_coordinate_descent.py:529: ConvergenceWarning: Objective did not converge. You might want to increase the number of iterations. Duality gap: 242882.6450264527, tolerance: 51.332769704433495\n",
      "  model = cd_fast.enet_coordinate_descent(\n",
      "C:\\Users\\Ilyass\\anaconda3\\lib\\site-packages\\sklearn\\linear_model\\_coordinate_descent.py:529: ConvergenceWarning: Objective did not converge. You might want to increase the number of iterations. Duality gap: 289902.56675208494, tolerance: 61.14089384236453\n",
      "  model = cd_fast.enet_coordinate_descent(\n",
      "C:\\Users\\Ilyass\\anaconda3\\lib\\site-packages\\sklearn\\linear_model\\_coordinate_descent.py:529: ConvergenceWarning: Objective did not converge. You might want to increase the number of iterations. Duality gap: 286885.24042188225, tolerance: 60.5635960591133\n",
      "  model = cd_fast.enet_coordinate_descent(\n",
      "C:\\Users\\Ilyass\\anaconda3\\lib\\site-packages\\sklearn\\linear_model\\_coordinate_descent.py:529: ConvergenceWarning: Objective did not converge. You might want to increase the number of iterations. Duality gap: 269319.01507401565, tolerance: 56.497910073710074\n",
      "  model = cd_fast.enet_coordinate_descent(\n",
      "C:\\Users\\Ilyass\\anaconda3\\lib\\site-packages\\sklearn\\linear_model\\_coordinate_descent.py:529: ConvergenceWarning: Objective did not converge. You might want to increase the number of iterations. Duality gap: 277492.9131898189, tolerance: 58.46584029484029\n",
      "  model = cd_fast.enet_coordinate_descent(\n",
      "C:\\Users\\Ilyass\\anaconda3\\lib\\site-packages\\sklearn\\linear_model\\_coordinate_descent.py:529: ConvergenceWarning: Objective did not converge. You might want to increase the number of iterations. Duality gap: 242969.52950918992, tolerance: 51.332769704433495\n",
      "  model = cd_fast.enet_coordinate_descent(\n",
      "C:\\Users\\Ilyass\\anaconda3\\lib\\site-packages\\sklearn\\linear_model\\_coordinate_descent.py:529: ConvergenceWarning: Objective did not converge. You might want to increase the number of iterations. Duality gap: 290000.0808885891, tolerance: 61.14089384236453\n",
      "  model = cd_fast.enet_coordinate_descent(\n",
      "C:\\Users\\Ilyass\\anaconda3\\lib\\site-packages\\sklearn\\linear_model\\_coordinate_descent.py:529: ConvergenceWarning: Objective did not converge. You might want to increase the number of iterations. Duality gap: 286982.62734767696, tolerance: 60.5635960591133\n",
      "  model = cd_fast.enet_coordinate_descent(\n",
      "C:\\Users\\Ilyass\\anaconda3\\lib\\site-packages\\sklearn\\linear_model\\_coordinate_descent.py:529: ConvergenceWarning: Objective did not converge. You might want to increase the number of iterations. Duality gap: 269403.2083112573, tolerance: 56.497910073710074\n",
      "  model = cd_fast.enet_coordinate_descent(\n",
      "C:\\Users\\Ilyass\\anaconda3\\lib\\site-packages\\sklearn\\linear_model\\_coordinate_descent.py:529: ConvergenceWarning: Objective did not converge. You might want to increase the number of iterations. Duality gap: 277586.0909168085, tolerance: 58.46584029484029\n",
      "  model = cd_fast.enet_coordinate_descent(\n",
      "C:\\Users\\Ilyass\\anaconda3\\lib\\site-packages\\sklearn\\linear_model\\_coordinate_descent.py:529: ConvergenceWarning: Objective did not converge. You might want to increase the number of iterations. Duality gap: 243055.27461731085, tolerance: 51.332769704433495\n",
      "  model = cd_fast.enet_coordinate_descent(\n",
      "C:\\Users\\Ilyass\\anaconda3\\lib\\site-packages\\sklearn\\linear_model\\_coordinate_descent.py:529: ConvergenceWarning: Objective did not converge. You might want to increase the number of iterations. Duality gap: 290096.33466683986, tolerance: 61.14089384236453\n",
      "  model = cd_fast.enet_coordinate_descent(\n",
      "C:\\Users\\Ilyass\\anaconda3\\lib\\site-packages\\sklearn\\linear_model\\_coordinate_descent.py:529: ConvergenceWarning: Objective did not converge. You might want to increase the number of iterations. Duality gap: 287078.77381455794, tolerance: 60.5635960591133\n",
      "  model = cd_fast.enet_coordinate_descent(\n",
      "C:\\Users\\Ilyass\\anaconda3\\lib\\site-packages\\sklearn\\linear_model\\_coordinate_descent.py:529: ConvergenceWarning: Objective did not converge. You might want to increase the number of iterations. Duality gap: 269486.2697524754, tolerance: 56.497910073710074\n",
      "  model = cd_fast.enet_coordinate_descent(\n",
      "C:\\Users\\Ilyass\\anaconda3\\lib\\site-packages\\sklearn\\linear_model\\_coordinate_descent.py:529: ConvergenceWarning: Objective did not converge. You might want to increase the number of iterations. Duality gap: 277678.04500381416, tolerance: 58.46584029484029\n",
      "  model = cd_fast.enet_coordinate_descent(\n",
      "C:\\Users\\Ilyass\\anaconda3\\lib\\site-packages\\sklearn\\linear_model\\_coordinate_descent.py:529: ConvergenceWarning: Objective did not converge. You might want to increase the number of iterations. Duality gap: 243139.90391300886, tolerance: 51.332769704433495\n",
      "  model = cd_fast.enet_coordinate_descent(\n",
      "C:\\Users\\Ilyass\\anaconda3\\lib\\site-packages\\sklearn\\linear_model\\_coordinate_descent.py:529: ConvergenceWarning: Objective did not converge. You might want to increase the number of iterations. Duality gap: 290191.35403357854, tolerance: 61.14089384236453\n",
      "  model = cd_fast.enet_coordinate_descent(\n",
      "C:\\Users\\Ilyass\\anaconda3\\lib\\site-packages\\sklearn\\linear_model\\_coordinate_descent.py:529: ConvergenceWarning: Objective did not converge. You might want to increase the number of iterations. Duality gap: 287173.7048947914, tolerance: 60.5635960591133\n",
      "  model = cd_fast.enet_coordinate_descent(\n",
      "C:\\Users\\Ilyass\\anaconda3\\lib\\site-packages\\sklearn\\linear_model\\_coordinate_descent.py:529: ConvergenceWarning: Objective did not converge. You might want to increase the number of iterations. Duality gap: 269568.223670373, tolerance: 56.497910073710074\n",
      "  model = cd_fast.enet_coordinate_descent(\n",
      "C:\\Users\\Ilyass\\anaconda3\\lib\\site-packages\\sklearn\\linear_model\\_coordinate_descent.py:529: ConvergenceWarning: Objective did not converge. You might want to increase the number of iterations. Duality gap: 277768.80099154374, tolerance: 58.46584029484029\n",
      "  model = cd_fast.enet_coordinate_descent(\n"
     ]
    },
    {
     "name": "stderr",
     "output_type": "stream",
     "text": [
      "C:\\Users\\Ilyass\\anaconda3\\lib\\site-packages\\sklearn\\linear_model\\_coordinate_descent.py:529: ConvergenceWarning: Objective did not converge. You might want to increase the number of iterations. Duality gap: 243223.44027086455, tolerance: 51.332769704433495\n",
      "  model = cd_fast.enet_coordinate_descent(\n",
      "C:\\Users\\Ilyass\\anaconda3\\lib\\site-packages\\sklearn\\linear_model\\_coordinate_descent.py:529: ConvergenceWarning: Objective did not converge. You might want to increase the number of iterations. Duality gap: 290285.1641732553, tolerance: 61.14089384236453\n",
      "  model = cd_fast.enet_coordinate_descent(\n",
      "C:\\Users\\Ilyass\\anaconda3\\lib\\site-packages\\sklearn\\linear_model\\_coordinate_descent.py:529: ConvergenceWarning: Objective did not converge. You might want to increase the number of iterations. Duality gap: 287267.4449378933, tolerance: 60.5635960591133\n",
      "  model = cd_fast.enet_coordinate_descent(\n",
      "C:\\Users\\Ilyass\\anaconda3\\lib\\site-packages\\sklearn\\linear_model\\_coordinate_descent.py:529: ConvergenceWarning: Objective did not converge. You might want to increase the number of iterations. Duality gap: 269649.0935963248, tolerance: 56.497910073710074\n",
      "  model = cd_fast.enet_coordinate_descent(\n",
      "C:\\Users\\Ilyass\\anaconda3\\lib\\site-packages\\sklearn\\linear_model\\_coordinate_descent.py:529: ConvergenceWarning: Objective did not converge. You might want to increase the number of iterations. Duality gap: 277858.38366154564, tolerance: 58.46584029484029\n",
      "  model = cd_fast.enet_coordinate_descent(\n",
      "C:\\Users\\Ilyass\\anaconda3\\lib\\site-packages\\sklearn\\linear_model\\_coordinate_descent.py:529: ConvergenceWarning: Objective did not converge. You might want to increase the number of iterations. Duality gap: 243305.9059043913, tolerance: 51.332769704433495\n",
      "  model = cd_fast.enet_coordinate_descent(\n",
      "C:\\Users\\Ilyass\\anaconda3\\lib\\site-packages\\sklearn\\linear_model\\_coordinate_descent.py:529: ConvergenceWarning: Objective did not converge. You might want to increase the number of iterations. Duality gap: 290377.78953794093, tolerance: 61.14089384236453\n",
      "  model = cd_fast.enet_coordinate_descent(\n",
      "C:\\Users\\Ilyass\\anaconda3\\lib\\site-packages\\sklearn\\linear_model\\_coordinate_descent.py:529: ConvergenceWarning: Objective did not converge. You might want to increase the number of iterations. Duality gap: 287360.01759854826, tolerance: 60.5635960591133\n",
      "  model = cd_fast.enet_coordinate_descent(\n",
      "C:\\Users\\Ilyass\\anaconda3\\lib\\site-packages\\sklearn\\linear_model\\_coordinate_descent.py:529: ConvergenceWarning: Objective did not converge. You might want to increase the number of iterations. Duality gap: 269728.9023504552, tolerance: 56.497910073710074\n",
      "  model = cd_fast.enet_coordinate_descent(\n",
      "C:\\Users\\Ilyass\\anaconda3\\lib\\site-packages\\sklearn\\linear_model\\_coordinate_descent.py:529: ConvergenceWarning: Objective did not converge. You might want to increase the number of iterations. Duality gap: 277946.81706630095, tolerance: 58.46584029484029\n",
      "  model = cd_fast.enet_coordinate_descent(\n",
      "C:\\Users\\Ilyass\\anaconda3\\lib\\site-packages\\sklearn\\linear_model\\_coordinate_descent.py:529: ConvergenceWarning: Objective did not converge. You might want to increase the number of iterations. Duality gap: 243387.3223912926, tolerance: 51.332769704433495\n",
      "  model = cd_fast.enet_coordinate_descent(\n",
      "C:\\Users\\Ilyass\\anaconda3\\lib\\site-packages\\sklearn\\linear_model\\_coordinate_descent.py:529: ConvergenceWarning: Objective did not converge. You might want to increase the number of iterations. Duality gap: 290469.2538757497, tolerance: 61.14089384236453\n",
      "  model = cd_fast.enet_coordinate_descent(\n",
      "C:\\Users\\Ilyass\\anaconda3\\lib\\site-packages\\sklearn\\linear_model\\_coordinate_descent.py:529: ConvergenceWarning: Objective did not converge. You might want to increase the number of iterations. Duality gap: 287451.4458631426, tolerance: 60.5635960591133\n",
      "  model = cd_fast.enet_coordinate_descent(\n",
      "C:\\Users\\Ilyass\\anaconda3\\lib\\site-packages\\sklearn\\linear_model\\_coordinate_descent.py:529: ConvergenceWarning: Objective did not converge. You might want to increase the number of iterations. Duality gap: 269807.672070178, tolerance: 56.497910073710074\n",
      "  model = cd_fast.enet_coordinate_descent(\n",
      "C:\\Users\\Ilyass\\anaconda3\\lib\\site-packages\\sklearn\\linear_model\\_coordinate_descent.py:529: ConvergenceWarning: Objective did not converge. You might want to increase the number of iterations. Duality gap: 278034.1245577964, tolerance: 58.46584029484029\n",
      "  model = cd_fast.enet_coordinate_descent(\n",
      "C:\\Users\\Ilyass\\anaconda3\\lib\\site-packages\\sklearn\\linear_model\\_coordinate_descent.py:529: ConvergenceWarning: Objective did not converge. You might want to increase the number of iterations. Duality gap: 243467.71069749966, tolerance: 51.332769704433495\n",
      "  model = cd_fast.enet_coordinate_descent(\n",
      "C:\\Users\\Ilyass\\anaconda3\\lib\\site-packages\\sklearn\\linear_model\\_coordinate_descent.py:529: ConvergenceWarning: Objective did not converge. You might want to increase the number of iterations. Duality gap: 290559.5802578612, tolerance: 61.14089384236453\n",
      "  model = cd_fast.enet_coordinate_descent(\n",
      "C:\\Users\\Ilyass\\anaconda3\\lib\\site-packages\\sklearn\\linear_model\\_coordinate_descent.py:529: ConvergenceWarning: Objective did not converge. You might want to increase the number of iterations. Duality gap: 287541.7520750161, tolerance: 60.5635960591133\n",
      "  model = cd_fast.enet_coordinate_descent(\n",
      "C:\\Users\\Ilyass\\anaconda3\\lib\\site-packages\\sklearn\\linear_model\\_coordinate_descent.py:529: ConvergenceWarning: Objective did not converge. You might want to increase the number of iterations. Duality gap: 269885.4242372955, tolerance: 56.497910073710074\n",
      "  model = cd_fast.enet_coordinate_descent(\n",
      "C:\\Users\\Ilyass\\anaconda3\\lib\\site-packages\\sklearn\\linear_model\\_coordinate_descent.py:529: ConvergenceWarning: Objective did not converge. You might want to increase the number of iterations. Duality gap: 278120.3288146885, tolerance: 58.46584029484029\n",
      "  model = cd_fast.enet_coordinate_descent(\n",
      "C:\\Users\\Ilyass\\anaconda3\\lib\\site-packages\\sklearn\\linear_model\\_coordinate_descent.py:529: ConvergenceWarning: Objective did not converge. You might want to increase the number of iterations. Duality gap: 243547.0912000627, tolerance: 51.332769704433495\n",
      "  model = cd_fast.enet_coordinate_descent(\n",
      "C:\\Users\\Ilyass\\anaconda3\\lib\\site-packages\\sklearn\\linear_model\\_coordinate_descent.py:529: ConvergenceWarning: Objective did not converge. You might want to increase the number of iterations. Duality gap: 290648.7911042282, tolerance: 61.14089384236453\n",
      "  model = cd_fast.enet_coordinate_descent(\n",
      "C:\\Users\\Ilyass\\anaconda3\\lib\\site-packages\\sklearn\\linear_model\\_coordinate_descent.py:529: ConvergenceWarning: Objective did not converge. You might want to increase the number of iterations. Duality gap: 287630.9579584883, tolerance: 60.5635960591133\n",
      "  model = cd_fast.enet_coordinate_descent(\n",
      "C:\\Users\\Ilyass\\anaconda3\\lib\\site-packages\\sklearn\\linear_model\\_coordinate_descent.py:529: ConvergenceWarning: Objective did not converge. You might want to increase the number of iterations. Duality gap: 269962.1797037391, tolerance: 56.497910073710074\n",
      "  model = cd_fast.enet_coordinate_descent(\n",
      "C:\\Users\\Ilyass\\anaconda3\\lib\\site-packages\\sklearn\\linear_model\\_coordinate_descent.py:529: ConvergenceWarning: Objective did not converge. You might want to increase the number of iterations. Duality gap: 278205.45186812425, tolerance: 58.46584029484029\n",
      "  model = cd_fast.enet_coordinate_descent(\n",
      "C:\\Users\\Ilyass\\anaconda3\\lib\\site-packages\\sklearn\\linear_model\\_coordinate_descent.py:529: ConvergenceWarning: Objective did not converge. You might want to increase the number of iterations. Duality gap: 243625.48370896577, tolerance: 51.332769704433495\n",
      "  model = cd_fast.enet_coordinate_descent(\n",
      "C:\\Users\\Ilyass\\anaconda3\\lib\\site-packages\\sklearn\\linear_model\\_coordinate_descent.py:529: ConvergenceWarning: Objective did not converge. You might want to increase the number of iterations. Duality gap: 290736.90820804855, tolerance: 61.14089384236453\n",
      "  model = cd_fast.enet_coordinate_descent(\n",
      "C:\\Users\\Ilyass\\anaconda3\\lib\\site-packages\\sklearn\\linear_model\\_coordinate_descent.py:529: ConvergenceWarning: Objective did not converge. You might want to increase the number of iterations. Duality gap: 287719.0846417469, tolerance: 60.5635960591133\n",
      "  model = cd_fast.enet_coordinate_descent(\n",
      "C:\\Users\\Ilyass\\anaconda3\\lib\\site-packages\\sklearn\\linear_model\\_coordinate_descent.py:529: ConvergenceWarning: Objective did not converge. You might want to increase the number of iterations. Duality gap: 270037.9587160408, tolerance: 56.497910073710074\n",
      "  model = cd_fast.enet_coordinate_descent(\n",
      "C:\\Users\\Ilyass\\anaconda3\\lib\\site-packages\\sklearn\\linear_model\\_coordinate_descent.py:529: ConvergenceWarning: Objective did not converge. You might want to increase the number of iterations. Duality gap: 278289.51512631524, tolerance: 58.46584029484029\n",
      "  model = cd_fast.enet_coordinate_descent(\n"
     ]
    },
    {
     "name": "stderr",
     "output_type": "stream",
     "text": [
      "C:\\Users\\Ilyass\\anaconda3\\lib\\site-packages\\sklearn\\linear_model\\_coordinate_descent.py:529: ConvergenceWarning: Objective did not converge. You might want to increase the number of iterations. Duality gap: 243702.90748791862, tolerance: 51.332769704433495\n",
      "  model = cd_fast.enet_coordinate_descent(\n",
      "C:\\Users\\Ilyass\\anaconda3\\lib\\site-packages\\sklearn\\linear_model\\_coordinate_descent.py:529: ConvergenceWarning: Objective did not converge. You might want to increase the number of iterations. Duality gap: 290823.9527590675, tolerance: 61.14089384236453\n",
      "  model = cd_fast.enet_coordinate_descent(\n",
      "C:\\Users\\Ilyass\\anaconda3\\lib\\site-packages\\sklearn\\linear_model\\_coordinate_descent.py:529: ConvergenceWarning: Objective did not converge. You might want to increase the number of iterations. Duality gap: 287806.1526786558, tolerance: 60.5635960591133\n",
      "  model = cd_fast.enet_coordinate_descent(\n",
      "C:\\Users\\Ilyass\\anaconda3\\lib\\site-packages\\sklearn\\linear_model\\_coordinate_descent.py:529: ConvergenceWarning: Objective did not converge. You might want to increase the number of iterations. Duality gap: 270112.7809386031, tolerance: 56.497910073710074\n",
      "  model = cd_fast.enet_coordinate_descent(\n",
      "C:\\Users\\Ilyass\\anaconda3\\lib\\site-packages\\sklearn\\linear_model\\_coordinate_descent.py:529: ConvergenceWarning: Objective did not converge. You might want to increase the number of iterations. Duality gap: 278372.5393979213, tolerance: 58.46584029484029\n",
      "  model = cd_fast.enet_coordinate_descent(\n"
     ]
    },
    {
     "data": {
      "text/plain": [
       "GridSearchCV(cv=5, estimator=ElasticNet(),\n",
       "             param_grid={'alpha': array([1.00000000e-04, 1.01109091e-01, 2.02118182e-01, 3.03127273e-01,\n",
       "       4.04136364e-01, 5.05145455e-01, 6.06154545e-01, 7.07163636e-01,\n",
       "       8.08172727e-01, 9.09181818e-01, 1.01019091e+00, 1.11120000e+00,\n",
       "       1.21220909e+00, 1.31321818e+00, 1.41422727e+00, 1.51523636e+00,\n",
       "       1.61624545e+00, 1.71725455e+00, 1.81826364e+...\n",
       "       8.48486364e+00, 8.58587273e+00, 8.68688182e+00, 8.78789091e+00,\n",
       "       8.88890000e+00, 8.98990909e+00, 9.09091818e+00, 9.19192727e+00,\n",
       "       9.29293636e+00, 9.39394545e+00, 9.49495455e+00, 9.59596364e+00,\n",
       "       9.69697273e+00, 9.79798182e+00, 9.89899091e+00, 1.00000000e+01]),\n",
       "                         'l1_ratio': array([0.        , 0.11111111, 0.22222222, 0.33333333, 0.44444444,\n",
       "       0.55555556, 0.66666667, 0.77777778, 0.88888889, 1.        ])},\n",
       "             scoring='neg_mean_absolute_error')"
      ]
     },
     "execution_count": 77,
     "metadata": {},
     "output_type": "execute_result"
    }
   ],
   "source": [
    "reg_en.fit(X1_sj_train_std, y1_sj_train)"
   ]
  },
  {
   "cell_type": "code",
   "execution_count": 78,
   "metadata": {
    "scrolled": true
   },
   "outputs": [
    {
     "name": "stdout",
     "output_type": "stream",
     "text": [
      "{'alpha': 0.9091818181818182, 'l1_ratio': 1.0}\n",
      "-21.202503781246314\n"
     ]
    }
   ],
   "source": [
    "#quelle est le meilleur hyper_param selectionner?\n",
    "\n",
    "print(reg_en.best_params_)\n",
    "print(reg_en.best_score_)"
   ]
  },
  {
   "cell_type": "markdown",
   "metadata": {},
   "source": [
    "## les approches naives\n",
    "\n",
    "- Les performances d'un modèle dépendent du jeu de données.\n",
    "\n",
    "- Les approches naïves sont des approches simples qui n'apprennent pas vraiment mais servent de point de comparaison pour évaluer nos modèles.\n",
    "\n",
    "Dans le cas d'algorithmes de régression, on pourra envisager les deux approches naïves suivantes :\n",
    "\n",
    "- Un modèle qui « prédit » **une valeur aléatoire**, uniformément entre la plus petite et la plus grande des étiquettes du jeu d'entraînement.\n",
    "\n",
    "- Un modèle qui retourne toujours **la même valeur**, par exemple la moyenne ou la médiane des étiquettes du jeu d'entraînement."
   ]
  },
  {
   "cell_type": "code",
   "execution_count": 79,
   "metadata": {},
   "outputs": [],
   "source": [
    "# KNeighborsRegressor(n_neighbors=11)\n",
    "from sklearn import neighbors"
   ]
  },
  {
   "cell_type": "code",
   "execution_count": 80,
   "metadata": {},
   "outputs": [],
   "source": [
    "knn = GridSearchCV(neighbors.KNeighborsRegressor(),\n",
    "                  {'n_neighbors':[1,2,3,4,5,6,7,8,9,10,11,12,13,14,15]}, \n",
    "                   cv=5,\n",
    "                   scoring='neg_mean_absolute_error')"
   ]
  },
  {
   "cell_type": "code",
   "execution_count": 81,
   "metadata": {},
   "outputs": [
    {
     "data": {
      "text/plain": [
       "GridSearchCV(cv=5, estimator=KNeighborsRegressor(),\n",
       "             param_grid={'n_neighbors': [1, 2, 3, 4, 5, 6, 7, 8, 9, 10, 11, 12,\n",
       "                                         13, 14, 15]},\n",
       "             scoring='neg_mean_absolute_error')"
      ]
     },
     "execution_count": 81,
     "metadata": {},
     "output_type": "execute_result"
    }
   ],
   "source": [
    "knn.fit(X_sj_train, y_sj_train)"
   ]
  },
  {
   "cell_type": "code",
   "execution_count": 82,
   "metadata": {},
   "outputs": [
    {
     "name": "stdout",
     "output_type": "stream",
     "text": [
      "{'n_neighbors': 7}\n",
      "-20.67155963302752\n"
     ]
    }
   ],
   "source": [
    "#quelle est le meilleur hyper_param selectionner?\n",
    "\n",
    "print(knn.best_params_)\n",
    "print(knn.best_score_)"
   ]
  },
  {
   "cell_type": "code",
   "execution_count": 83,
   "metadata": {},
   "outputs": [],
   "source": [
    "y_pred = knn.predict(X_sj_test)"
   ]
  },
  {
   "cell_type": "code",
   "execution_count": 84,
   "metadata": {},
   "outputs": [
    {
     "data": {
      "text/plain": [
       "17.76452119309262"
      ]
     },
     "execution_count": 84,
     "metadata": {},
     "output_type": "execute_result"
    }
   ],
   "source": [
    "mean_absolute_error(y_sj_test, y_pred)"
   ]
  },
  {
   "cell_type": "code",
   "execution_count": 85,
   "metadata": {},
   "outputs": [],
   "source": [
    "#pair valeur reel /valeur predite\n",
    "sizes= {}\n",
    "for (yt,yp) in zip(list(y_sj_test),list(y_pred)):\n",
    "    if (yt,yp) in sizes:\n",
    "        sizes[(yt,yp)] +=1\n",
    "    else:\n",
    "        sizes[(yt,yp)] =1"
   ]
  },
  {
   "cell_type": "code",
   "execution_count": 86,
   "metadata": {},
   "outputs": [
    {
     "data": {
      "text/plain": [
       "<matplotlib.collections.PathCollection at 0x2d167bcb970>"
      ]
     },
     "execution_count": 86,
     "metadata": {},
     "output_type": "execute_result"
    },
    {
     "data": {
      "image/png": "[encoded data removed]",
      "text/plain": [
       "<Figure size 432x288 with 1 Axes>"
      ]
     },
     "metadata": {
      "needs_background": "light"
     },
     "output_type": "display_data"
    }
   ],
   "source": [
    "keys = sizes.keys()\n",
    "plt.scatter(\n",
    "    [k[0] for k in keys],\n",
    "    [k[1] for k in keys],\n",
    "    s=[sizes[k] for k in keys],\n",
    "    color='coral'  \n",
    "           )"
   ]
  },
  {
   "cell_type": "code",
   "execution_count": 87,
   "metadata": {},
   "outputs": [],
   "source": [
    "#1er approche naive : valeur aleatoire\n",
    "y_pred_random = np.random.randint(\n",
    "    np.min(y_sj_train),\n",
    "    np.max(y_sj_train),\n",
    "    y_sj_test.shape)"
   ]
  },
  {
   "cell_type": "code",
   "execution_count": 88,
   "metadata": {},
   "outputs": [
    {
     "data": {
      "text/plain": [
       "111.3021978021978"
      ]
     },
     "execution_count": 88,
     "metadata": {},
     "output_type": "execute_result"
    }
   ],
   "source": [
    "mean_absolute_error(y_sj_test, y_pred_random)# KNN meilleur que approche aleatoire"
   ]
  },
  {
   "cell_type": "code",
   "execution_count": 89,
   "metadata": {},
   "outputs": [],
   "source": [
    "#pair valeur reel /valeur predite\n",
    "sizes_random= {}\n",
    "for (yt,yp) in zip(list(y_sj_test),list(y_pred_random)):\n",
    "    if (yt,yp) in sizes_random:\n",
    "        sizes_random[(yt,yp)] +=1\n",
    "    else:\n",
    "        sizes_random[(yt,yp)] =1"
   ]
  },
  {
   "cell_type": "code",
   "execution_count": 90,
   "metadata": {},
   "outputs": [
    {
     "data": {
      "text/plain": [
       "<matplotlib.collections.PathCollection at 0x2d16904da30>"
      ]
     },
     "execution_count": 90,
     "metadata": {},
     "output_type": "execute_result"
    },
    {
     "data": {
      "image/png": "[encoded data removed]",
      "text/plain": [
       "<Figure size 432x288 with 1 Axes>"
      ]
     },
     "metadata": {
      "needs_background": "light"
     },
     "output_type": "display_data"
    }
   ],
   "source": [
    "keys = sizes_random.keys()\n",
    "plt.scatter(\n",
    "    [k[0] for k in keys],\n",
    "    [k[1] for k in keys],\n",
    "    s=[sizes_random[k] for k in keys],\n",
    "    color='steelblue'  \n",
    "           )\n",
    "\n",
    "keys = sizes.keys()\n",
    "plt.scatter(\n",
    "    [k[0] for k in keys],\n",
    "    [k[1] for k in keys],\n",
    "    s=[sizes[k] for k in keys],\n",
    "    color='coral'  \n",
    "           )"
   ]
  },
  {
   "cell_type": "code",
   "execution_count": 91,
   "metadata": {},
   "outputs": [],
   "source": [
    "#prédir la moyenne des valeur dans le jeu de données\n",
    "from sklearn import dummy"
   ]
  },
  {
   "cell_type": "code",
   "execution_count": 92,
   "metadata": {},
   "outputs": [],
   "source": [
    "dum = dummy.DummyRegressor(strategy='mean')"
   ]
  },
  {
   "cell_type": "code",
   "execution_count": 93,
   "metadata": {},
   "outputs": [
    {
     "data": {
      "text/plain": [
       "DummyRegressor()"
      ]
     },
     "execution_count": 93,
     "metadata": {},
     "output_type": "execute_result"
    }
   ],
   "source": [
    "dum.fit(X_sj_train, y_sj_train)"
   ]
  },
  {
   "cell_type": "code",
   "execution_count": 94,
   "metadata": {},
   "outputs": [
    {
     "data": {
      "text/plain": [
       "array([30.57431193, 30.57431193, 30.57431193, 30.57431193, 30.57431193,\n",
       "       30.57431193, 30.57431193, 30.57431193, 30.57431193, 30.57431193,\n",
       "       30.57431193, 30.57431193, 30.57431193, 30.57431193, 30.57431193,\n",
       "       30.57431193, 30.57431193, 30.57431193, 30.57431193, 30.57431193,\n",
       "       30.57431193, 30.57431193, 30.57431193, 30.57431193, 30.57431193,\n",
       "       30.57431193, 30.57431193, 30.57431193, 30.57431193, 30.57431193,\n",
       "       30.57431193, 30.57431193, 30.57431193, 30.57431193, 30.57431193,\n",
       "       30.57431193, 30.57431193, 30.57431193, 30.57431193, 30.57431193,\n",
       "       30.57431193, 30.57431193, 30.57431193, 30.57431193, 30.57431193,\n",
       "       30.57431193, 30.57431193, 30.57431193, 30.57431193, 30.57431193,\n",
       "       30.57431193, 30.57431193, 30.57431193, 30.57431193, 30.57431193,\n",
       "       30.57431193, 30.57431193, 30.57431193, 30.57431193, 30.57431193,\n",
       "       30.57431193, 30.57431193, 30.57431193, 30.57431193, 30.57431193,\n",
       "       30.57431193, 30.57431193, 30.57431193, 30.57431193, 30.57431193,\n",
       "       30.57431193, 30.57431193, 30.57431193, 30.57431193, 30.57431193,\n",
       "       30.57431193, 30.57431193, 30.57431193, 30.57431193, 30.57431193,\n",
       "       30.57431193, 30.57431193, 30.57431193, 30.57431193, 30.57431193,\n",
       "       30.57431193, 30.57431193, 30.57431193, 30.57431193, 30.57431193,\n",
       "       30.57431193, 30.57431193, 30.57431193, 30.57431193, 30.57431193,\n",
       "       30.57431193, 30.57431193, 30.57431193, 30.57431193, 30.57431193,\n",
       "       30.57431193, 30.57431193, 30.57431193, 30.57431193, 30.57431193,\n",
       "       30.57431193, 30.57431193, 30.57431193, 30.57431193, 30.57431193,\n",
       "       30.57431193, 30.57431193, 30.57431193, 30.57431193, 30.57431193,\n",
       "       30.57431193, 30.57431193, 30.57431193, 30.57431193, 30.57431193,\n",
       "       30.57431193, 30.57431193, 30.57431193, 30.57431193, 30.57431193,\n",
       "       30.57431193, 30.57431193, 30.57431193, 30.57431193, 30.57431193,\n",
       "       30.57431193, 30.57431193, 30.57431193, 30.57431193, 30.57431193,\n",
       "       30.57431193, 30.57431193, 30.57431193, 30.57431193, 30.57431193,\n",
       "       30.57431193, 30.57431193, 30.57431193, 30.57431193, 30.57431193,\n",
       "       30.57431193, 30.57431193, 30.57431193, 30.57431193, 30.57431193,\n",
       "       30.57431193, 30.57431193, 30.57431193, 30.57431193, 30.57431193,\n",
       "       30.57431193, 30.57431193, 30.57431193, 30.57431193, 30.57431193,\n",
       "       30.57431193, 30.57431193, 30.57431193, 30.57431193, 30.57431193,\n",
       "       30.57431193, 30.57431193, 30.57431193, 30.57431193, 30.57431193,\n",
       "       30.57431193, 30.57431193, 30.57431193, 30.57431193, 30.57431193,\n",
       "       30.57431193, 30.57431193, 30.57431193, 30.57431193, 30.57431193,\n",
       "       30.57431193, 30.57431193])"
      ]
     },
     "execution_count": 94,
     "metadata": {},
     "output_type": "execute_result"
    }
   ],
   "source": [
    "y_pred_dum = dum.predict(X_sj_test)\n",
    "y_pred_dum"
   ]
  },
  {
   "cell_type": "code",
   "execution_count": 95,
   "metadata": {},
   "outputs": [
    {
     "data": {
      "text/plain": [
       "22.716211311624157"
      ]
     },
     "execution_count": 95,
     "metadata": {},
     "output_type": "execute_result"
    }
   ],
   "source": [
    "mean_absolute_error(y_sj_test, y_pred_dum)# KNN meilleur que approche aleatoire"
   ]
  },
  {
   "cell_type": "code",
   "execution_count": null,
   "metadata": {},
   "outputs": [],
   "source": []
  },
  {
   "cell_type": "code",
   "execution_count": null,
   "metadata": {},
   "outputs": [],
   "source": []
  }
 ],
 "metadata": {
  "kernelspec": {
   "display_name": "Python 3",
   "language": "python",
   "name": "python3"
  },
  "language_info": {
   "codemirror_mode": {
    "name": "ipython",
    "version": 3
   },
   "file_extension": ".py",
   "mimetype": "text/x-python",
   "name": "python",
   "nbconvert_exporter": "python",
   "pygments_lexer": "ipython3",
   "version": "3.8.8"
  }
 },
 "nbformat": 4,
 "nbformat_minor": 4
}
